{
 "cells": [
  {
   "cell_type": "markdown",
   "id": "dab6e5ec",
   "metadata": {},
   "source": [
    "# Implementation - Futures Testnet API"
   ]
  },
  {
   "cell_type": "markdown",
   "id": "4f19bb62",
   "metadata": {},
   "source": [
    "__Insert your Futures Testnet Credentials here__:"
   ]
  },
  {
   "cell_type": "code",
   "execution_count": 5,
   "id": "2b9a8ea5",
   "metadata": {},
   "outputs": [],
   "source": [
    "api_key = \"1bb7096938ecb91287b19692ce9de6d6b5e32f9deca12cbaf904148d58b61491\"\n",
    "secret_key = \"c22c75bdef3016220006b484a14b2ec48654b2f5200f48fb8162bccf764efc5d\""
   ]
  },
  {
   "cell_type": "markdown",
   "id": "9c3c889f",
   "metadata": {},
   "source": [
    "## The Futures Trader"
   ]
  },
  {
   "cell_type": "markdown",
   "id": "5585a867",
   "metadata": {},
   "source": [
    "_Disclaimer: <br>\n",
    "The following illustrative examples are for general information and educational purposes only. <br>\n",
    "It is neither investment advice nor a recommendation to trade, invest or take whatsoever actions.<br>\n",
    "The below code should only be used in combination with the Binance Futures Testnet and NOT with a Live Trading Account._"
   ]
  },
  {
   "cell_type": "code",
   "execution_count": 3,
   "id": "a8a48b85",
   "metadata": {},
   "outputs": [],
   "source": [
    "from binance.client import Client\n",
    "from triple_sma_cross_trader import FuturesTrader"
   ]
  },
  {
   "cell_type": "code",
   "execution_count": 6,
   "id": "3dad544b",
   "metadata": {},
   "outputs": [],
   "source": [
    "binance_client = Client(api_key = api_key, api_secret = secret_key, tld = \"com\", testnet = True)"
   ]
  },
  {
   "cell_type": "code",
   "execution_count": 7,
   "id": "4262f23f",
   "metadata": {},
   "outputs": [],
   "source": [
    "symbol = \"BTCUSDT\"\n",
    "bar_length = \"1m\"\n",
    "sma_s = 10\n",
    "sma_m = 20\n",
    "sma_l = 50\n",
    "units = 0.001\n",
    "position = 0\n",
    "leverage = 10"
   ]
  },
  {
   "cell_type": "code",
   "execution_count": 8,
   "id": "47c065f5",
   "metadata": {},
   "outputs": [],
   "source": [
    "trader = FuturesTrader(client = binance_client, symbol = symbol, bar_length = bar_length,\n",
    "                       sma_s = sma_s, sma_m = sma_m, sma_l = sma_l, \n",
    "                       units = units, position = position, leverage = leverage)"
   ]
  },
  {
   "cell_type": "code",
   "execution_count": 9,
   "id": "40312d8e",
   "metadata": {},
   "outputs": [
    {
     "name": "stdout",
     "output_type": "stream",
     "text": [
      ".........\n",
      "\n",
      "----------------------------------------------------------------------------------------------------\n",
      "2022-12-14 22:16:02.372000 | GOING SHORT\n",
      "2022-12-14 22:16:02.372000 | Base_Units = 0.001 | Quote_Units = 17.8138 | Price = 17813.8 \n",
      "2022-12-14 22:16:02.372000 | Profit = 0 | CumProfits = -0.00713 \n",
      "----------------------------------------------------------------------------------------------------\n",
      "\n",
      "...................................\n",
      "\n",
      "----------------------------------------------------------------------------------------------------\n",
      "2022-12-14 22:19:02.395000 | GOING NEUTRAL\n",
      "2022-12-14 22:19:02.395000 | Base_Units = 0.001 | Quote_Units = 17.8228 | Price = 17822.8 \n",
      "2022-12-14 22:19:02.395000 | Profit = -0.02225 | CumProfits = -0.03651 \n",
      "----------------------------------------------------------------------------------------------------\n",
      "\n",
      "......."
     ]
    }
   ],
   "source": [
    "trader.start_trading(historical_days = 1/24)"
   ]
  },
  {
   "cell_type": "code",
   "execution_count": null,
   "id": "fc261f71",
   "metadata": {},
   "outputs": [],
   "source": [
    "trader.twm.stop()"
   ]
  },
  {
   "cell_type": "code",
   "execution_count": null,
   "id": "7e6a0fcb",
   "metadata": {},
   "outputs": [],
   "source": [
    "trader.prepared_data"
   ]
  }
 ],
 "metadata": {
  "kernelspec": {
   "display_name": "base",
   "language": "python",
   "name": "python3"
  },
  "language_info": {
   "codemirror_mode": {
    "name": "ipython",
    "version": 3
   },
   "file_extension": ".py",
   "mimetype": "text/x-python",
   "name": "python",
   "nbconvert_exporter": "python",
   "pygments_lexer": "ipython3",
   "version": "3.9.7"
  },
  "vscode": {
   "interpreter": {
    "hash": "068ea7741ce38d3fb9b274d22846bd3d9ade9aa2a6123ac7a263f7ca72b4296b"
   }
  }
 },
 "nbformat": 4,
 "nbformat_minor": 5
}
