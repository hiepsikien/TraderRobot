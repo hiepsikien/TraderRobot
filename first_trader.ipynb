{
 "cells": [
  {
   "attachments": {},
   "cell_type": "markdown",
   "id": "dab6e5ec",
   "metadata": {},
   "source": [
    "# Binance Trader that makes me money"
   ]
  },
  {
   "cell_type": "markdown",
   "id": "4f19bb62",
   "metadata": {},
   "source": [
    "__Insert your Futures Testnet Credentials here__:"
   ]
  },
  {
   "cell_type": "code",
   "execution_count": null,
   "id": "2b9a8ea5",
   "metadata": {},
   "outputs": [],
   "source": [
    "api_key = \"1bb7096938ecb91287b19692ce9de6d6b5e32f9deca12cbaf904148d58b61491\"\n",
    "secret_key = \"c22c75bdef3016220006b484a14b2ec48654b2f5200f48fb8162bccf764efc5d\""
   ]
  },
  {
   "cell_type": "code",
   "execution_count": null,
   "id": "a622e15d",
   "metadata": {},
   "outputs": [],
   "source": []
  },
  {
   "cell_type": "markdown",
   "id": "9c3c889f",
   "metadata": {},
   "source": [
    "## The Futures Trader"
   ]
  },
  {
   "cell_type": "markdown",
   "id": "5585a867",
   "metadata": {},
   "source": [
    "_Disclaimer: <br>\n",
    "The following illustrative examples are for general information and educational purposes only. <br>\n",
    "It is neither investment advice nor a recommendation to trade, invest or take whatsoever actions.<br>\n",
    "The below code should only be used in combination with the Binance Futures Testnet and NOT with a Live Trading Account._"
   ]
  },
  {
   "cell_type": "code",
   "execution_count": null,
   "id": "a8a48b85",
   "metadata": {},
   "outputs": [],
   "source": [
    "from binance.client import Client\n",
    "from triple_sma_cross_trader import FuturesTrader"
   ]
  },
  {
   "cell_type": "code",
   "execution_count": null,
   "id": "3f1eb84d",
   "metadata": {},
   "outputs": [],
   "source": []
  },
  {
   "cell_type": "code",
   "execution_count": null,
   "id": "3dad544b",
   "metadata": {},
   "outputs": [],
   "source": [
    "binance_client = Client(api_key = api_key, api_secret = secret_key, tld = \"com\", testnet = True)"
   ]
  },
  {
   "cell_type": "code",
   "execution_count": null,
   "id": "4262f23f",
   "metadata": {},
   "outputs": [],
   "source": [
    "symbol = \"BTCUSDT\"\n",
    "bar_length = \"1m\"\n",
    "sma_s = 10\n",
    "sma_m = 20\n",
    "sma_l = 50\n",
    "units = 0.001\n",
    "position = 0\n",
    "leverage = 10"
   ]
  },
  {
   "cell_type": "code",
   "execution_count": null,
   "id": "47c065f5",
   "metadata": {},
   "outputs": [],
   "source": [
    "trader = FuturesTrader(client = binance_client, symbol = symbol, bar_length = bar_length,\n",
    "                       sma_s = sma_s, sma_m = sma_m, sma_l = sma_l, \n",
    "                       units = units, position = position, leverage = leverage)"
   ]
  },
  {
   "cell_type": "code",
   "execution_count": null,
   "id": "40312d8e",
   "metadata": {},
   "outputs": [],
   "source": [
    "trader.start_trading(historical_days = 1/24)"
   ]
  },
  {
   "cell_type": "code",
   "execution_count": 13,
   "id": "6e1865ab",
   "metadata": {},
   "outputs": [
    {
     "data": {
      "text/plain": [
       "<bound method BaseTrader.stop_trading of <triple_sma_cross_trader.FuturesTrader object at 0x7f612c59e190>>"
      ]
     },
     "execution_count": 13,
     "metadata": {},
     "output_type": "execute_result"
    },
    {
     "name": "stdout",
     "output_type": "stream",
     "text": [
      "...Execute implemented action when candle closed\n",
      ".......Execute implemented action when candle closed\n",
      ".............Execute implemented action when candle closed\n",
      "............Execute implemented action when candle closed\n",
      "...............Execute implemented action when candle closed\n",
      "..............Execute implemented action when candle closed\n",
      "............Execute implemented action when candle closed\n",
      "..............Execute implemented action when candle closed\n",
      "................Execute implemented action when candle closed\n",
      "...............Execute implemented action when candle closed\n",
      "......................Execute implemented action when candle closed\n",
      "............Execute implemented action when candle closed\n",
      "..............Execute implemented action when candle closed\n",
      "..........Execute implemented action when candle closed\n"
     ]
    }
   ],
   "source": [
    "trader.stop_trading"
   ]
  },
  {
   "cell_type": "code",
   "execution_count": null,
   "id": "7e6a0fcb",
   "metadata": {},
   "outputs": [
    {
     "name": "stdout",
     "output_type": "stream",
     "text": [
      "..."
     ]
    }
   ],
   "source": [
    "trader.report_trade"
   ]
  },
  {
   "cell_type": "code",
   "execution_count": null,
   "id": "95845d7b",
   "metadata": {},
   "outputs": [],
   "source": []
  },
  {
   "cell_type": "code",
   "execution_count": null,
   "id": "4b8c539f",
   "metadata": {},
   "outputs": [],
   "source": []
  }
 ],
 "metadata": {
  "kernelspec": {
   "display_name": "base",
   "language": "python",
   "name": "python3"
  },
  "language_info": {
   "codemirror_mode": {
    "name": "ipython",
    "version": 3
   },
   "file_extension": ".py",
   "mimetype": "text/x-python",
   "name": "python",
   "nbconvert_exporter": "python",
   "pygments_lexer": "ipython3",
   "version": "3.9.7 (default, Sep 16 2021, 13:09:58) \n[GCC 7.5.0]"
  },
  "vscode": {
   "interpreter": {
    "hash": "068ea7741ce38d3fb9b274d22846bd3d9ade9aa2a6123ac7a263f7ca72b4296b"
   }
  }
 },
 "nbformat": 4,
 "nbformat_minor": 5
}
