{
 "cells": [
  {
   "cell_type": "code",
   "execution_count": 1,
   "metadata": {},
   "outputs": [],
   "source": [
    "import pandas as pd\n",
    "import numpy as np\n",
    "import matplotlib.pyplot as plt\n",
    "import glob"
   ]
  },
  {
   "cell_type": "code",
   "execution_count": 2,
   "metadata": {},
   "outputs": [],
   "source": [
    "symbol = \"ETHUSDT\"\n",
    "\n",
    "data_path = \"/home/andy/CryptoTradingPlatform/Historical/\"\n",
    "\n",
    "def import_data_from_multiple_csv(path,symbol):\n",
    "   \n",
    "    col_names = [\"Open\",\"High\",\"Low\",\"Close\",\"Volumn\",\"Close Time\", \"Quote Asset Volumn\", \"Number of Trades\", \"Taker Buy Base Asset Volumn\", \"Taker Buy Quote Asset Volumn\", \"Ignore\" ]\n",
    "    filenames = glob.glob(\"{}/{}/*.csv\".format(path,symbol))\n",
    "    dfs = []\n",
    "\n",
    "    for filename in filenames:\n",
    "        dfs.append(pd.read_csv(filename, names = col_names))\n",
    "\n",
    "    data = pd.concat(dfs)\n",
    "    data.index.name = \"Date\"\n",
    "\n",
    "    data = data.sort_index(ascending=True)\n",
    "\n",
    "    data[\"Date Time\"] = pd.to_datetime(data.index,unit=\"ms\",utc=True)\n",
    "\n",
    "    data.index.name = \"Open Time\"\n",
    "\n",
    "    return data\n",
    "\n",
    "def write_data_to_csv(data,symbol,timeframe):\n",
    "    data.to_csv(\"{}-{}.csv\".format(symbol,timeframe))\n"
   ]
  },
  {
   "cell_type": "code",
   "execution_count": 3,
   "metadata": {},
   "outputs": [],
   "source": [
    "data_btc = import_data_from_multiple_csv(data_path,\"BTCUSDT\")"
   ]
  },
  {
   "cell_type": "code",
   "execution_count": null,
   "metadata": {},
   "outputs": [],
   "source": [
    "data_btc"
   ]
  },
  {
   "cell_type": "code",
   "execution_count": 5,
   "metadata": {},
   "outputs": [],
   "source": [
    "write_data_to_csv(data_btc,symbol=\"BTCUSDT\",timeframe=\"1h\")"
   ]
  },
  {
   "cell_type": "code",
   "execution_count": null,
   "metadata": {},
   "outputs": [],
   "source": [
    "data_eth = import_data_from_multiple_csv(data_path,\"ETHUSDT\")"
   ]
  },
  {
   "cell_type": "code",
   "execution_count": null,
   "metadata": {},
   "outputs": [],
   "source": [
    "data_eth"
   ]
  },
  {
   "cell_type": "code",
   "execution_count": null,
   "metadata": {},
   "outputs": [],
   "source": [
    "data_btc_short = data_btc[\"Close\"].to_frame().copy()"
   ]
  },
  {
   "cell_type": "code",
   "execution_count": null,
   "metadata": {},
   "outputs": [],
   "source": [
    "data_btc_short.columns = [\"BTC Close\"]"
   ]
  },
  {
   "cell_type": "code",
   "execution_count": null,
   "metadata": {},
   "outputs": [],
   "source": [
    "data_eth_short = data_eth[\"Close\"].to_frame()"
   ]
  },
  {
   "cell_type": "code",
   "execution_count": null,
   "metadata": {},
   "outputs": [],
   "source": [
    "data_eth_short.columns = [\"ETH Close\"]"
   ]
  },
  {
   "cell_type": "code",
   "execution_count": null,
   "metadata": {},
   "outputs": [],
   "source": [
    "result = pd.concat([data_btc_short, data_eth_short], join=\"outer\", axis = 1)"
   ]
  },
  {
   "cell_type": "code",
   "execution_count": null,
   "metadata": {},
   "outputs": [],
   "source": [
    "result.dropna(inplace=True)"
   ]
  },
  {
   "cell_type": "code",
   "execution_count": null,
   "metadata": {},
   "outputs": [],
   "source": [
    "result"
   ]
  }
 ],
 "metadata": {
  "kernelspec": {
   "display_name": "base",
   "language": "python",
   "name": "python3"
  },
  "language_info": {
   "codemirror_mode": {
    "name": "ipython",
    "version": 3
   },
   "file_extension": ".py",
   "mimetype": "text/x-python",
   "name": "python",
   "nbconvert_exporter": "python",
   "pygments_lexer": "ipython3",
   "version": "3.9.7"
  },
  "orig_nbformat": 4,
  "vscode": {
   "interpreter": {
    "hash": "068ea7741ce38d3fb9b274d22846bd3d9ade9aa2a6123ac7a263f7ca72b4296b"
   }
  }
 },
 "nbformat": 4,
 "nbformat_minor": 2
}
