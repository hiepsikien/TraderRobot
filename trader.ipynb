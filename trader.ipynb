{
 "cells": [
  {
   "attachments": {},
   "cell_type": "markdown",
   "id": "dab6e5ec",
   "metadata": {},
   "source": [
    "# Binance Trader that makes me money"
   ]
  },
  {
   "cell_type": "markdown",
   "id": "4f19bb62",
   "metadata": {},
   "source": [
    "__Insert your Futures Testnet Credentials here__:"
   ]
  },
  {
   "cell_type": "code",
   "execution_count": 1,
   "id": "2b9a8ea5",
   "metadata": {},
   "outputs": [],
   "source": [
    "api_key = \"1bb7096938ecb91287b19692ce9de6d6b5e32f9deca12cbaf904148d58b61491\"\n",
    "secret_key = \"c22c75bdef3016220006b484a14b2ec48654b2f5200f48fb8162bccf764efc5d\""
   ]
  },
  {
   "cell_type": "code",
   "execution_count": 2,
   "id": "a8a48b85",
   "metadata": {},
   "outputs": [],
   "source": [
    "from binance.client import Client\n",
    "from binance import ThreadedWebsocketManager\n",
    "from triple_sma_cross_trader import FuturesTrader\n",
    "from my_logging import logger"
   ]
  },
  {
   "cell_type": "code",
   "execution_count": 3,
   "id": "3dad544b",
   "metadata": {},
   "outputs": [
    {
     "name": "stdout",
     "output_type": "stream",
     "text": [
      "."
     ]
    },
    {
     "name": "stdout",
     "output_type": "stream",
     "text": [
      "....."
     ]
    }
   ],
   "source": [
    "client = Client(api_key = api_key, api_secret = secret_key, tld = \"com\", testnet = True)\n",
    "twm = ThreadedWebsocketManager(testnet = True)\n",
    "twm.start()\n",
    "\n",
    "bar_length = \"1m\"\n",
    "sma_s = 10\n",
    "sma_m = 20\n",
    "sma_l = 50\n",
    "position = 0\n",
    "leverage = 3\n",
    "\n",
    "trader_profiles = [(\"BTCUSDT\",0.1,\"1m\"), (\"ETHUSDT\",1,\"3m\"), (\"BNBUSDT\",10,\"5m\")]\n",
    "\n",
    "traders = []\n",
    "\n",
    "for profile in trader_profiles:\n",
    "    (symbol, units, bar_length) = profile\n",
    "    trader = FuturesTrader(client = client, twm = twm, symbol = symbol, bar_length = bar_length,\n",
    "                       sma_s = sma_s, sma_m = sma_m, sma_l = sma_l, \n",
    "                       units = units, position = position, leverage = leverage)\n",
    "    trader.set_name(\"TrippleSMA_\"+symbol+\"_\"+bar_length)\n",
    "    traders.append(trader)\n",
    "    trader.start_trading(historical_days = 1/4)"
   ]
  },
  {
   "cell_type": "code",
   "execution_count": 4,
   "id": "fcec7842",
   "metadata": {},
   "outputs": [
    {
     "name": "stdout",
     "output_type": "stream",
     "text": [
      ".."
     ]
    }
   ],
   "source": [
    "twm.stop()"
   ]
  },
  {
   "cell_type": "code",
   "execution_count": null,
   "id": "481c3f16",
   "metadata": {},
   "outputs": [],
   "source": [
    "traders[1].prepared_data"
   ]
  }
 ],
 "metadata": {
  "kernelspec": {
   "display_name": "Python 3 (ipykernel)",
   "language": "python",
   "name": "python3"
  },
  "language_info": {
   "codemirror_mode": {
    "name": "ipython",
    "version": 3
   },
   "file_extension": ".py",
   "mimetype": "text/x-python",
   "name": "python",
   "nbconvert_exporter": "python",
   "pygments_lexer": "ipython3",
   "version": "3.9.7"
  },
  "vscode": {
   "interpreter": {
    "hash": "068ea7741ce38d3fb9b274d22846bd3d9ade9aa2a6123ac7a263f7ca72b4296b"
   }
  }
 },
 "nbformat": 4,
 "nbformat_minor": 5
}
