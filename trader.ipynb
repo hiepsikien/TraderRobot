{
 "cells": [
  {
   "attachments": {},
   "cell_type": "markdown",
   "id": "dab6e5ec",
   "metadata": {},
   "source": [
    "# Binance Trader that makes me money"
   ]
  },
  {
   "cell_type": "markdown",
   "id": "4f19bb62",
   "metadata": {},
   "source": [
    "__Insert your Futures Testnet Credentials here__:"
   ]
  },
  {
   "cell_type": "code",
   "execution_count": null,
   "id": "2b9a8ea5",
   "metadata": {
    "vscode": {
     "languageId": "python"
    }
   },
   "outputs": [],
   "source": [
    "api_key = \"1bb7096938ecb91287b19692ce9de6d6b5e32f9deca12cbaf904148d58b61491\"\n",
    "secret_key = \"c22c75bdef3016220006b484a14b2ec48654b2f5200f48fb8162bccf764efc5d\""
   ]
  },
  {
   "cell_type": "code",
   "execution_count": null,
   "id": "a8a48b85",
   "metadata": {
    "vscode": {
     "languageId": "python"
    }
   },
   "outputs": [],
   "source": [
    "from binance.client import Client\n",
    "from binance import ThreadedWebsocketManager\n",
    "from macd_trader import MACDTrader\n",
    "from my_logging import logger"
   ]
  },
  {
   "cell_type": "code",
   "execution_count": null,
   "id": "a3c129cc",
   "metadata": {
    "vscode": {
     "languageId": "python"
    }
   },
   "outputs": [],
   "source": [
    "client = Client(api_key = api_key, api_secret = secret_key, tld = \"com\", testnet = True)\n",
    "twm = ThreadedWebsocketManager(testnet = True)\n",
    "twm.start()"
   ]
  },
  {
   "cell_type": "code",
   "execution_count": null,
   "id": "3dad544b",
   "metadata": {
    "vscode": {
     "languageId": "python"
    }
   },
   "outputs": [],
   "source": [
    "# bar_length = \"1m\"\n",
    "ma_fast = 12\n",
    "ma_slow = 26\n",
    "ma_signal = 9\n",
    "position = 0\n",
    "leverage = 3\n",
    "\n",
    "trader_profiles = [(\"BTCUSDT\",0.01,\"1m\"),(\"ETHUSDT\",0.1,\"1m\"),(\"BNBUSDT\",1,\"1m\")]\n",
    "\n",
    "traders = []\n",
    "\n",
    "for profile in trader_profiles:\n",
    "    (symbol, units, bar_length) = profile\n",
    "    trader = MACDTrader(client = client, twm = twm, symbol = symbol, bar_length = bar_length,\n",
    "                       ma_slow = ma_slow, ma_fast = ma_fast, ma_signal = ma_signal, \n",
    "                       units = units, position = position, leverage = leverage)\n",
    "    trader.set_name(\"DCMATrader_\"+symbol+\"_\"+bar_length)\n",
    "    traders.append(trader)\n",
    "    trader.start_trading(historical_days = 1/4)"
   ]
  },
  {
   "cell_type": "code",
   "execution_count": null,
   "id": "fcec7842",
   "metadata": {
    "vscode": {
     "languageId": "python"
    }
   },
   "outputs": [],
   "source": [
    "twm.stop()"
   ]
  },
  {
   "cell_type": "code",
   "execution_count": null,
   "id": "481c3f16",
   "metadata": {
    "vscode": {
     "languageId": "python"
    }
   },
   "outputs": [],
   "source": [
    "traders[2].prepared_data"
   ]
  },
  {
   "cell_type": "code",
   "execution_count": null,
   "id": "1e746a5c",
   "metadata": {
    "vscode": {
     "languageId": "python"
    }
   },
   "outputs": [],
   "source": [
    "client"
   ]
  },
  {
   "cell_type": "code",
   "execution_count": null,
   "id": "896a5375",
   "metadata": {
    "vscode": {
     "languageId": "python"
    }
   },
   "outputs": [],
   "source": [
    "import pandas as pd"
   ]
  },
  {
   "cell_type": "code",
   "execution_count": null,
   "id": "b52772e7",
   "metadata": {
    "vscode": {
     "languageId": "python"
    }
   },
   "outputs": [],
   "source": [
    "recent_trade = client.futures_historical_trades(symbol=\"BTCUSDT\")"
   ]
  },
  {
   "cell_type": "code",
   "execution_count": null,
   "id": "ac0eb9d3",
   "metadata": {
    "vscode": {
     "languageId": "python"
    }
   },
   "outputs": [],
   "source": [
    "recent_trade_pd = pd.DataFrame.from_dict(recent_trade)"
   ]
  },
  {
   "cell_type": "code",
   "execution_count": null,
   "id": "6c864133",
   "metadata": {
    "vscode": {
     "languageId": "python"
    }
   },
   "outputs": [],
   "source": [
    "recent_trade_pd"
   ]
  },
  {
   "cell_type": "code",
   "execution_count": null,
   "id": "6b460466",
   "metadata": {
    "vscode": {
     "languageId": "python"
    }
   },
   "outputs": [],
   "source": [
    "order_history = client.futures_get_all_orders(symbol = \"BTCUSDT\")"
   ]
  },
  {
   "cell_type": "code",
   "execution_count": null,
   "id": "c41afac4",
   "metadata": {
    "vscode": {
     "languageId": "python"
    }
   },
   "outputs": [],
   "source": [
    "order_history_pd = pd.DataFrame.from_dict(order_history)"
   ]
  },
  {
   "cell_type": "code",
   "execution_count": null,
   "id": "eb63a662",
   "metadata": {
    "vscode": {
     "languageId": "python"
    }
   },
   "outputs": [],
   "source": [
    "order_history_pd"
   ]
  },
  {
   "cell_type": "code",
   "execution_count": null,
   "id": "6df32b1b",
   "metadata": {
    "vscode": {
     "languageId": "python"
    }
   },
   "outputs": [],
   "source": []
  }
 ],
 "metadata": {
  "kernelspec": {
   "display_name": "Python 3 (ipykernel)",
   "language": "python",
   "name": "python3"
  },
  "vscode": {
   "interpreter": {
    "hash": "068ea7741ce38d3fb9b274d22846bd3d9ade9aa2a6123ac7a263f7ca72b4296b"
   }
  }
 },
 "nbformat": 4,
 "nbformat_minor": 5
}
