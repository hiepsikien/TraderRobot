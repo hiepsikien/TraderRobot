{
 "cells": [
  {
   "cell_type": "code",
   "execution_count": null,
   "metadata": {},
   "outputs": [],
   "source": [
    "import warnings\n",
    "warnings.simplefilter(action='ignore', category=FutureWarning)\n",
    "import pandas as pd\n",
    "warnings.simplefilter(action='ignore', category=pd.errors.PerformanceWarning)\n",
    "import numpy as np\n",
    "import matplotlib.pyplot as plt\n",
    "from feature_manager import FeatureManager\n",
    "from lstm_classifier import LSTMModel\n",
    "from random import randint\n",
    "from visualizer import *"
   ]
  },
  {
   "cell_type": "code",
   "execution_count": null,
   "metadata": {},
   "outputs": [],
   "source": [
    "data = pd.read_csv(\"../data/BTCUSDT-1d.csv\", parse_dates=[\"Open Time\"], index_col = \"Open Time\")\n",
    "fm = FeatureManager()\n",
    "fm.build_feature(data=data,lags=1)"
   ]
  },
  {
   "cell_type": "code",
   "execution_count": null,
   "metadata": {},
   "outputs": [],
   "source": [
    "sequence_len = 24*7\n",
    "sequence_stride = 1\n",
    "sampling_rate = 1\n",
    "\n",
    "model = LSTMModel(epochs=50,pos_cutoff=0.55, neg_cutoff=0.45)\n",
    "model.prepare_data(\n",
    "    data = fm.df,\n",
    "    cols = fm.cols,\n",
    "    sequence_len=sequence_len,\n",
    "    sequence_stride=sequence_stride,\n",
    "    sampling_rate=sampling_rate\n",
    ")\n",
    "\n",
    "model.configure(hu = 100,shape=(sequence_len,len(fm.cols)))\n",
    "model.run(gpu = True)"
   ]
  },
  {
   "cell_type": "code",
   "execution_count": null,
   "metadata": {},
   "outputs": [],
   "source": [
    "pred_df = pd.DataFrame(model.pred_prob)\n",
    "pred_df.describe()"
   ]
  },
  {
   "cell_type": "code",
   "execution_count": null,
   "metadata": {},
   "outputs": [],
   "source": [
    "model.analyze_predict_by_cutoff()\n",
    "visualize_efficiency_by_cutoff(model.efficiency,0,0.5)"
   ]
  },
  {
   "cell_type": "code",
   "execution_count": null,
   "metadata": {},
   "outputs": [],
   "source": []
  },
  {
   "cell_type": "code",
   "execution_count": null,
   "metadata": {},
   "outputs": [],
   "source": []
  },
  {
   "cell_type": "code",
   "execution_count": null,
   "metadata": {},
   "outputs": [],
   "source": []
  }
 ],
 "metadata": {
  "kernelspec": {
   "display_name": "tensor",
   "language": "python",
   "name": "python3"
  },
  "language_info": {
   "codemirror_mode": {
    "name": "ipython",
    "version": 3
   },
   "file_extension": ".py",
   "mimetype": "text/x-python",
   "name": "python",
   "nbconvert_exporter": "python",
   "pygments_lexer": "ipython3",
   "version": "3.10.8"
  },
  "orig_nbformat": 4,
  "vscode": {
   "interpreter": {
    "hash": "8b58b1819899e409cec63cea36e334f732dfc50db3a5ecdff48b63b0a8eb4970"
   }
  }
 },
 "nbformat": 4,
 "nbformat_minor": 2
}
