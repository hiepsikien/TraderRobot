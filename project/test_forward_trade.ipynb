{
 "cells": [
  {
   "cell_type": "code",
   "execution_count": 1,
   "metadata": {},
   "outputs": [
    {
     "name": "stderr",
     "output_type": "stream",
     "text": [
      "2023-01-13 23:09:55.723495: W tensorflow/compiler/xla/stream_executor/platform/default/dso_loader.cc:64] Could not load dynamic library 'libnvinfer.so.7'; dlerror: libnvinfer.so.7: cannot open shared object file: No such file or directory\n",
      "2023-01-13 23:09:55.723625: W tensorflow/compiler/xla/stream_executor/platform/default/dso_loader.cc:64] Could not load dynamic library 'libnvinfer_plugin.so.7'; dlerror: libnvinfer_plugin.so.7: cannot open shared object file: No such file or directory\n",
      "2023-01-13 23:09:55.723638: W tensorflow/compiler/tf2tensorrt/utils/py_utils.cc:38] TF-TRT Warning: Cannot dlopen some TensorRT libraries. If you would like to use Nvidia GPU with TensorRT, please make sure the missing libraries mentioned above are installed properly.\n"
     ]
    }
   ],
   "source": [
    "import warnings\n",
    "warnings.simplefilter(action='ignore', category=FutureWarning)\n",
    "import pandas as pd\n",
    "warnings.simplefilter(action='ignore', category=pd.errors.PerformanceWarning)\n",
    "import numpy as np\n",
    "import matplotlib.pyplot as plt\n",
    "from feature_manager import FeatureManager\n",
    "from dnn_classifier import DNNClassifer\n",
    "from random import randint\n",
    "from visualizer import *"
   ]
  },
  {
   "cell_type": "code",
   "execution_count": 2,
   "metadata": {},
   "outputs": [],
   "source": [
    "old = pd.read_csv(\"../data/BTCUSDT-1d.csv\", parse_dates=[\"Open Time\"], index_col = \"Open Time\")\n",
    "fm = FeatureManager()\n",
    "fm.build_feature(data=old,lags=0)"
   ]
  },
  {
   "cell_type": "code",
   "execution_count": 16,
   "metadata": {},
   "outputs": [],
   "source": [
    "def prepare_trade_forward_data(data, take_profit_rate = 0.05, stop_loss_rate = 0.025, max_duration = 7):\n",
    "    \n",
    "    fwd_cols = []\n",
    "\n",
    "    data[\"long_take_profit\"] = data[\"Close\"]*(1+take_profit_rate)\n",
    "    data[\"long_stop_loss\"] = data[\"Close\"]*(1-stop_loss_rate)\n",
    "\n",
    "    data[\"short_take_profit\"] = data[\"Close\"]*(1-take_profit_rate)\n",
    "    data[\"short_stop_loss\"] = data[\"Close\"]*(1+stop_loss_rate)\n",
    "\n",
    "\n",
    "    data[\"cum_return_forward_0\"] = data[\"returns\"]\n",
    "    data[\"long_decision_forward_0\"] = 0\n",
    "    data[\"short_decision_forward_0\"] = 0\n",
    "\n",
    "    str_trade_signal = \"trade_signal\"\n",
    "    str_trade_return = \"trade_profit\"\n",
    "\n",
    "    data[str_trade_return] = 0\n",
    "    data[str_trade_signal] = 0\n",
    "     \n",
    "    for i in range(1,max_duration+1):\n",
    "        \n",
    "        data[\"High_forward_{}\".format(i)] = data[\"High\"].shift(-i)\n",
    "        data[\"Low_forward_{}\".format(i)] = data[\"Low\"].shift(-i)\n",
    "        data[\"cum_return_forward_{}\".format(i)] = data[\"cum_return_forward_{}\".format(i-1)]+data[\"returns\"].shift(-i)\n",
    "\n",
    "        long_str = \"long_decision_forward_{}\".format(i)\n",
    "        short_str = \"short_decision_forward_{}\".format(i)\n",
    "\n",
    "        fwd_cols.append(long_str)\n",
    "        fwd_cols.append(short_str)\n",
    "\n",
    "        data[\"long_random\"] = [randint(0,100) for i in range(0,len(data))]\n",
    "        data[\"short_random\"] = [randint(0,100) for i in range(0,len(data))]\n",
    "        \n",
    "        #Temporarily set all open as closed\n",
    "        data[long_str] = 2\n",
    "        data[short_str] = 2\n",
    "\n",
    "        ol_odd_lose_cond = data[\"long_random\"]<50\n",
    "        ol_odd_win_cond = data[\"long_random\"]>=50\n",
    "\n",
    "        os_odd_lose_cond = data[\"short_random\"]<50\n",
    "        os_odd_win_cond = data[\"short_random\"]>=50\n",
    "\n",
    "        # Compute future outcome if long position\n",
    "        # \n",
    "\n",
    "        ol_cond = data[\"long_decision_forward_{}\".format(i-1)]==0\n",
    "        ol_tp_cond = data[\"High_forward_{}\".format(i)] >= data[\"long_take_profit\"]\n",
    "        ol_ntp_cond = data[\"High_forward_{}\".format(i)] < data[\"long_take_profit\"]\n",
    "        ol_sl_cond = data[\"Low_forward_{}\".format(i)] <= data[\"long_stop_loss\"]\n",
    "        ol_nsl_cond = data[\"Low_forward_{}\".format(i)] > data[\"long_stop_loss\"]\n",
    "\n",
    "        # If only stop-loss reached\n",
    "        data.loc[\n",
    "            ol_cond &\n",
    "            ol_sl_cond &\n",
    "            ol_ntp_cond,\n",
    "            long_str\n",
    "        ] = -1\n",
    "\n",
    "        # If only take-profit reached\n",
    "        data.loc[\n",
    "            ol_cond &\n",
    "            ol_tp_cond &\n",
    "            ol_nsl_cond,\n",
    "            long_str\n",
    "        ] = 1\n",
    "\n",
    "        data.loc[\n",
    "            ol_cond &\n",
    "            ol_tp_cond &\n",
    "            ol_nsl_cond,\n",
    "            str_trade_signal\n",
    "        ] = 1\n",
    "\n",
    "        data.loc[\n",
    "            ol_cond &\n",
    "            ol_tp_cond &\n",
    "            ol_nsl_cond,\n",
    "            str_trade_return\n",
    "        ] = np.log(1 + take_profit_rate)\n",
    "        \n",
    "        # If both take-profit and stop-loss reached, odd say it was stoploss\n",
    "        data.loc[\n",
    "            ol_cond &\n",
    "            ol_sl_cond &\n",
    "            ol_tp_cond &\n",
    "            ol_odd_lose_cond,\n",
    "            long_str\n",
    "        ] = -1\n",
    "        \n",
    "        # If both take-profit and stop-loss reached, odd say it was take-profit\n",
    "        data.loc[\n",
    "            ol_cond &\n",
    "            ol_sl_cond &\n",
    "            ol_tp_cond &\n",
    "            ol_odd_win_cond,\n",
    "            long_str\n",
    "        ] = 1\n",
    "\n",
    "        data.loc[\n",
    "            ol_cond &\n",
    "            ol_sl_cond &\n",
    "            ol_tp_cond &\n",
    "            ol_odd_win_cond,\n",
    "            str_trade_signal\n",
    "        ] = 1\n",
    "\n",
    "        data.loc[\n",
    "            ol_cond &\n",
    "            ol_sl_cond &\n",
    "            ol_tp_cond &\n",
    "            ol_odd_win_cond,\n",
    "            str_trade_return\n",
    "        ] = np.log(1+take_profit_rate)\n",
    "\n",
    "        # If both take-profit and stop-loss not reached, leave it as open\n",
    "        data.loc[\n",
    "            ol_cond &\n",
    "            ol_ntp_cond &\n",
    "            ol_nsl_cond,\n",
    "            long_str\n",
    "        ] = 0\n",
    "            \n",
    "        # Compute future outcome for open short position\n",
    "        \n",
    "        os_cond = data[\"short_decision_forward_{}\".format(i-1)]==0\n",
    "        os_tp_cond = data[\"Low_forward_{}\".format(i)] <= data[\"short_take_profit\"]\n",
    "        os_ntp_cond = data[\"Low_forward_{}\".format(i)] > data[\"short_take_profit\"]\n",
    "        os_sl_cond = data[\"High_forward_{}\".format(i)] >= data[\"short_stop_loss\"]\n",
    "        os_nsl_cond = data[\"High_forward_{}\".format(i)] < data[\"short_stop_loss\"]\n",
    "        \n",
    "        # If only stop-loss reached\n",
    "        data.loc[\n",
    "            os_cond &\n",
    "            os_sl_cond &\n",
    "            os_ntp_cond,\n",
    "            short_str\n",
    "        ] = -1\n",
    "\n",
    "        # If only take-profit reached\n",
    "        data.loc[\n",
    "            os_cond &\n",
    "            os_tp_cond &\n",
    "            os_nsl_cond,\n",
    "            short_str\n",
    "        ] = 1\n",
    "\n",
    "        data.loc[\n",
    "            os_cond &\n",
    "            os_tp_cond &\n",
    "            os_nsl_cond,\n",
    "            str_trade_signal\n",
    "        ] = -1\n",
    "        \n",
    "        data.loc[\n",
    "            os_cond &\n",
    "            os_tp_cond &\n",
    "            os_nsl_cond,\n",
    "            str_trade_return\n",
    "        ] = np.log(1 + take_profit_rate)\n",
    "        \n",
    "        # If both take-profit and stop-loss reached, odd say it was stoploss\n",
    "        data.loc[\n",
    "            os_cond &\n",
    "            os_odd_lose_cond &\n",
    "            os_tp_cond &\n",
    "            os_sl_cond,\n",
    "            short_str\n",
    "        ] = -1\n",
    "        \n",
    "        # If both take-profit and stop-loss reached, odd say it was take-profit\n",
    "        data.loc[\n",
    "            os_cond &\n",
    "            os_odd_win_cond &\n",
    "            os_tp_cond &\n",
    "            os_sl_cond,\n",
    "            short_str\n",
    "        ] = 1\n",
    "\n",
    "        data.loc[\n",
    "            os_cond &\n",
    "            os_odd_win_cond &\n",
    "            os_tp_cond &\n",
    "            os_sl_cond,\n",
    "            str_trade_signal\n",
    "        ] = -1\n",
    "\n",
    "        data.loc[\n",
    "            os_cond &\n",
    "            os_odd_win_cond &\n",
    "            os_tp_cond &\n",
    "            os_sl_cond,\n",
    "            str_trade_return\n",
    "        ] = np.log(1 + take_profit_rate)\n",
    "\n",
    "        # If both take-profit and stop-loss not reached, leave it as open\n",
    "        data.loc[\n",
    "            os_cond &\n",
    "            os_ntp_cond &\n",
    "            os_nsl_cond,\n",
    "            short_str\n",
    "        ] = 0\n",
    "    \n",
    "    return fwd_cols\n",
    "        "
   ]
  },
  {
   "cell_type": "code",
   "execution_count": 39,
   "metadata": {},
   "outputs": [
    {
     "name": "stdout",
     "output_type": "stream",
     "text": [
      " 0    786\n",
      " 1    523\n",
      "-1    505\n",
      "Name: trade_signal, dtype: int64\n",
      "3.561888682929828e+42\n"
     ]
    }
   ],
   "source": [
    "tp = 0.1\n",
    "sl = 0.05\n",
    "md = 14\n",
    "\n",
    "cols = prepare_trade_forward_data(\n",
    "    data=fm.df,\n",
    "    take_profit_rate=tp,\n",
    "    stop_loss_rate=sl,\n",
    "    max_duration=md,\n",
    ")\n",
    "\n",
    "fm.df[cols].to_csv(\"../out/out.csv\")\n",
    "\n",
    "#results = pd.DataFrame(data = fm.df[\"decision_forward_3\"].value_counts())\n",
    "results = pd.DataFrame()\n",
    "\n",
    "for i in range(1,md+1):\n",
    "    results[\"Long Forward {}\".format(i)]= fm.df[\"long_decision_forward_{}\".format(i)].value_counts()\n",
    "    results[\"Short Forward {}\".format(i)]= fm.df[\"short_decision_forward_{}\".format(i)].value_counts()\n",
    "results.to_csv(\"../out/results.csv\")\n",
    "print(fm.df[\"trade_signal\"].value_counts())\n",
    "\n",
    "cum_profit = np.exp(fm.df[\"trade_profit\"].sum())\n",
    "print(cum_profit)"
   ]
  },
  {
   "cell_type": "code",
   "execution_count": 34,
   "metadata": {},
   "outputs": [
    {
     "data": {
      "text/plain": [
       "5.6803332360075256e+23"
      ]
     },
     "execution_count": 34,
     "metadata": {},
     "output_type": "execute_result"
    }
   ],
   "source": [
    "import math\n",
    "\n",
    "\n",
    "math.pow(1.2,300)"
   ]
  },
  {
   "cell_type": "code",
   "execution_count": 18,
   "metadata": {},
   "outputs": [
    {
     "data": {
      "text/plain": [
       "<AxesSubplot: xlabel='Open Time'>"
      ]
     },
     "execution_count": 18,
     "metadata": {},
     "output_type": "execute_result"
    },
    {
     "data": {
      "image/png": "[encoded data removed]",
      "text/plain": [
       "<Figure size 800x550 with 1 Axes>"
      ]
     },
     "metadata": {},
     "output_type": "display_data"
    }
   ],
   "source": [
    "fm.df[\"Close\"].plot()"
   ]
  },
  {
   "cell_type": "code",
   "execution_count": null,
   "metadata": {},
   "outputs": [],
   "source": []
  },
  {
   "cell_type": "code",
   "execution_count": null,
   "metadata": {},
   "outputs": [],
   "source": []
  }
 ],
 "metadata": {
  "kernelspec": {
   "display_name": "tensor",
   "language": "python",
   "name": "python3"
  },
  "language_info": {
   "codemirror_mode": {
    "name": "ipython",
    "version": 3
   },
   "file_extension": ".py",
   "mimetype": "text/x-python",
   "name": "python",
   "nbconvert_exporter": "python",
   "pygments_lexer": "ipython3",
   "version": "3.10.8"
  },
  "orig_nbformat": 4,
  "vscode": {
   "interpreter": {
    "hash": "8b58b1819899e409cec63cea36e334f732dfc50db3a5ecdff48b63b0a8eb4970"
   }
  }
 },
 "nbformat": 4,
 "nbformat_minor": 2
}
