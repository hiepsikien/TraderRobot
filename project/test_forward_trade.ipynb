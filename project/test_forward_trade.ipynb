{
 "cells": [
  {
   "cell_type": "code",
   "execution_count": 1,
   "metadata": {},
   "outputs": [
    {
     "name": "stderr",
     "output_type": "stream",
     "text": [
      "2023-01-12 14:28:50.092880: W tensorflow/compiler/xla/stream_executor/platform/default/dso_loader.cc:64] Could not load dynamic library 'libnvinfer.so.7'; dlerror: libnvinfer.so.7: cannot open shared object file: No such file or directory\n",
      "2023-01-12 14:28:50.093078: W tensorflow/compiler/xla/stream_executor/platform/default/dso_loader.cc:64] Could not load dynamic library 'libnvinfer_plugin.so.7'; dlerror: libnvinfer_plugin.so.7: cannot open shared object file: No such file or directory\n",
      "2023-01-12 14:28:50.093092: W tensorflow/compiler/tf2tensorrt/utils/py_utils.cc:38] TF-TRT Warning: Cannot dlopen some TensorRT libraries. If you would like to use Nvidia GPU with TensorRT, please make sure the missing libraries mentioned above are installed properly.\n"
     ]
    }
   ],
   "source": [
    "import warnings\n",
    "warnings.simplefilter(action='ignore', category=FutureWarning)\n",
    "import pandas as pd\n",
    "warnings.simplefilter(action='ignore', category=pd.errors.PerformanceWarning)\n",
    "import numpy as np\n",
    "import matplotlib.pyplot as plt\n",
    "from feature_manager import FeatureManager\n",
    "from dnn_classifier import DNNClassifer\n",
    "from random import randint\n",
    "from visualizer import *\n",
    "from random import randint"
   ]
  },
  {
   "cell_type": "code",
   "execution_count": 2,
   "metadata": {},
   "outputs": [],
   "source": [
    "data = pd.read_csv(\"../data/BTCUSDT-1d.csv\", parse_dates=[\"Open Time\"], index_col = \"Open Time\")\n",
    "fm = FeatureManager()\n",
    "fm.build_feature(data=data,lags=0)"
   ]
  },
  {
   "cell_type": "code",
   "execution_count": 5,
   "metadata": {},
   "outputs": [],
   "source": [
    "take_profit_rate = 0.1\n",
    "stop_loss_rate = 0.05\n",
    "max_duration = 90\n",
    "\n",
    "\n",
    "def prepare_trade_forward_data(data):\n",
    "    \n",
    "    data[\"take_profit\"] = data[\"Close\"]*(1+take_profit_rate)\n",
    "    data[\"stop_loss\"] = data[\"Close\"]*(1-stop_loss_rate)\n",
    "    data[\"cum_return_forward_0\"] = data[\"returns\"]\n",
    "    data[\"decision_forward_0\"] = 0\n",
    "     \n",
    "    for i in range(1,max_duration+1):\n",
    "        \n",
    "        data[\"High_forward_{}\".format(i)] = data[\"High\"].shift(-i)\n",
    "        data[\"Low_forward_{}\".format(i)] = data[\"Low\"].shift(-i)\n",
    "        data[\"cum_return_forward_{}\".format(i)] = data[\"cum_return_forward_{}\".format(i-1)]+data[\"returns\"].shift(-i)\n",
    "\n",
    "        str = \"decision_forward_{}\".format(i)\n",
    "        data[\"random\"] = [randint(0,100) for i in range(0,len(data))]\n",
    "        \n",
    "        #Temporarily set all open as closed from previous timeframe\n",
    "        data[str] = 2\n",
    "\n",
    "        # If position is still open, only stop-loss reached\n",
    "        data.loc[\n",
    "            (data[\"Low_forward_{}\".format(i)]<data[\"stop_loss\"])&\n",
    "            (data[\"High_forward_{}\".format(i)]<data[\"take_profit\"])&\n",
    "            (data[\"decision_forward_{}\".format(i-1)]==0)\n",
    "            ,str\n",
    "            ] = -1\n",
    "\n",
    "        # If position is still open, only take-profit reached\n",
    "        data.loc[\n",
    "            (data[\"Low_forward_{}\".format(i)]>data[\"stop_loss\"])&\n",
    "            (data[\"High_forward_{}\".format(i)]>data[\"take_profit\"])&\n",
    "            (data[\"decision_forward_{}\".format(i-1)]==0)\n",
    "            ,str\n",
    "            ] = 1\n",
    "        \n",
    "        # If position is still open, both take-profit and stop-loss reached, odd say it was stoploss\n",
    "        data.loc[\n",
    "            (data[\"Low_forward_{}\".format(i)]<data[\"stop_loss\"])&\n",
    "            (data[\"High_forward_{}\".format(i)]>data[\"take_profit\"])&\n",
    "            (data[\"decision_forward_{}\".format(i-1)]==0)&\n",
    "            (data[\"random\"]<50)\n",
    "            ,str\n",
    "            ] = -1\n",
    "        \n",
    "        # If position is still open, both take-profit and stop-loss reached, odd say it was take-profit\n",
    "        data.loc[\n",
    "            (data[\"Low_forward_{}\".format(i)]<data[\"stop_loss\"])&\n",
    "            (data[\"High_forward_{}\".format(i)]>data[\"take_profit\"])&\n",
    "            (data[\"decision_forward_{}\".format(i-1)]==0)&\n",
    "            (data[\"random\"]>=50)\n",
    "            ,str\n",
    "            ] = 1\n",
    "        \n",
    "         # If position is still open, both take-profit and stop-loss not reached, leave it as open\n",
    "        data.loc[\n",
    "            (data[\"Low_forward_{}\".format(i)]>data[\"stop_loss\"])&\n",
    "            (data[\"High_forward_{}\".format(i)]<data[\"take_profit\"])&\n",
    "            (data[\"decision_forward_{}\".format(i-1)]==0) \n",
    "            ,str\n",
    "            ] = 0\n",
    "\n",
    "        data.loc[(data[\"Low_forward_{}\".format(i)]<data[\"stop_loss\"])&(data[\"random\"]>49),str] = -1\n",
    "        data.loc[(data[\"High_forward_{}\".format(i)]>data[\"take_profit\"])&(data[\"random\"]>49),str] = 1\n",
    "    \n",
    "prepare_trade_forward_data(fm.df)\n",
    "fm.df.to_csv(\"../out/out.csv\")"
   ]
  },
  {
   "cell_type": "code",
   "execution_count": 4,
   "metadata": {},
   "outputs": [],
   "source": [
    "#results = pd.DataFrame(data = fm.df[\"decision_forward_3\"].value_counts())\n",
    "results = pd.DataFrame()\n",
    "for i in range(1,max_duration+1):\n",
    "    results[\"Forward {}\".format(i)]= fm.df[\"decision_forward_{}\".format(i)].value_counts()\n",
    "results.to_csv(\"../out/results.csv\")"
   ]
  },
  {
   "cell_type": "code",
   "execution_count": null,
   "metadata": {},
   "outputs": [],
   "source": []
  },
  {
   "cell_type": "code",
   "execution_count": null,
   "metadata": {},
   "outputs": [],
   "source": [
    "# Robot will based on current status, make a trade with a stoploss and profit. \n",
    "# We scan the future data and record profit/loss. It may look into smaller timeframe for better info. \n",
    "# The traded result, together with current status will be feeded to classifier model to learn\n",
    "def action():\n",
    "    ''' Return what to do in next interval \n",
    "        -1: Close as stoploss reached\n",
    "         0: Keep\n",
    "         1: Close as take profit reached\n",
    "         2: Closed\n",
    "    '''\n",
    "    outcome = 0\n",
    "    return outcome"
   ]
  }
 ],
 "metadata": {
  "kernelspec": {
   "display_name": "tensor",
   "language": "python",
   "name": "python3"
  },
  "language_info": {
   "codemirror_mode": {
    "name": "ipython",
    "version": 3
   },
   "file_extension": ".py",
   "mimetype": "text/x-python",
   "name": "python",
   "nbconvert_exporter": "python",
   "pygments_lexer": "ipython3",
   "version": "3.10.8"
  },
  "orig_nbformat": 4,
  "vscode": {
   "interpreter": {
    "hash": "8b58b1819899e409cec63cea36e334f732dfc50db3a5ecdff48b63b0a8eb4970"
   }
  }
 },
 "nbformat": 4,
 "nbformat_minor": 2
}
