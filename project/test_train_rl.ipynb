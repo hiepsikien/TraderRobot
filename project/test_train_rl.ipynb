{
 "cells": [
  {
   "cell_type": "code",
   "execution_count": 1,
   "metadata": {},
   "outputs": [],
   "source": [
    "import warnings\n",
    "warnings.simplefilter(action='ignore', category=FutureWarning)\n",
    "import pandas as pd\n",
    "warnings.simplefilter(action='ignore', category=pd.errors.PerformanceWarning)\n",
    "import feature_manager as fma\n",
    "import rl.env_simple_crypto_trade as env\n",
    "import importlib\n",
    "import rl.models as rla\n",
    "import config as cf"
   ]
  },
  {
   "cell_type": "code",
   "execution_count": 2,
   "metadata": {},
   "outputs": [
    {
     "name": "stdout",
     "output_type": "stream",
     "text": [
      "Imported trading data from ../data/BTCUSDT-4h.csv with 11760 rows\n",
      "Imported macro data from ../data/BTCUSDT-1d.csv with 1963 rows\n",
      "Imported super macro data from ../data/BTCUSDT-1w.csv with 247 rows\n",
      "Calculating external features ...\n",
      "Calculating TA indicators of trade timeframe\n",
      "Calculating TA indicators of macro timeframe\n",
      "Calculating TA indicators of super timeframe\n",
      "Calculating candlestick of trade timeframe\n",
      "Calculating candlestick of macro timeframe\n",
      "Calculating candlestick of super timeframe\n",
      "\n",
      "Adding features for trade timeframe with lags 1: hashrate, fed_rate, gold, nasdaq, sp500, google_trend, sma_3_10, sma_7_30, sma_14_50, cci7, cci14, cci30, dx7, dx14, dx30, up_bb, low_bb, CDL2CROWS, CDL3BLACKCROWS, CDL3INSIDE, CDL3LINESTRIKE, CDL3OUTSIDE, CDL3STARSINSOUTH, CDL3WHITESOLDIERS, CDLABANDONEDBABY, CDLADVANCEBLOCK, CDLBELTHOLD, CDLBREAKAWAY, CDLCLOSINGMARUBOZU, CDLCONCEALBABYSWALL, CDLCOUNTERATTACK, CDLDARKCLOUDCOVER, CDLDOJI, CDLDOJISTAR, CDLDRAGONFLYDOJI, CDLENGULFING, CDLEVENINGDOJISTAR, CDLEVENINGSTAR, CDLGAPSIDESIDEWHITE, CDLGRAVESTONEDOJI, CDLHAMMER, CDLHANGINGMAN, CDLHARAMI, CDLHARAMICROSS, CDLHIGHWAVE, CDLHIKKAKE, CDLHIKKAKEMOD, CDLHOMINGPIGEON, CDLIDENTICAL3CROWS, CDLINNECK, CDLINVERTEDHAMMER, CDLKICKING, CDLKICKINGBYLENGTH, CDLLADDERBOTTOM, CDLLONGLEGGEDDOJI, CDLLONGLINE, CDLMARUBOZU, CDLMATCHINGLOW, CDLMATHOLD, CDLMORNINGDOJISTAR, CDLMORNINGSTAR, CDLONNECK, CDLPIERCING, CDLRICKSHAWMAN, CDLRISEFALL3METHODS, CDLSEPARATINGLINES, CDLSHOOTINGSTAR, CDLSHORTLINE, CDLSPINNINGTOP, CDLSTALLEDPATTERN, CDLSTICKSANDWICH, CDLTAKURI, CDLTASUKIGAP, CDLTHRUSTING, CDLTRISTAR, CDLUNIQUE3RIVER, CDLUPSIDEGAP2CROWS, CDLXSIDEGAP3METHODS, \n",
      "\n",
      "Adding features for macro timeframe with lags 1: sma_3_10, sma_7_30, sma_14_50, rsi7, rsi14, rsi30, cci7, cci14, cci30, dx7, dx14, dx30, up_bb, low_bb, CDL2CROWS, CDL3BLACKCROWS, CDL3INSIDE, CDL3LINESTRIKE, CDL3OUTSIDE, CDL3STARSINSOUTH, CDL3WHITESOLDIERS, CDLABANDONEDBABY, CDLADVANCEBLOCK, CDLBELTHOLD, CDLBREAKAWAY, CDLCLOSINGMARUBOZU, CDLCONCEALBABYSWALL, CDLCOUNTERATTACK, CDLDARKCLOUDCOVER, CDLDOJI, CDLDOJISTAR, CDLDRAGONFLYDOJI, CDLENGULFING, CDLEVENINGDOJISTAR, CDLEVENINGSTAR, CDLGAPSIDESIDEWHITE, CDLGRAVESTONEDOJI, CDLHAMMER, CDLHANGINGMAN, CDLHARAMI, CDLHARAMICROSS, CDLHIGHWAVE, CDLHIKKAKE, CDLHIKKAKEMOD, CDLHOMINGPIGEON, CDLIDENTICAL3CROWS, CDLINNECK, CDLINVERTEDHAMMER, CDLKICKING, CDLKICKINGBYLENGTH, CDLLADDERBOTTOM, CDLLONGLEGGEDDOJI, CDLLONGLINE, CDLMARUBOZU, CDLMATCHINGLOW, CDLMATHOLD, CDLMORNINGDOJISTAR, CDLMORNINGSTAR, CDLONNECK, CDLPIERCING, CDLRICKSHAWMAN, CDLRISEFALL3METHODS, CDLSEPARATINGLINES, CDLSHOOTINGSTAR, CDLSHORTLINE, CDLSPINNINGTOP, CDLSTALLEDPATTERN, CDLSTICKSANDWICH, CDLTAKURI, CDLTASUKIGAP, CDLTHRUSTING, CDLTRISTAR, CDLUNIQUE3RIVER, CDLUPSIDEGAP2CROWS, CDLXSIDEGAP3METHODS, \n",
      "\n",
      "Adding features for super timeframe with lags 1: sma_3_10, sma_7_30, sma_14_50, rsi7, rsi14, rsi30, cci7, cci14, cci30, dx7, dx14, dx30, up_bb, low_bb, CDL2CROWS, CDL3BLACKCROWS, CDL3INSIDE, CDL3LINESTRIKE, CDL3OUTSIDE, CDL3STARSINSOUTH, CDL3WHITESOLDIERS, CDLABANDONEDBABY, CDLADVANCEBLOCK, CDLBELTHOLD, CDLBREAKAWAY, CDLCLOSINGMARUBOZU, CDLCONCEALBABYSWALL, CDLCOUNTERATTACK, CDLDARKCLOUDCOVER, CDLDOJI, CDLDOJISTAR, CDLDRAGONFLYDOJI, CDLENGULFING, CDLEVENINGDOJISTAR, CDLEVENINGSTAR, CDLGAPSIDESIDEWHITE, CDLGRAVESTONEDOJI, CDLHAMMER, CDLHANGINGMAN, CDLHARAMI, CDLHARAMICROSS, CDLHIGHWAVE, CDLHIKKAKE, CDLHIKKAKEMOD, CDLHOMINGPIGEON, CDLIDENTICAL3CROWS, CDLINNECK, CDLINVERTEDHAMMER, CDLKICKING, CDLKICKINGBYLENGTH, CDLLADDERBOTTOM, CDLLONGLEGGEDDOJI, CDLLONGLINE, CDLMARUBOZU, CDLMATCHINGLOW, CDLMATHOLD, CDLMORNINGDOJISTAR, CDLMORNINGSTAR, CDLONNECK, CDLPIERCING, CDLRICKSHAWMAN, CDLRISEFALL3METHODS, CDLSEPARATINGLINES, CDLSHOOTINGSTAR, CDLSHORTLINE, CDLSPINNINGTOP, CDLSTALLEDPATTERN, CDLSTICKSANDWICH, CDLTAKURI, CDLTASUKIGAP, CDLTHRUSTING, CDLTRISTAR, CDLUNIQUE3RIVER, CDLUPSIDEGAP2CROWS, CDLXSIDEGAP3METHODS, \n",
      "\n",
      "Normalizing features with MaxAbs: hashrate_trade_lag_1, fed_rate_trade_lag_1, gold_trade_lag_1, nasdaq_trade_lag_1, sp500_trade_lag_1, google_trend_trade_lag_1, sma_3_10_trade_lag_1, sma_7_30_trade_lag_1, sma_14_50_trade_lag_1, cci7_trade_lag_1, cci14_trade_lag_1, cci30_trade_lag_1, dx7_trade_lag_1, dx14_trade_lag_1, dx30_trade_lag_1, up_bb_trade_lag_1, low_bb_trade_lag_1, CDL2CROWS_trade_lag_1, CDL3BLACKCROWS_trade_lag_1, CDL3INSIDE_trade_lag_1, CDL3LINESTRIKE_trade_lag_1, CDL3OUTSIDE_trade_lag_1, CDL3STARSINSOUTH_trade_lag_1, CDL3WHITESOLDIERS_trade_lag_1, CDLABANDONEDBABY_trade_lag_1, CDLADVANCEBLOCK_trade_lag_1, CDLBELTHOLD_trade_lag_1, CDLBREAKAWAY_trade_lag_1, CDLCLOSINGMARUBOZU_trade_lag_1, CDLCONCEALBABYSWALL_trade_lag_1, CDLCOUNTERATTACK_trade_lag_1, CDLDARKCLOUDCOVER_trade_lag_1, CDLDOJI_trade_lag_1, CDLDOJISTAR_trade_lag_1, CDLDRAGONFLYDOJI_trade_lag_1, CDLENGULFING_trade_lag_1, CDLEVENINGDOJISTAR_trade_lag_1, CDLEVENINGSTAR_trade_lag_1, CDLGAPSIDESIDEWHITE_trade_lag_1, CDLGRAVESTONEDOJI_trade_lag_1, CDLHAMMER_trade_lag_1, CDLHANGINGMAN_trade_lag_1, CDLHARAMI_trade_lag_1, CDLHARAMICROSS_trade_lag_1, CDLHIGHWAVE_trade_lag_1, CDLHIKKAKE_trade_lag_1, CDLHIKKAKEMOD_trade_lag_1, CDLHOMINGPIGEON_trade_lag_1, CDLIDENTICAL3CROWS_trade_lag_1, CDLINNECK_trade_lag_1, CDLINVERTEDHAMMER_trade_lag_1, CDLKICKING_trade_lag_1, CDLKICKINGBYLENGTH_trade_lag_1, CDLLADDERBOTTOM_trade_lag_1, CDLLONGLEGGEDDOJI_trade_lag_1, CDLLONGLINE_trade_lag_1, CDLMARUBOZU_trade_lag_1, CDLMATCHINGLOW_trade_lag_1, CDLMATHOLD_trade_lag_1, CDLMORNINGDOJISTAR_trade_lag_1, CDLMORNINGSTAR_trade_lag_1, CDLONNECK_trade_lag_1, CDLPIERCING_trade_lag_1, CDLRICKSHAWMAN_trade_lag_1, CDLRISEFALL3METHODS_trade_lag_1, CDLSEPARATINGLINES_trade_lag_1, CDLSHOOTINGSTAR_trade_lag_1, CDLSHORTLINE_trade_lag_1, CDLSPINNINGTOP_trade_lag_1, CDLSTALLEDPATTERN_trade_lag_1, CDLSTICKSANDWICH_trade_lag_1, CDLTAKURI_trade_lag_1, CDLTASUKIGAP_trade_lag_1, CDLTHRUSTING_trade_lag_1, CDLTRISTAR_trade_lag_1, CDLUNIQUE3RIVER_trade_lag_1, CDLUPSIDEGAP2CROWS_trade_lag_1, CDLXSIDEGAP3METHODS_trade_lag_1, sma_3_10_macro_lag_1, sma_7_30_macro_lag_1, sma_14_50_macro_lag_1, rsi7_macro_lag_1, rsi14_macro_lag_1, rsi30_macro_lag_1, cci7_macro_lag_1, cci14_macro_lag_1, cci30_macro_lag_1, dx7_macro_lag_1, dx14_macro_lag_1, dx30_macro_lag_1, up_bb_macro_lag_1, low_bb_macro_lag_1, CDL2CROWS_macro_lag_1, CDL3BLACKCROWS_macro_lag_1, CDL3INSIDE_macro_lag_1, CDL3LINESTRIKE_macro_lag_1, CDL3OUTSIDE_macro_lag_1, CDL3STARSINSOUTH_macro_lag_1, CDL3WHITESOLDIERS_macro_lag_1, CDLABANDONEDBABY_macro_lag_1, CDLADVANCEBLOCK_macro_lag_1, CDLBELTHOLD_macro_lag_1, CDLBREAKAWAY_macro_lag_1, CDLCLOSINGMARUBOZU_macro_lag_1, CDLCONCEALBABYSWALL_macro_lag_1, CDLCOUNTERATTACK_macro_lag_1, CDLDARKCLOUDCOVER_macro_lag_1, CDLDOJI_macro_lag_1, CDLDOJISTAR_macro_lag_1, CDLDRAGONFLYDOJI_macro_lag_1, CDLENGULFING_macro_lag_1, CDLEVENINGDOJISTAR_macro_lag_1, CDLEVENINGSTAR_macro_lag_1, CDLGAPSIDESIDEWHITE_macro_lag_1, CDLGRAVESTONEDOJI_macro_lag_1, CDLHAMMER_macro_lag_1, CDLHANGINGMAN_macro_lag_1, CDLHARAMI_macro_lag_1, CDLHARAMICROSS_macro_lag_1, CDLHIGHWAVE_macro_lag_1, CDLHIKKAKE_macro_lag_1, CDLHIKKAKEMOD_macro_lag_1, CDLHOMINGPIGEON_macro_lag_1, CDLIDENTICAL3CROWS_macro_lag_1, CDLINNECK_macro_lag_1, CDLINVERTEDHAMMER_macro_lag_1, CDLKICKING_macro_lag_1, CDLKICKINGBYLENGTH_macro_lag_1, CDLLADDERBOTTOM_macro_lag_1, CDLLONGLEGGEDDOJI_macro_lag_1, CDLLONGLINE_macro_lag_1, CDLMARUBOZU_macro_lag_1, CDLMATCHINGLOW_macro_lag_1, CDLMATHOLD_macro_lag_1, CDLMORNINGDOJISTAR_macro_lag_1, CDLMORNINGSTAR_macro_lag_1, CDLONNECK_macro_lag_1, CDLPIERCING_macro_lag_1, CDLRICKSHAWMAN_macro_lag_1, CDLRISEFALL3METHODS_macro_lag_1, CDLSEPARATINGLINES_macro_lag_1, CDLSHOOTINGSTAR_macro_lag_1, CDLSHORTLINE_macro_lag_1, CDLSPINNINGTOP_macro_lag_1, CDLSTALLEDPATTERN_macro_lag_1, CDLSTICKSANDWICH_macro_lag_1, CDLTAKURI_macro_lag_1, CDLTASUKIGAP_macro_lag_1, CDLTHRUSTING_macro_lag_1, CDLTRISTAR_macro_lag_1, CDLUNIQUE3RIVER_macro_lag_1, CDLUPSIDEGAP2CROWS_macro_lag_1, CDLXSIDEGAP3METHODS_macro_lag_1, sma_3_10_super_lag_1, sma_7_30_super_lag_1, sma_14_50_super_lag_1, rsi7_super_lag_1, rsi14_super_lag_1, rsi30_super_lag_1, cci7_super_lag_1, cci14_super_lag_1, cci30_super_lag_1, dx7_super_lag_1, dx14_super_lag_1, dx30_super_lag_1, up_bb_super_lag_1, low_bb_super_lag_1, CDL2CROWS_super_lag_1, CDL3BLACKCROWS_super_lag_1, CDL3INSIDE_super_lag_1, CDL3LINESTRIKE_super_lag_1, CDL3OUTSIDE_super_lag_1, CDL3STARSINSOUTH_super_lag_1, CDL3WHITESOLDIERS_super_lag_1, CDLABANDONEDBABY_super_lag_1, CDLADVANCEBLOCK_super_lag_1, CDLBELTHOLD_super_lag_1, CDLBREAKAWAY_super_lag_1, CDLCLOSINGMARUBOZU_super_lag_1, CDLCONCEALBABYSWALL_super_lag_1, CDLCOUNTERATTACK_super_lag_1, CDLDARKCLOUDCOVER_super_lag_1, CDLDOJI_super_lag_1, CDLDOJISTAR_super_lag_1, CDLDRAGONFLYDOJI_super_lag_1, CDLENGULFING_super_lag_1, CDLEVENINGDOJISTAR_super_lag_1, CDLEVENINGSTAR_super_lag_1, CDLGAPSIDESIDEWHITE_super_lag_1, CDLGRAVESTONEDOJI_super_lag_1, CDLHAMMER_super_lag_1, CDLHANGINGMAN_super_lag_1, CDLHARAMI_super_lag_1, CDLHARAMICROSS_super_lag_1, CDLHIGHWAVE_super_lag_1, CDLHIKKAKE_super_lag_1, CDLHIKKAKEMOD_super_lag_1, CDLHOMINGPIGEON_super_lag_1, CDLIDENTICAL3CROWS_super_lag_1, CDLINNECK_super_lag_1, CDLINVERTEDHAMMER_super_lag_1, CDLKICKING_super_lag_1, CDLKICKINGBYLENGTH_super_lag_1, CDLLADDERBOTTOM_super_lag_1, CDLLONGLEGGEDDOJI_super_lag_1, CDLLONGLINE_super_lag_1, CDLMARUBOZU_super_lag_1, CDLMATCHINGLOW_super_lag_1, CDLMATHOLD_super_lag_1, CDLMORNINGDOJISTAR_super_lag_1, CDLMORNINGSTAR_super_lag_1, CDLONNECK_super_lag_1, CDLPIERCING_super_lag_1, CDLRICKSHAWMAN_super_lag_1, CDLRISEFALL3METHODS_super_lag_1, CDLSEPARATINGLINES_super_lag_1, CDLSHOOTINGSTAR_super_lag_1, CDLSHORTLINE_super_lag_1, CDLSPINNINGTOP_super_lag_1, CDLSTALLEDPATTERN_super_lag_1, CDLSTICKSANDWICH_super_lag_1, CDLTAKURI_super_lag_1, CDLTASUKIGAP_super_lag_1, CDLTHRUSTING_super_lag_1, CDLTRISTAR_super_lag_1, CDLUNIQUE3RIVER_super_lag_1, CDLUPSIDEGAP2CROWS_super_lag_1, CDLXSIDEGAP3METHODS_super_lag_1, \n",
      "Total 228 features added.\n"
     ]
    }
   ],
   "source": [
    "importlib.reload(fma)\n",
    "\n",
    "fm = fma.FeatureManager(target_col=\"trade_signal\")\n",
    "fm.import_trading_data(symbol=\"BTCUSDT\",trade_timeframe=\"4h\")\n",
    "fm.import_macro_data(symbol=\"BTCUSDT\",macro_timeframe=\"1d\")\n",
    "fm.import_super_data(symbol=\"BTCUSDT\",super_timeframe=\"1w\")\n",
    "\n",
    "fm.build_features(\n",
    "    lags = 1,\n",
    "    macro_lags = 1,\n",
    "    super_lags = 1,\n",
    "    features = cf.BITCOIN_EXTERNAL_INDICATORS + cf.TRADING_TA_INDICATORS + cf.CANDLESTICK_INDICATORS,\n",
    "    macro_features = cf.MACRO_TA_INDICATORS + cf.CANDLESTICK_INDICATORS,\n",
    "    super_features = cf.SUPER_TA_INDICATORS + cf.CANDLESTICK_INDICATORS,\n",
    ")"
   ]
  },
  {
   "cell_type": "code",
   "execution_count": 3,
   "metadata": {},
   "outputs": [],
   "source": [
    "train = fm.df.iloc[-4000:-2000]\n",
    "trade = fm.df.iloc[-2000:]"
   ]
  },
  {
   "cell_type": "code",
   "execution_count": 4,
   "metadata": {},
   "outputs": [],
   "source": [
    "importlib.reload(env)\n",
    "\n",
    "env_kwargs = cf.TRADE_ENV_PARAMETER\n",
    "state_space = 3 + len(fm.cols)\n",
    "\n",
    "train_env = env.CryptoTradingEnv(\n",
    "    df = train, \n",
    "    state_space=state_space,\n",
    "    indicators=fm.cols,\n",
    "    **env_kwargs)\n",
    "\n",
    "trade_env = env.CryptoTradingEnv(\n",
    "    df = trade, \n",
    "    state_space=state_space,\n",
    "    indicators=fm.cols,\n",
    "    **env_kwargs)\n",
    "full_env = env.CryptoTradingEnv(\n",
    "    df = fm.df, \n",
    "    state_space=state_space,\n",
    "    indicators=fm.cols,\n",
    "    **env_kwargs)"
   ]
  },
  {
   "cell_type": "code",
   "execution_count": 5,
   "metadata": {},
   "outputs": [],
   "source": [
    "importlib.reload(rla)\n",
    "agent = rla.DRLTradeAgent(env=full_env)"
   ]
  },
  {
   "cell_type": "code",
   "execution_count": 6,
   "metadata": {},
   "outputs": [
    {
     "name": "stdout",
     "output_type": "stream",
     "text": [
      "Using cuda device\n",
      "Wrapping the env with a `Monitor` wrapper\n",
      "Wrapping the env in a DummyVecEnv.\n"
     ]
    }
   ],
   "source": [
    "model_ppo = agent.get_model(model_name=\"ppo\",gamma=0.995,seed=100)"
   ]
  },
  {
   "cell_type": "code",
   "execution_count": null,
   "metadata": {},
   "outputs": [],
   "source": [
    "selected_model = model_ppo\n",
    "selected_model = agent.train_model(selected_model,\n",
    "    total_timesteps=300_000,\n",
    "    checkpoint=True,\n",
    "    checkpoint_subdir_name=\"gamma_995\",\n",
    "    save_frequency=5_000,\n",
    ")"
   ]
  },
  {
   "cell_type": "code",
   "execution_count": null,
   "metadata": {},
   "outputs": [],
   "source": []
  }
 ],
 "metadata": {
  "kernelspec": {
   "display_name": "tensor",
   "language": "python",
   "name": "python3"
  },
  "language_info": {
   "codemirror_mode": {
    "name": "ipython",
    "version": 3
   },
   "file_extension": ".py",
   "mimetype": "text/x-python",
   "name": "python",
   "nbconvert_exporter": "python",
   "pygments_lexer": "ipython3",
   "version": "3.10.8"
  },
  "orig_nbformat": 4,
  "vscode": {
   "interpreter": {
    "hash": "8b58b1819899e409cec63cea36e334f732dfc50db3a5ecdff48b63b0a8eb4970"
   }
  }
 },
 "nbformat": 4,
 "nbformat_minor": 2
}
