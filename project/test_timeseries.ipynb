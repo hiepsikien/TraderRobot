{
 "cells": [
  {
   "cell_type": "code",
   "execution_count": 1,
   "metadata": {},
   "outputs": [],
   "source": [
    "import numpy as np\n",
    "\n",
    "simple_features = np.array([\n",
    "    [1, 1, 1],\n",
    "    [2, 2, 2],\n",
    "    [3, 3, 3],\n",
    "    [4, 4, 4],\n",
    "    [5, 5, 5],\n",
    "    [6, 6, 6],\n",
    "    [7, 7, 7],\n",
    "    [8, 8, 8],\n",
    "    [9, 9, 9],\n",
    "    [10, 10, 10],\n",
    "    [11, 11, 11],\n",
    "    [12, 12, 12],\n",
    "])\n",
    "\n",
    "simple_labels = np.array([\n",
    "    [-1, -1],\n",
    "    [-2, -2],\n",
    "    [-3, -3],\n",
    "    [-4, -4],\n",
    "    [-5, -5],\n",
    "    [-6, -6],\n",
    "    [-7, -7],\n",
    "    [-8, -8],\n",
    "    [-9, -9],\n",
    "    [-10, -10],\n",
    "    [-11, -11],\n",
    "    [-12, -12],\n",
    "])"
   ]
  },
  {
   "cell_type": "code",
   "execution_count": 7,
   "metadata": {},
   "outputs": [],
   "source": [
    "def print_dataset(ds):\n",
    "\n",
    "    for inputs, targets in ds:\n",
    "        print(\"---Batch---\")\n",
    "        print(\"Feature:\", inputs.numpy())\n",
    "        print(\"Label:\", targets.numpy())\n",
    "        print(\"\")\n",
    "\n",
    "def print_generator(gen):\n",
    "    for inputs, targets in gen:\n",
    "        print(\"---Batch---\")\n",
    "        print(\"Feature:\", inputs)\n",
    "        print(\"Label:\", targets)\n",
    "        print(\"\")"
   ]
  },
  {
   "cell_type": "code",
   "execution_count": 3,
   "metadata": {},
   "outputs": [
    {
     "name": "stderr",
     "output_type": "stream",
     "text": [
      "2023-01-11 16:10:54.536460: W tensorflow/compiler/xla/stream_executor/platform/default/dso_loader.cc:64] Could not load dynamic library 'libnvinfer.so.7'; dlerror: libnvinfer.so.7: cannot open shared object file: No such file or directory\n",
      "2023-01-11 16:10:54.536556: W tensorflow/compiler/xla/stream_executor/platform/default/dso_loader.cc:64] Could not load dynamic library 'libnvinfer_plugin.so.7'; dlerror: libnvinfer_plugin.so.7: cannot open shared object file: No such file or directory\n",
      "2023-01-11 16:10:54.536569: W tensorflow/compiler/tf2tensorrt/utils/py_utils.cc:38] TF-TRT Warning: Cannot dlopen some TensorRT libraries. If you would like to use Nvidia GPU with TensorRT, please make sure the missing libraries mentioned above are installed properly.\n"
     ]
    }
   ],
   "source": [
    "import tensorflow as tf"
   ]
  },
  {
   "cell_type": "code",
   "execution_count": 4,
   "metadata": {},
   "outputs": [],
   "source": [
    "def timeseries_generator_one_step(features, labels, input_sequence_length, batch_size):\n",
    "    return tf.keras.preprocessing.sequence.TimeseriesGenerator(\n",
    "        features, \n",
    "        labels, \n",
    "        input_sequence_length, \n",
    "        batch_size=batch_size)"
   ]
  },
  {
   "cell_type": "code",
   "execution_count": 5,
   "metadata": {},
   "outputs": [
    {
     "name": "stderr",
     "output_type": "stream",
     "text": [
      "2023-01-11 16:11:05.882339: I tensorflow/core/common_runtime/gpu/gpu_device.cc:1613] Created device /job:localhost/replica:0/task:0/device:GPU:0 with 28 MB memory:  -> device: 0, name: NVIDIA GeForce GTX 1060 3GB, pci bus id: 0000:01:00.0, compute capability: 6.1\n"
     ]
    }
   ],
   "source": [
    "ds = tf.keras.preprocessing.timeseries_dataset_from_array(\n",
    "    simple_features,\n",
    "    simple_labels,\n",
    "    sequence_length=4,\n",
    "    batch_size=2)"
   ]
  },
  {
   "cell_type": "code",
   "execution_count": 8,
   "metadata": {},
   "outputs": [
    {
     "name": "stdout",
     "output_type": "stream",
     "text": [
      "---Batch---\n",
      "Input shape = \n",
      "Feature: [[[1 1 1]\n",
      "  [2 2 2]\n",
      "  [3 3 3]\n",
      "  [4 4 4]]\n",
      "\n",
      " [[2 2 2]\n",
      "  [3 3 3]\n",
      "  [4 4 4]\n",
      "  [5 5 5]]]\n",
      "Label: [[-1 -1]\n",
      " [-2 -2]]\n",
      "\n",
      "---Batch---\n",
      "Input shape = \n",
      "Feature: [[[3 3 3]\n",
      "  [4 4 4]\n",
      "  [5 5 5]\n",
      "  [6 6 6]]\n",
      "\n",
      " [[4 4 4]\n",
      "  [5 5 5]\n",
      "  [6 6 6]\n",
      "  [7 7 7]]]\n",
      "Label: [[-3 -3]\n",
      " [-4 -4]]\n",
      "\n",
      "---Batch---\n",
      "Input shape = \n",
      "Feature: [[[5 5 5]\n",
      "  [6 6 6]\n",
      "  [7 7 7]\n",
      "  [8 8 8]]\n",
      "\n",
      " [[6 6 6]\n",
      "  [7 7 7]\n",
      "  [8 8 8]\n",
      "  [9 9 9]]]\n",
      "Label: [[-5 -5]\n",
      " [-6 -6]]\n",
      "\n",
      "---Batch---\n",
      "Input shape = \n",
      "Feature: [[[ 7  7  7]\n",
      "  [ 8  8  8]\n",
      "  [ 9  9  9]\n",
      "  [10 10 10]]\n",
      "\n",
      " [[ 8  8  8]\n",
      "  [ 9  9  9]\n",
      "  [10 10 10]\n",
      "  [11 11 11]]]\n",
      "Label: [[-7 -7]\n",
      " [-8 -8]]\n",
      "\n",
      "---Batch---\n",
      "Input shape = \n",
      "Feature: [[[ 9  9  9]\n",
      "  [10 10 10]\n",
      "  [11 11 11]\n",
      "  [12 12 12]]]\n",
      "Label: [[-9 -9]]\n",
      "\n"
     ]
    }
   ],
   "source": [
    "print_dataset(ds)"
   ]
  },
  {
   "cell_type": "code",
   "execution_count": 9,
   "metadata": {},
   "outputs": [
    {
     "data": {
      "text/plain": [
       "<BatchDataset element_spec=(TensorSpec(shape=(None, None, 3), dtype=tf.int64, name=None), TensorSpec(shape=(None, 2), dtype=tf.int64, name=None))>"
      ]
     },
     "execution_count": 9,
     "metadata": {},
     "output_type": "execute_result"
    }
   ],
   "source": [
    "ds"
   ]
  },
  {
   "cell_type": "code",
   "execution_count": 10,
   "metadata": {},
   "outputs": [
    {
     "name": "stdout",
     "output_type": "stream",
     "text": [
      "(2, 4, 3)\n",
      "(2, 4, 3)\n",
      "(2, 4, 3)\n",
      "(2, 4, 3)\n",
      "(1, 4, 3)\n"
     ]
    }
   ],
   "source": [
    "for (inputs, targets) in ds:\n",
    "    print(inputs.shape)"
   ]
  },
  {
   "cell_type": "code",
   "execution_count": null,
   "metadata": {},
   "outputs": [],
   "source": []
  }
 ],
 "metadata": {
  "kernelspec": {
   "display_name": "tensor",
   "language": "python",
   "name": "python3"
  },
  "language_info": {
   "codemirror_mode": {
    "name": "ipython",
    "version": 3
   },
   "file_extension": ".py",
   "mimetype": "text/x-python",
   "name": "python",
   "nbconvert_exporter": "python",
   "pygments_lexer": "ipython3",
   "version": "3.10.8"
  },
  "orig_nbformat": 4,
  "vscode": {
   "interpreter": {
    "hash": "8b58b1819899e409cec63cea36e334f732dfc50db3a5ecdff48b63b0a8eb4970"
   }
  }
 },
 "nbformat": 4,
 "nbformat_minor": 2
}
