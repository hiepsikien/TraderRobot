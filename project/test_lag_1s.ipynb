{
 "cells": [
  {
   "cell_type": "code",
   "execution_count": null,
   "metadata": {},
   "outputs": [],
   "source": [
    "import pandas as pd\n",
    "from config import AGGREGATED_DATA_PATH"
   ]
  },
  {
   "cell_type": "code",
   "execution_count": null,
   "metadata": {},
   "outputs": [],
   "source": [
    "btc_data = pd.read_hdf(f\"{AGGREGATED_DATA_PATH}BTCUSDT-1s.h5\")\n",
    "alt_data = pd.read_hdf(f\"{AGGREGATED_DATA_PATH}ANTUSDT-1s.h5\")"
   ]
  },
  {
   "cell_type": "code",
   "execution_count": null,
   "metadata": {},
   "outputs": [],
   "source": [
    "def prepare_data(latest: int, coin_name,btc_data,alt_data):\n",
    "    df = pd.DataFrame({\"btc\":btc_data[-latest:][\"Close\"],coin_name:alt_data[-latest:][\"Close\"]})\n",
    "    df[\"btc_return\"] = df[\"btc\"]/df[\"btc\"].shift() - 1\n",
    "    df[f\"{coin_name}_return\"] = df[f\"{coin_name}\"]/df[f\"{coin_name}\"].shift() - 1\n",
    "    for i in range(0,8,1):\n",
    "        df[f\"btc_fwd_{i}\"] = df[\"btc_return\"].shift(-i)\n",
    "        df[f\"{coin_name}_fwd_{i}\"] = df[f\"{coin_name}_return\"].shift(-i)\n",
    "    df.dropna(inplace=True)\n",
    "    return df"
   ]
  },
  {
   "cell_type": "code",
   "execution_count": null,
   "metadata": {},
   "outputs": [],
   "source": [
    "df = prepare_data(\n",
    "    latest=5_000_000,\n",
    "    coin_name=\"ant\",\n",
    "    btc_data=btc_data,\n",
    "    alt_data=alt_data\n",
    ")"
   ]
  },
  {
   "cell_type": "code",
   "execution_count": null,
   "metadata": {},
   "outputs": [],
   "source": [
    "def plot_drop_correlation(df:pd.DataFrame,delay:int,coin_name:str,drop_ratio:float):\n",
    "    list = []\n",
    "    for num in range(200):\n",
    "        print(num, end = \" \")\n",
    "        step = -0.00001\n",
    "        th = num * step\n",
    "        ratio = len(df[(df[\"btc_return\"] < th) & (df[f\"{coin_name}_fwd_{delay}\"] < th * drop_ratio)]) / len(df[(df[\"btc_return\"] < th)])\\\n",
    "            if  len(df[df[\"btc_return\"] >0]) else 0\n",
    "        list.append(ratio)\n",
    "        \n",
    "    pd.DataFrame(list).plot()"
   ]
  },
  {
   "cell_type": "code",
   "execution_count": null,
   "metadata": {},
   "outputs": [],
   "source": [
    "def plot_drop_event_counts(df:pd.DataFrame):\n",
    "    list = []\n",
    "    for num in range(200):\n",
    "        print(num, end = \" \")\n",
    "        step = -0.00001\n",
    "        th = num * step\n",
    "        list.append(len(df[df[\"btc_return\"]<th]))\n",
    "    pd.DataFrame(list).plot(logy=True)"
   ]
  },
  {
   "cell_type": "code",
   "execution_count": null,
   "metadata": {},
   "outputs": [],
   "source": [
    "plot_drop_correlation(df=df,delay=1,coin_name=\"ant\",drop_ratio=0.1)"
   ]
  },
  {
   "cell_type": "code",
   "execution_count": null,
   "metadata": {},
   "outputs": [],
   "source": []
  }
 ],
 "metadata": {
  "kernelspec": {
   "display_name": "tensor",
   "language": "python",
   "name": "python3"
  },
  "language_info": {
   "codemirror_mode": {
    "name": "ipython",
    "version": 3
   },
   "file_extension": ".py",
   "mimetype": "text/x-python",
   "name": "python",
   "nbconvert_exporter": "python",
   "pygments_lexer": "ipython3",
   "version": "3.10.8"
  },
  "orig_nbformat": 4,
  "vscode": {
   "interpreter": {
    "hash": "8b58b1819899e409cec63cea36e334f732dfc50db3a5ecdff48b63b0a8eb4970"
   }
  }
 },
 "nbformat": 4,
 "nbformat_minor": 2
}
