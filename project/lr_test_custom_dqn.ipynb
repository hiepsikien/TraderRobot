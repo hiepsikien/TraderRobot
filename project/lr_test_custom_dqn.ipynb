{
 "cells": [
  {
   "cell_type": "code",
   "execution_count": null,
   "metadata": {},
   "outputs": [],
   "source": [
    "import gym\n",
    "import wandb\n",
    "from rl import diy_dqn as rmk\n",
    "import importlib"
   ]
  },
  {
   "cell_type": "code",
   "execution_count": null,
   "metadata": {},
   "outputs": [],
   "source": [
    "env = gym.make('CartPole-v1')"
   ]
  },
  {
   "cell_type": "code",
   "execution_count": null,
   "metadata": {},
   "outputs": [],
   "source": [
    "env"
   ]
  },
  {
   "cell_type": "code",
   "execution_count": null,
   "metadata": {},
   "outputs": [],
   "source": [
    "wandb.finish(-1)"
   ]
  },
  {
   "cell_type": "code",
   "execution_count": null,
   "metadata": {},
   "outputs": [],
   "source": [
    "importlib.reload(rmk)\n",
    "\n",
    "wandb.init(\n",
    "    name=\"fixed-learning-rate-duel-dqn-try-1\",\n",
    "    config={\n",
    "        \"variant\": \"duel\",\n",
    "        \"batch_size\": 16,\n",
    "        \"hidden_layers\": [64,64],\n",
    "        \"epochs\": 5,\n",
    "        \"learning_rate\": 0.001,\n",
    "        \"replay_batch_num\": 4,\n",
    "        }\n",
    ")\n",
    "\n",
    "cf = wandb.config\n",
    "\n",
    "agent = rmk.DQNAgent(\n",
    "    env,\n",
    "    hidden_layers=[64,64],\n",
    "    batch_size=cf[\"batch_size\"],\n",
    "    variant=cf[\"variant\"],\n",
    "    learning_rate= cf[\"learning_rate\"],\n",
    "    replay_batch_num=cf[\"replay_batch_num\"],\n",
    "    epochs=cf[\"epochs\"]\n",
    ")\n",
    "\n",
    "wandb.finish(0)"
   ]
  },
  {
   "cell_type": "code",
   "execution_count": null,
   "metadata": {},
   "outputs": [],
   "source": [
    "agent.train(max_episodes=300)"
   ]
  },
  {
   "cell_type": "code",
   "execution_count": null,
   "metadata": {},
   "outputs": [],
   "source": []
  }
 ],
 "metadata": {
  "kernelspec": {
   "display_name": "tensor",
   "language": "python",
   "name": "python3"
  },
  "language_info": {
   "codemirror_mode": {
    "name": "ipython",
    "version": 3
   },
   "file_extension": ".py",
   "mimetype": "text/x-python",
   "name": "python",
   "nbconvert_exporter": "python",
   "pygments_lexer": "ipython3",
   "version": "3.10.8"
  },
  "orig_nbformat": 4,
  "vscode": {
   "interpreter": {
    "hash": "8b58b1819899e409cec63cea36e334f732dfc50db3a5ecdff48b63b0a8eb4970"
   }
  }
 },
 "nbformat": 4,
 "nbformat_minor": 2
}
