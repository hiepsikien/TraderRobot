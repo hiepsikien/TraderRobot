{
 "cells": [
  {
   "cell_type": "code",
   "execution_count": 1,
   "metadata": {},
   "outputs": [
    {
     "name": "stderr",
     "output_type": "stream",
     "text": [
      "2023-01-17 23:31:37.662482: W tensorflow/compiler/xla/stream_executor/platform/default/dso_loader.cc:64] Could not load dynamic library 'libnvinfer.so.7'; dlerror: libnvinfer.so.7: cannot open shared object file: No such file or directory\n",
      "2023-01-17 23:31:37.662573: W tensorflow/compiler/xla/stream_executor/platform/default/dso_loader.cc:64] Could not load dynamic library 'libnvinfer_plugin.so.7'; dlerror: libnvinfer_plugin.so.7: cannot open shared object file: No such file or directory\n",
      "2023-01-17 23:31:37.662583: W tensorflow/compiler/tf2tensorrt/utils/py_utils.cc:38] TF-TRT Warning: Cannot dlopen some TensorRT libraries. If you would like to use Nvidia GPU with TensorRT, please make sure the missing libraries mentioned above are installed properly.\n"
     ]
    }
   ],
   "source": [
    "import warnings\n",
    "warnings.simplefilter(action='ignore', category=FutureWarning)\n",
    "import pandas as pd\n",
    "warnings.simplefilter(action='ignore', category=pd.errors.PerformanceWarning)\n",
    "import numpy as np\n",
    "import matplotlib.pyplot as plt\n",
    "from feature_manager import FeatureManager\n",
    "import dnn_multi_class_classifier as dnn\n",
    "from random import randint\n",
    "from keras import callbacks\n",
    "from keras import losses\n",
    "from visualizer import *\n",
    "from keras.utils import np_utils\n",
    "from sklearn.metrics import classification_report\n",
    "import importlib\n"
   ]
  },
  {
   "cell_type": "code",
   "execution_count": 2,
   "metadata": {},
   "outputs": [
    {
     "name": "stdout",
     "output_type": "stream",
     "text": [
      "Processing 1/7\n",
      "Processing 2/7\n",
      "Processing 3/7\n",
      "Processing 4/7\n",
      "Processing 5/7\n",
      "Processing 6/7\n",
      "Processing 7/7\n"
     ]
    }
   ],
   "source": [
    "timeframe_in_ms = {\"15m\":15*60*1000,\"1h\":60*60*1000,\"1d\":24*60*60*1000}\n",
    "\n",
    "symbol = \"BTCUSDT\"\n",
    "trade_tf = \"1h\"\n",
    "granular_tf = \"1m\"\n",
    "\n",
    "tp = 0.05\n",
    "sl = 0.025\n",
    "md = 7\n",
    "\n",
    "\n",
    "data = pd.read_csv(\"../data/{}-{}.csv\".format(\n",
    "    symbol,trade_tf), \n",
    "    parse_dates=[\"Open Time\"], \n",
    "    index_col = \"Open Time\"\n",
    ")\n",
    "\n",
    "granular_data = pd.read_csv(\"../nocommit/{}-{}.csv\".format(\n",
    "    symbol,granular_tf), \n",
    "    parse_dates=[\"Open Time\"], \n",
    "    index_col = \"Open Time\"\n",
    ")\n",
    "\n",
    "fm: FeatureManager = FeatureManager()\n",
    "fm.build_feature(data=data,lags=5)\n",
    "\n",
    "fm.prepare_trade_forward_data(\n",
    "    data=fm.df,\n",
    "    take_profit_rate=tp,\n",
    "    stop_loss_rate=sl,\n",
    "    max_duration=md,\n",
    "    granular_data=granular_data,\n",
    "    timeframe_in_ms=timeframe_in_ms[trade_tf]\n",
    ")\n",
    "# loop_classifier(data=fm.df,cols=fm.cols,target_col=\"trade_signal\",laps=3)"
   ]
  },
  {
   "cell_type": "code",
   "execution_count": 3,
   "metadata": {},
   "outputs": [
    {
     "data": {
      "text/plain": [
       "0    42621\n",
       "2     2368\n",
       "1     1839\n",
       "Name: trade_signal, dtype: int64"
      ]
     },
     "execution_count": 3,
     "metadata": {},
     "output_type": "execute_result"
    }
   ],
   "source": [
    "fm.df[\"trade_signal\"].value_counts()"
   ]
  },
  {
   "cell_type": "code",
   "execution_count": 6,
   "metadata": {},
   "outputs": [],
   "source": [
    "classifier = dnn.MultiClassDNNClassifer()\n",
    "classifier.prepare_data(data = fm.df,cols = fm.cols,target_col=\"trade_signal\",rebalance=\"under\",y_to_categorical = True, random_state=randint(0,100))"
   ]
  },
  {
   "cell_type": "code",
   "execution_count": 7,
   "metadata": {},
   "outputs": [
    {
     "name": "stdout",
     "output_type": "stream",
     "text": [
      "Epoch 1/200\n",
      "\n",
      "Epoch 1: val_loss improved from inf to 1.03935, saving model to ../data/model_dnn_checkpoint.h5\n",
      "386/386 - 2s - loss: 1.0875 - accuracy: 0.4283 - val_loss: 1.0393 - val_accuracy: 0.4551 - 2s/epoch - 5ms/step\n",
      "Epoch 2/200\n",
      "\n",
      "Epoch 2: val_loss improved from 1.03935 to 1.01173, saving model to ../data/model_dnn_checkpoint.h5\n",
      "386/386 - 1s - loss: 0.9897 - accuracy: 0.4987 - val_loss: 1.0117 - val_accuracy: 0.4705 - 1s/epoch - 3ms/step\n",
      "Epoch 3/200\n",
      "\n",
      "Epoch 3: val_loss improved from 1.01173 to 1.00112, saving model to ../data/model_dnn_checkpoint.h5\n",
      "386/386 - 1s - loss: 0.9594 - accuracy: 0.5260 - val_loss: 1.0011 - val_accuracy: 0.5038 - 1s/epoch - 3ms/step\n",
      "Epoch 4/200\n",
      "\n",
      "Epoch 4: val_loss improved from 1.00112 to 0.99532, saving model to ../data/model_dnn_checkpoint.h5\n",
      "386/386 - 1s - loss: 0.9401 - accuracy: 0.5376 - val_loss: 0.9953 - val_accuracy: 0.5244 - 1s/epoch - 3ms/step\n",
      "Epoch 5/200\n",
      "\n",
      "Epoch 5: val_loss improved from 0.99532 to 0.98321, saving model to ../data/model_dnn_checkpoint.h5\n",
      "386/386 - 1s - loss: 0.9256 - accuracy: 0.5514 - val_loss: 0.9832 - val_accuracy: 0.5218 - 1s/epoch - 3ms/step\n",
      "Epoch 6/200\n",
      "\n",
      "Epoch 6: val_loss improved from 0.98321 to 0.98053, saving model to ../data/model_dnn_checkpoint.h5\n",
      "386/386 - 1s - loss: 0.9133 - accuracy: 0.5618 - val_loss: 0.9805 - val_accuracy: 0.5269 - 1s/epoch - 3ms/step\n",
      "Epoch 7/200\n",
      "\n",
      "Epoch 7: val_loss improved from 0.98053 to 0.97563, saving model to ../data/model_dnn_checkpoint.h5\n",
      "386/386 - 1s - loss: 0.9016 - accuracy: 0.5711 - val_loss: 0.9756 - val_accuracy: 0.5308 - 1s/epoch - 3ms/step\n",
      "Epoch 8/200\n",
      "\n",
      "Epoch 8: val_loss improved from 0.97563 to 0.97440, saving model to ../data/model_dnn_checkpoint.h5\n",
      "386/386 - 1s - loss: 0.8923 - accuracy: 0.5779 - val_loss: 0.9744 - val_accuracy: 0.5218 - 1s/epoch - 3ms/step\n",
      "Epoch 9/200\n",
      "\n",
      "Epoch 9: val_loss improved from 0.97440 to 0.96468, saving model to ../data/model_dnn_checkpoint.h5\n",
      "386/386 - 1s - loss: 0.8824 - accuracy: 0.5867 - val_loss: 0.9647 - val_accuracy: 0.5359 - 1s/epoch - 3ms/step\n",
      "Epoch 10/200\n",
      "\n",
      "Epoch 10: val_loss improved from 0.96468 to 0.96442, saving model to ../data/model_dnn_checkpoint.h5\n",
      "386/386 - 1s - loss: 0.8731 - accuracy: 0.5963 - val_loss: 0.9644 - val_accuracy: 0.5397 - 1s/epoch - 3ms/step\n",
      "Epoch 11/200\n",
      "\n",
      "Epoch 11: val_loss improved from 0.96442 to 0.95822, saving model to ../data/model_dnn_checkpoint.h5\n",
      "386/386 - 1s - loss: 0.8640 - accuracy: 0.6007 - val_loss: 0.9582 - val_accuracy: 0.5397 - 1s/epoch - 3ms/step\n",
      "Epoch 12/200\n",
      "\n",
      "Epoch 12: val_loss did not improve from 0.95822\n",
      "386/386 - 1s - loss: 0.8551 - accuracy: 0.6116 - val_loss: 0.9626 - val_accuracy: 0.5346 - 1s/epoch - 3ms/step\n",
      "Epoch 13/200\n",
      "\n",
      "Epoch 13: val_loss did not improve from 0.95822\n",
      "386/386 - 1s - loss: 0.8486 - accuracy: 0.6098 - val_loss: 0.9590 - val_accuracy: 0.5449 - 1s/epoch - 3ms/step\n",
      "Epoch 14/200\n",
      "\n",
      "Epoch 14: val_loss did not improve from 0.95822\n",
      "386/386 - 1s - loss: 0.8408 - accuracy: 0.6153 - val_loss: 0.9597 - val_accuracy: 0.5333 - 1s/epoch - 3ms/step\n",
      "Epoch 15/200\n",
      "\n",
      "Epoch 15: val_loss improved from 0.95822 to 0.95332, saving model to ../data/model_dnn_checkpoint.h5\n",
      "386/386 - 1s - loss: 0.8340 - accuracy: 0.6246 - val_loss: 0.9533 - val_accuracy: 0.5500 - 1s/epoch - 3ms/step\n",
      "Epoch 16/200\n",
      "\n",
      "Epoch 16: val_loss did not improve from 0.95332\n",
      "386/386 - 1s - loss: 0.8259 - accuracy: 0.6293 - val_loss: 0.9557 - val_accuracy: 0.5564 - 1s/epoch - 3ms/step\n",
      "Epoch 17/200\n",
      "\n",
      "Epoch 17: val_loss improved from 0.95332 to 0.95266, saving model to ../data/model_dnn_checkpoint.h5\n",
      "386/386 - 1s - loss: 0.8206 - accuracy: 0.6327 - val_loss: 0.9527 - val_accuracy: 0.5538 - 1s/epoch - 3ms/step\n",
      "Epoch 18/200\n",
      "\n",
      "Epoch 18: val_loss did not improve from 0.95266\n",
      "386/386 - 1s - loss: 0.8133 - accuracy: 0.6340 - val_loss: 0.9548 - val_accuracy: 0.5538 - 1s/epoch - 3ms/step\n",
      "Epoch 19/200\n",
      "\n",
      "Epoch 19: val_loss did not improve from 0.95266\n",
      "386/386 - 1s - loss: 0.8071 - accuracy: 0.6433 - val_loss: 0.9532 - val_accuracy: 0.5436 - 1s/epoch - 3ms/step\n",
      "Epoch 20/200\n",
      "\n",
      "Epoch 20: val_loss improved from 0.95266 to 0.95008, saving model to ../data/model_dnn_checkpoint.h5\n",
      "386/386 - 1s - loss: 0.8007 - accuracy: 0.6472 - val_loss: 0.9501 - val_accuracy: 0.5500 - 1s/epoch - 3ms/step\n",
      "Epoch 21/200\n",
      "\n",
      "Epoch 21: val_loss did not improve from 0.95008\n",
      "386/386 - 1s - loss: 0.7947 - accuracy: 0.6443 - val_loss: 0.9513 - val_accuracy: 0.5462 - 1s/epoch - 3ms/step\n",
      "Epoch 22/200\n",
      "\n",
      "Epoch 22: val_loss did not improve from 0.95008\n",
      "386/386 - 1s - loss: 0.7891 - accuracy: 0.6511 - val_loss: 0.9511 - val_accuracy: 0.5603 - 1s/epoch - 3ms/step\n",
      "Epoch 23/200\n",
      "\n",
      "Epoch 23: val_loss did not improve from 0.95008\n",
      "386/386 - 1s - loss: 0.7821 - accuracy: 0.6597 - val_loss: 0.9562 - val_accuracy: 0.5500 - 1s/epoch - 3ms/step\n",
      "Epoch 24/200\n",
      "\n",
      "Epoch 24: val_loss did not improve from 0.95008\n",
      "386/386 - 1s - loss: 0.7757 - accuracy: 0.6599 - val_loss: 0.9514 - val_accuracy: 0.5487 - 1s/epoch - 3ms/step\n",
      "Epoch 25/200\n",
      "\n",
      "Epoch 25: val_loss did not improve from 0.95008\n",
      "386/386 - 1s - loss: 0.7703 - accuracy: 0.6602 - val_loss: 0.9507 - val_accuracy: 0.5590 - 1s/epoch - 3ms/step\n",
      "Epoch 25: early stopping\n",
      "220/220 [==============================] - 1s 2ms/step\n",
      "              precision    recall  f1-score   support\n",
      "\n",
      "           0       0.96      0.66      0.78      6378\n",
      "           1       0.11      0.51      0.18       295\n",
      "           2       0.15      0.55      0.24       352\n",
      "\n",
      "    accuracy                           0.65      7025\n",
      "   macro avg       0.41      0.57      0.40      7025\n",
      "weighted avg       0.89      0.65      0.73      7025\n",
      "\n"
     ]
    }
   ],
   "source": [
    "classifier.configure(hu=100,input_dim=len(fm.cols),class_num=3)\n",
    "classifier.run()"
   ]
  },
  {
   "cell_type": "code",
   "execution_count": null,
   "metadata": {},
   "outputs": [],
   "source": [
    "importlib.reload(dnn)"
   ]
  },
  {
   "cell_type": "code",
   "execution_count": null,
   "metadata": {},
   "outputs": [],
   "source": [
    "classifier = dnn.MultiClassDNNClassifer()\n",
    "classifier.prepare_data(data = fm.df,cols = fm.cols,target_col=\"trade_signal\",y_to_categorical=True, rebalance=\"under\",random_state=randint(0,100))\n",
    "classifier.configure(hu=100,input_dim=len(fm.cols),class_num=3)\n",
    "classifier.run()"
   ]
  },
  {
   "cell_type": "code",
   "execution_count": null,
   "metadata": {},
   "outputs": [],
   "source": []
  }
 ],
 "metadata": {
  "kernelspec": {
   "display_name": "Python 3 (ipykernel)",
   "language": "python",
   "name": "python3"
  },
  "language_info": {
   "codemirror_mode": {
    "name": "ipython",
    "version": 3
   },
   "file_extension": ".py",
   "mimetype": "text/x-python",
   "name": "python",
   "nbconvert_exporter": "python",
   "pygments_lexer": "ipython3",
   "version": "3.10.8"
  },
  "orig_nbformat": 4,
  "vscode": {
   "interpreter": {
    "hash": "8b58b1819899e409cec63cea36e334f732dfc50db3a5ecdff48b63b0a8eb4970"
   }
  }
 },
 "nbformat": 4,
 "nbformat_minor": 2
}
