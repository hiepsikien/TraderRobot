{
 "cells": [
  {
   "cell_type": "code",
   "execution_count": null,
   "metadata": {},
   "outputs": [],
   "source": [
    "import warnings\n",
    "warnings.simplefilter(action='ignore', category=FutureWarning)\n",
    "import pandas as pd\n",
    "warnings.simplefilter(action='ignore', category=pd.errors.PerformanceWarning)\n",
    "import numpy as np\n",
    "import matplotlib.pyplot as plt\n",
    "from feature_manager import FeatureManager\n",
    "import classifier.multi_dnn_classifier as dnn\n",
    "from random import randint\n",
    "from keras import callbacks\n",
    "from keras import losses\n",
    "from visualizer import *\n",
    "from keras.utils import np_utils\n",
    "from sklearn.metrics import classification_report\n",
    "import importlib\n"
   ]
  },
  {
   "cell_type": "code",
   "execution_count": 11,
   "metadata": {},
   "outputs": [],
   "source": [
    "timeframe_in_ms = {\"15m\":15*60*1000,\"1h\":60*60*1000,\"1d\":24*60*60*1000}\n",
    "\n",
    "symbol = \"BTCUSDT\"\n",
    "trade_tf = \"1h\"\n",
    "granular_tf = \"1m\"\n",
    "\n",
    "tp = 0.05\n",
    "sl = 0.025\n",
    "md = 7\n",
    "\n",
    "\n",
    "data = pd.read_csv(\"../data/{}-{}.csv\".format(\n",
    "    symbol,trade_tf), \n",
    "    parse_dates=[\"Open Time\"], \n",
    "    index_col = \"Open Time\"\n",
    ")\n",
    "\n",
    "granular_data = pd.read_csv(\"../nocommit/{}-{}.csv\".format(\n",
    "    symbol,granular_tf), \n",
    "    parse_dates=[\"Open Time\"], \n",
    "    index_col = \"Open Time\"\n",
    ")\n",
    "\n",
    "fm: FeatureManager = FeatureManager()\n",
    "fm.build_feature(data=data,lags=5)\n",
    "\n",
    "fm.prepare_trade_forward_data(\n",
    "    data=fm.df,\n",
    "    take_profit_rate=tp,\n",
    "    stop_loss_rate=sl,\n",
    "    max_duration=md,\n",
    "    granular_data=granular_data,\n",
    "    timeframe_in_ms=timeframe_in_ms[trade_tf]\n",
    ")\n",
    "# loop_classifier(data=fm.df,cols=fm.cols,target_col=\"trade_signal\",laps=3)"
   ]
  },
  {
   "cell_type": "code",
   "execution_count": null,
   "metadata": {},
   "outputs": [],
   "source": [
    "fm.df[\"trade_signal\"].value_counts()"
   ]
  },
  {
   "cell_type": "code",
   "execution_count": null,
   "metadata": {},
   "outputs": [],
   "source": [
    "classifier = dnn.MultiClassDNNClassifer()\n",
    "classifier.prepare_data(\n",
    "    data = fm.df,\n",
    "    cols = fm.cols,\n",
    "    target_col=\"trade_signal\",\n",
    "    y_to_categorical=True, \n",
    "    rebalance=\"under\",\n",
    "    random_state=randint(0,100))\n",
    "classifier.configure(hu=100,input_dim=len(fm.cols),class_num=3)\n",
    "classifier.run()"
   ]
  },
  {
   "cell_type": "code",
   "execution_count": null,
   "metadata": {},
   "outputs": [],
   "source": []
  }
 ],
 "metadata": {
  "kernelspec": {
   "display_name": "Python 3 (ipykernel)",
   "language": "python",
   "name": "python3"
  },
  "language_info": {
   "codemirror_mode": {
    "name": "ipython",
    "version": 3
   },
   "file_extension": ".py",
   "mimetype": "text/x-python",
   "name": "python",
   "nbconvert_exporter": "python",
   "pygments_lexer": "ipython3",
   "version": "3.10.8 (main, Nov 24 2022, 14:13:03) [GCC 11.2.0]"
  },
  "orig_nbformat": 4,
  "vscode": {
   "interpreter": {
    "hash": "8b58b1819899e409cec63cea36e334f732dfc50db3a5ecdff48b63b0a8eb4970"
   }
  }
 },
 "nbformat": 4,
 "nbformat_minor": 2
}
