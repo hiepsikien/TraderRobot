{
 "cells": [
  {
   "cell_type": "code",
   "execution_count": null,
   "metadata": {},
   "outputs": [],
   "source": [
    "import warnings\n",
    "warnings.simplefilter(action='ignore', category=FutureWarning)\n",
    "import pandas as pd\n",
    "warnings.simplefilter(action='ignore', category=pd.errors.PerformanceWarning)\n",
    "import numpy as np\n",
    "import matplotlib.pyplot as plt\n",
    "from feature_manager import FeatureManager\n",
    "from classifier.dnn_classifier import DNNClassifer\n",
    "from random import randint\n",
    "from keras import callbacks\n",
    "from visualizer import *\n"
   ]
  },
  {
   "cell_type": "code",
   "execution_count": null,
   "metadata": {},
   "outputs": [],
   "source": [
    "\n",
    "data = pd.read_csv(\"../data/BTCUSDT-1d.csv\", parse_dates=[\"Open Time\"], index_col = \"Open Time\")\n",
    "fm = FeatureManager()\n",
    "fm.build_feature(data=data,lags=5)"
   ]
  },
  {
   "cell_type": "code",
   "execution_count": null,
   "metadata": {},
   "outputs": [],
   "source": [
    "classifier = DNNClassifer()\n",
    "classifier.configure(hl=2, hu = 100, dropout=True, input_dim=len(fm.cols))\n",
    "classifier.prepare_data(data = fm.df,cols = fm.cols,target_col = \"dir\", random_state=randint(0,100))\n",
    "classifier.run()"
   ]
  },
  {
   "cell_type": "code",
   "execution_count": null,
   "metadata": {},
   "outputs": [],
   "source": [
    "acc_list = []\n",
    "cov_list = []\n",
    "laps = 5\n",
    "\n",
    "for i in range (0,laps):\n",
    "    print(\"\\n======= Lap {} =======\".format(i+1))\n",
    "    callbacks.backend.clear_session()\n",
    "    classifier = DNNClassifer(neg_cutoff=0.40,pos_cutoff=0.6,epochs=50,train_size=0.7,val_size=0.15)\n",
    "    classifier.configure(hl=2, hu = 100, dropout=True, input_dim=len(fm.cols))\n",
    "    classifier.prepare_data(data = fm.df,cols = fm.cols,target_col = \"dir\", shuffle=True, random_state=i)\n",
    "    accurracy, coverage = classifier.run()\n",
    "    classifier.visualize_loss()\n",
    "    classifier.visualize_accuracy()\n",
    "    acc_list.append(accurracy)\n",
    "    cov_list.append(coverage)\n",
    "\n",
    "acc_arr = np.array(acc_list)\n",
    "cov_arr = np.array(cov_list)\n",
    "\n",
    "print(\"\\n======\")\n",
    "print(\"Accuracy mean: {}, std: {}\".format(acc_arr.mean(),acc_arr.std()))\n",
    "print(\"Coverage mean: {}, std: {}\".format(cov_arr.mean(),cov_arr.std()))\n",
    "print(\"======\")"
   ]
  }
 ],
 "metadata": {
  "kernelspec": {
   "display_name": "tensor",
   "language": "python",
   "name": "python3"
  },
  "language_info": {
   "codemirror_mode": {
    "name": "ipython",
    "version": 3
   },
   "file_extension": ".py",
   "mimetype": "text/x-python",
   "name": "python",
   "nbconvert_exporter": "python",
   "pygments_lexer": "ipython3",
   "version": "3.10.8 (main, Nov 24 2022, 14:13:03) [GCC 11.2.0]"
  },
  "orig_nbformat": 4,
  "vscode": {
   "interpreter": {
    "hash": "8b58b1819899e409cec63cea36e334f732dfc50db3a5ecdff48b63b0a8eb4970"
   }
  }
 },
 "nbformat": 4,
 "nbformat_minor": 2
}
