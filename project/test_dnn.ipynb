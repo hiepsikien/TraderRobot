{
 "cells": [
  {
   "cell_type": "code",
   "execution_count": 1,
   "metadata": {},
   "outputs": [
    {
     "name": "stderr",
     "output_type": "stream",
     "text": [
      "2023-01-17 23:40:54.446082: W tensorflow/compiler/xla/stream_executor/platform/default/dso_loader.cc:64] Could not load dynamic library 'libnvinfer.so.7'; dlerror: libnvinfer.so.7: cannot open shared object file: No such file or directory\n",
      "2023-01-17 23:40:54.446183: W tensorflow/compiler/xla/stream_executor/platform/default/dso_loader.cc:64] Could not load dynamic library 'libnvinfer_plugin.so.7'; dlerror: libnvinfer_plugin.so.7: cannot open shared object file: No such file or directory\n",
      "2023-01-17 23:40:54.446195: W tensorflow/compiler/tf2tensorrt/utils/py_utils.cc:38] TF-TRT Warning: Cannot dlopen some TensorRT libraries. If you would like to use Nvidia GPU with TensorRT, please make sure the missing libraries mentioned above are installed properly.\n"
     ]
    }
   ],
   "source": [
    "import warnings\n",
    "warnings.simplefilter(action='ignore', category=FutureWarning)\n",
    "import pandas as pd\n",
    "warnings.simplefilter(action='ignore', category=pd.errors.PerformanceWarning)\n",
    "import numpy as np\n",
    "import matplotlib.pyplot as plt\n",
    "from feature_manager import FeatureManager\n",
    "from classifier.dnn_classifier import DNNClassifer\n",
    "from random import randint\n",
    "from keras import callbacks\n",
    "from visualizer import *\n"
   ]
  },
  {
   "cell_type": "code",
   "execution_count": 2,
   "metadata": {},
   "outputs": [],
   "source": [
    "\n",
    "data = pd.read_csv(\"../data/BTCUSDT-1d.csv\", parse_dates=[\"Open Time\"], index_col = \"Open Time\")\n",
    "fm = FeatureManager()\n",
    "fm.build_feature(data=data,lags=5)"
   ]
  },
  {
   "cell_type": "code",
   "execution_count": 3,
   "metadata": {},
   "outputs": [
    {
     "name": "stderr",
     "output_type": "stream",
     "text": [
      "2023-01-17 23:40:58.252257: E tensorflow/compiler/xla/stream_executor/cuda/cuda_driver.cc:267] failed call to cuInit: CUDA_ERROR_UNKNOWN: unknown error\n",
      "2023-01-17 23:40:58.252336: I tensorflow/compiler/xla/stream_executor/cuda/cuda_diagnostics.cc:169] retrieving CUDA diagnostic information for host: andy-GA-970A-D3\n",
      "2023-01-17 23:40:58.252362: I tensorflow/compiler/xla/stream_executor/cuda/cuda_diagnostics.cc:176] hostname: andy-GA-970A-D3\n",
      "2023-01-17 23:40:58.252612: I tensorflow/compiler/xla/stream_executor/cuda/cuda_diagnostics.cc:200] libcuda reported version is: 520.61.5\n",
      "2023-01-17 23:40:58.252706: I tensorflow/compiler/xla/stream_executor/cuda/cuda_diagnostics.cc:204] kernel reported version is: 520.61.5\n",
      "2023-01-17 23:40:58.252737: I tensorflow/compiler/xla/stream_executor/cuda/cuda_diagnostics.cc:310] kernel version seems to match DSO: 520.61.5\n"
     ]
    },
    {
     "name": "stdout",
     "output_type": "stream",
     "text": [
      "Epoch 1/100\n",
      "\n",
      "Epoch 1: val_loss improved from inf to 0.70721, saving model to ../data/model_dnn_checkpoint.h5\n",
      "40/40 - 1s - loss: 0.7835 - accuracy: 0.4716 - val_loss: 0.7072 - val_accuracy: 0.4834 - 1s/epoch - 35ms/step\n",
      "Epoch 2/100\n",
      "\n",
      "Epoch 2: val_loss improved from 0.70721 to 0.70475, saving model to ../data/model_dnn_checkpoint.h5\n",
      "40/40 - 0s - loss: 0.7231 - accuracy: 0.5348 - val_loss: 0.7048 - val_accuracy: 0.4760 - 195ms/epoch - 5ms/step\n",
      "Epoch 3/100\n",
      "\n",
      "Epoch 3: val_loss improved from 0.70475 to 0.70302, saving model to ../data/model_dnn_checkpoint.h5\n",
      "40/40 - 0s - loss: 0.7235 - accuracy: 0.5205 - val_loss: 0.7030 - val_accuracy: 0.4871 - 238ms/epoch - 6ms/step\n",
      "Epoch 4/100\n",
      "\n",
      "Epoch 4: val_loss improved from 0.70302 to 0.70082, saving model to ../data/model_dnn_checkpoint.h5\n",
      "40/40 - 0s - loss: 0.7319 - accuracy: 0.5111 - val_loss: 0.7008 - val_accuracy: 0.4945 - 237ms/epoch - 6ms/step\n",
      "Epoch 5/100\n",
      "\n",
      "Epoch 5: val_loss improved from 0.70082 to 0.70039, saving model to ../data/model_dnn_checkpoint.h5\n",
      "40/40 - 0s - loss: 0.7225 - accuracy: 0.5190 - val_loss: 0.7004 - val_accuracy: 0.5018 - 198ms/epoch - 5ms/step\n",
      "Epoch 6/100\n",
      "\n",
      "Epoch 6: val_loss improved from 0.70039 to 0.69997, saving model to ../data/model_dnn_checkpoint.h5\n",
      "40/40 - 0s - loss: 0.7150 - accuracy: 0.5324 - val_loss: 0.7000 - val_accuracy: 0.5018 - 230ms/epoch - 6ms/step\n",
      "Epoch 7/100\n",
      "\n",
      "Epoch 7: val_loss improved from 0.69997 to 0.69980, saving model to ../data/model_dnn_checkpoint.h5\n",
      "40/40 - 0s - loss: 0.7265 - accuracy: 0.5063 - val_loss: 0.6998 - val_accuracy: 0.5092 - 292ms/epoch - 7ms/step\n",
      "Epoch 8/100\n",
      "\n",
      "Epoch 8: val_loss did not improve from 0.69980\n",
      "40/40 - 0s - loss: 0.6902 - accuracy: 0.5466 - val_loss: 0.7008 - val_accuracy: 0.5166 - 247ms/epoch - 6ms/step\n",
      "Epoch 9/100\n",
      "\n",
      "Epoch 9: val_loss improved from 0.69980 to 0.69923, saving model to ../data/model_dnn_checkpoint.h5\n",
      "40/40 - 0s - loss: 0.7067 - accuracy: 0.5490 - val_loss: 0.6992 - val_accuracy: 0.5092 - 245ms/epoch - 6ms/step\n",
      "Epoch 10/100\n",
      "\n",
      "Epoch 10: val_loss did not improve from 0.69923\n",
      "40/40 - 0s - loss: 0.7121 - accuracy: 0.5111 - val_loss: 0.7003 - val_accuracy: 0.5166 - 239ms/epoch - 6ms/step\n",
      "Epoch 11/100\n",
      "\n",
      "Epoch 11: val_loss improved from 0.69923 to 0.69881, saving model to ../data/model_dnn_checkpoint.h5\n",
      "40/40 - 0s - loss: 0.7017 - accuracy: 0.5363 - val_loss: 0.6988 - val_accuracy: 0.4945 - 229ms/epoch - 6ms/step\n",
      "Epoch 12/100\n",
      "\n",
      "Epoch 12: val_loss did not improve from 0.69881\n",
      "40/40 - 0s - loss: 0.7006 - accuracy: 0.5545 - val_loss: 0.6990 - val_accuracy: 0.4797 - 183ms/epoch - 5ms/step\n",
      "Epoch 13/100\n",
      "\n",
      "Epoch 13: val_loss improved from 0.69881 to 0.69710, saving model to ../data/model_dnn_checkpoint.h5\n",
      "40/40 - 0s - loss: 0.6957 - accuracy: 0.5506 - val_loss: 0.6971 - val_accuracy: 0.5092 - 237ms/epoch - 6ms/step\n",
      "Epoch 14/100\n",
      "\n",
      "Epoch 14: val_loss did not improve from 0.69710\n",
      "40/40 - 0s - loss: 0.6978 - accuracy: 0.5387 - val_loss: 0.6972 - val_accuracy: 0.5055 - 212ms/epoch - 5ms/step\n",
      "Epoch 15/100\n",
      "\n",
      "Epoch 15: val_loss did not improve from 0.69710\n",
      "40/40 - 0s - loss: 0.7027 - accuracy: 0.5427 - val_loss: 0.6973 - val_accuracy: 0.5018 - 235ms/epoch - 6ms/step\n",
      "Epoch 16/100\n",
      "\n",
      "Epoch 16: val_loss improved from 0.69710 to 0.69708, saving model to ../data/model_dnn_checkpoint.h5\n",
      "40/40 - 0s - loss: 0.7114 - accuracy: 0.5166 - val_loss: 0.6971 - val_accuracy: 0.5018 - 244ms/epoch - 6ms/step\n",
      "Epoch 17/100\n",
      "\n",
      "Epoch 17: val_loss did not improve from 0.69708\n",
      "40/40 - 0s - loss: 0.6879 - accuracy: 0.5411 - val_loss: 0.6974 - val_accuracy: 0.5055 - 221ms/epoch - 6ms/step\n",
      "Epoch 18/100\n",
      "\n",
      "Epoch 18: val_loss improved from 0.69708 to 0.69631, saving model to ../data/model_dnn_checkpoint.h5\n",
      "40/40 - 0s - loss: 0.6974 - accuracy: 0.5379 - val_loss: 0.6963 - val_accuracy: 0.5092 - 244ms/epoch - 6ms/step\n",
      "Epoch 19/100\n",
      "\n",
      "Epoch 19: val_loss improved from 0.69631 to 0.69601, saving model to ../data/model_dnn_checkpoint.h5\n",
      "40/40 - 0s - loss: 0.6883 - accuracy: 0.5569 - val_loss: 0.6960 - val_accuracy: 0.5018 - 244ms/epoch - 6ms/step\n",
      "Epoch 20/100\n",
      "\n",
      "Epoch 20: val_loss improved from 0.69601 to 0.69566, saving model to ../data/model_dnn_checkpoint.h5\n",
      "40/40 - 0s - loss: 0.6938 - accuracy: 0.5592 - val_loss: 0.6957 - val_accuracy: 0.5018 - 221ms/epoch - 6ms/step\n",
      "Epoch 21/100\n",
      "\n",
      "Epoch 21: val_loss did not improve from 0.69566\n",
      "40/40 - 0s - loss: 0.6994 - accuracy: 0.5340 - val_loss: 0.6959 - val_accuracy: 0.4871 - 187ms/epoch - 5ms/step\n",
      "Epoch 22/100\n",
      "\n",
      "Epoch 22: val_loss did not improve from 0.69566\n",
      "40/40 - 0s - loss: 0.6925 - accuracy: 0.5561 - val_loss: 0.6959 - val_accuracy: 0.4945 - 241ms/epoch - 6ms/step\n",
      "Epoch 23/100\n",
      "\n",
      "Epoch 23: val_loss did not improve from 0.69566\n",
      "40/40 - 0s - loss: 0.6925 - accuracy: 0.5316 - val_loss: 0.6960 - val_accuracy: 0.5018 - 205ms/epoch - 5ms/step\n",
      "Epoch 24/100\n",
      "\n",
      "Epoch 24: val_loss improved from 0.69566 to 0.69510, saving model to ../data/model_dnn_checkpoint.h5\n",
      "40/40 - 0s - loss: 0.6901 - accuracy: 0.5419 - val_loss: 0.6951 - val_accuracy: 0.5055 - 219ms/epoch - 5ms/step\n",
      "Epoch 25/100\n",
      "\n",
      "Epoch 25: val_loss did not improve from 0.69510\n",
      "40/40 - 0s - loss: 0.6890 - accuracy: 0.5545 - val_loss: 0.6952 - val_accuracy: 0.5092 - 211ms/epoch - 5ms/step\n",
      "Epoch 26/100\n",
      "\n",
      "Epoch 26: val_loss improved from 0.69510 to 0.69500, saving model to ../data/model_dnn_checkpoint.h5\n",
      "40/40 - 0s - loss: 0.6930 - accuracy: 0.5324 - val_loss: 0.6950 - val_accuracy: 0.5055 - 242ms/epoch - 6ms/step\n",
      "Epoch 27/100\n",
      "\n",
      "Epoch 27: val_loss did not improve from 0.69500\n",
      "40/40 - 0s - loss: 0.6869 - accuracy: 0.5490 - val_loss: 0.6956 - val_accuracy: 0.4834 - 249ms/epoch - 6ms/step\n",
      "Epoch 28/100\n",
      "\n",
      "Epoch 28: val_loss did not improve from 0.69500\n",
      "40/40 - 0s - loss: 0.6827 - accuracy: 0.5664 - val_loss: 0.6957 - val_accuracy: 0.4834 - 235ms/epoch - 6ms/step\n",
      "Epoch 29/100\n",
      "\n",
      "Epoch 29: val_loss did not improve from 0.69500\n",
      "40/40 - 0s - loss: 0.6961 - accuracy: 0.5245 - val_loss: 0.6963 - val_accuracy: 0.4945 - 248ms/epoch - 6ms/step\n",
      "Epoch 30/100\n",
      "\n",
      "Epoch 30: val_loss did not improve from 0.69500\n",
      "40/40 - 0s - loss: 0.6795 - accuracy: 0.5624 - val_loss: 0.6959 - val_accuracy: 0.5055 - 223ms/epoch - 6ms/step\n",
      "Epoch 31/100\n",
      "\n",
      "Epoch 31: val_loss did not improve from 0.69500\n",
      "40/40 - 0s - loss: 0.6934 - accuracy: 0.5466 - val_loss: 0.6955 - val_accuracy: 0.5092 - 224ms/epoch - 6ms/step\n",
      "Epoch 31: early stopping\n",
      "9/9 [==============================] - 0s 2ms/step\n",
      "Correct = 50, Predict = 92, All = 272 \n",
      "Accuracy Score: 0.543, Coverage Score: 0.338\n"
     ]
    },
    {
     "data": {
      "text/plain": [
       "(0.5434782608695652, 0.3382352941176471)"
      ]
     },
     "execution_count": 3,
     "metadata": {},
     "output_type": "execute_result"
    }
   ],
   "source": [
    "classifier = DNNClassifer()\n",
    "classifier.configure(hl=2, hu = 100, dropout=True, input_dim=len(fm.cols))\n",
    "classifier.prepare_data(data = fm.df,cols = fm.cols,target_col = \"dir\", random_state=randint(0,100))\n",
    "classifier.run()"
   ]
  },
  {
   "cell_type": "code",
   "execution_count": null,
   "metadata": {},
   "outputs": [],
   "source": [
    "acc_list = []\n",
    "cov_list = []\n",
    "laps = 5\n",
    "\n",
    "for i in range (0,laps):\n",
    "    print(\"\\n======= Lap {} =======\".format(i+1))\n",
    "    callbacks.backend.clear_session()\n",
    "    classifier = DNNClassifer(neg_cutoff=0.40,pos_cutoff=0.6,epochs=50,train_size=0.7,val_size=0.15)\n",
    "    classifier.configure(hl=2, hu = 100, dropout=True, input_dim=len(fm.cols))\n",
    "    classifier.prepare_data(data = fm.df,cols = fm.cols,target_col = \"dir\", shuffle=True, random_state=i)\n",
    "    accurracy, coverage = classifier.run()\n",
    "    classifier.visualize_loss()\n",
    "    classifier.visualize_accuracy()\n",
    "    acc_list.append(accurracy)\n",
    "    cov_list.append(coverage)\n",
    "\n",
    "acc_arr = np.array(acc_list)\n",
    "cov_arr = np.array(cov_list)\n",
    "\n",
    "print(\"\\n======\")\n",
    "print(\"Accuracy mean: {}, std: {}\".format(acc_arr.mean(),acc_arr.std()))\n",
    "print(\"Coverage mean: {}, std: {}\".format(cov_arr.mean(),cov_arr.std()))\n",
    "print(\"======\")"
   ]
  }
 ],
 "metadata": {
  "kernelspec": {
   "display_name": "tensor",
   "language": "python",
   "name": "python3"
  },
  "language_info": {
   "codemirror_mode": {
    "name": "ipython",
    "version": 3
   },
   "file_extension": ".py",
   "mimetype": "text/x-python",
   "name": "python",
   "nbconvert_exporter": "python",
   "pygments_lexer": "ipython3",
   "version": "3.10.8"
  },
  "orig_nbformat": 4,
  "vscode": {
   "interpreter": {
    "hash": "8b58b1819899e409cec63cea36e334f732dfc50db3a5ecdff48b63b0a8eb4970"
   }
  }
 },
 "nbformat": 4,
 "nbformat_minor": 2
}
