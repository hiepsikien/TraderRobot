{
 "cells": [
  {
   "cell_type": "code",
   "execution_count": 1,
   "metadata": {},
   "outputs": [
    {
     "name": "stderr",
     "output_type": "stream",
     "text": [
      "2023-01-11 19:34:03.102912: W tensorflow/compiler/xla/stream_executor/platform/default/dso_loader.cc:64] Could not load dynamic library 'libnvinfer.so.7'; dlerror: libnvinfer.so.7: cannot open shared object file: No such file or directory\n",
      "2023-01-11 19:34:03.103012: W tensorflow/compiler/xla/stream_executor/platform/default/dso_loader.cc:64] Could not load dynamic library 'libnvinfer_plugin.so.7'; dlerror: libnvinfer_plugin.so.7: cannot open shared object file: No such file or directory\n",
      "2023-01-11 19:34:03.103025: W tensorflow/compiler/tf2tensorrt/utils/py_utils.cc:38] TF-TRT Warning: Cannot dlopen some TensorRT libraries. If you would like to use Nvidia GPU with TensorRT, please make sure the missing libraries mentioned above are installed properly.\n"
     ]
    }
   ],
   "source": [
    "import warnings\n",
    "warnings.simplefilter(action='ignore', category=FutureWarning)\n",
    "import pandas as pd\n",
    "warnings.simplefilter(action='ignore', category=pd.errors.PerformanceWarning)\n",
    "import numpy as np\n",
    "import matplotlib.pyplot as plt\n",
    "from feature_manager import FeatureManager\n",
    "from dnn_classifier import DNNModel\n",
    "from random import randint\n",
    "from visualizer import *\n"
   ]
  },
  {
   "cell_type": "code",
   "execution_count": 2,
   "metadata": {},
   "outputs": [],
   "source": [
    "\n",
    "data = pd.read_csv(\"../data/BTCUSDT-1d.csv\", parse_dates=[\"Open Time\"], index_col = \"Open Time\")\n",
    "fm = FeatureManager()\n",
    "fm.build_feature(data)"
   ]
  },
  {
   "cell_type": "code",
   "execution_count": null,
   "metadata": {},
   "outputs": [],
   "source": [
    "fm.show_raw_visualization()"
   ]
  },
  {
   "cell_type": "code",
   "execution_count": 3,
   "metadata": {},
   "outputs": [
    {
     "name": "stderr",
     "output_type": "stream",
     "text": [
      "2023-01-11 19:34:08.974762: E tensorflow/compiler/xla/stream_executor/cuda/cuda_driver.cc:267] failed call to cuInit: CUDA_ERROR_UNKNOWN: unknown error\n",
      "2023-01-11 19:34:08.974816: I tensorflow/compiler/xla/stream_executor/cuda/cuda_diagnostics.cc:169] retrieving CUDA diagnostic information for host: andy-GA-970A-D3\n",
      "2023-01-11 19:34:08.974831: I tensorflow/compiler/xla/stream_executor/cuda/cuda_diagnostics.cc:176] hostname: andy-GA-970A-D3\n",
      "2023-01-11 19:34:08.974994: I tensorflow/compiler/xla/stream_executor/cuda/cuda_diagnostics.cc:200] libcuda reported version is: 520.61.5\n",
      "2023-01-11 19:34:08.975052: I tensorflow/compiler/xla/stream_executor/cuda/cuda_diagnostics.cc:204] kernel reported version is: 520.61.5\n",
      "2023-01-11 19:34:08.975069: I tensorflow/compiler/xla/stream_executor/cuda/cuda_diagnostics.cc:310] kernel version seems to match DSO: 520.61.5\n"
     ]
    },
    {
     "name": "stdout",
     "output_type": "stream",
     "text": [
      "Train = 1266, Val = 271, Test = 272, All = 1809\n",
      "Epoch 1/50\n",
      "\n",
      "Epoch 1: val_loss improved from inf to 0.70167, saving model to model_dnn_checkpoint.h5\n",
      "40/40 - 2s - loss: 0.7486 - accuracy: 0.5142 - val_loss: 0.7017 - val_accuracy: 0.5055 - 2s/epoch - 43ms/step\n",
      "Epoch 2/50\n",
      "\n",
      "Epoch 2: val_loss improved from 0.70167 to 0.70100, saving model to model_dnn_checkpoint.h5\n",
      "40/40 - 0s - loss: 0.7432 - accuracy: 0.5071 - val_loss: 0.7010 - val_accuracy: 0.4982 - 227ms/epoch - 6ms/step\n",
      "Epoch 3/50\n",
      "\n",
      "Epoch 3: val_loss did not improve from 0.70100\n",
      "40/40 - 0s - loss: 0.7329 - accuracy: 0.4937 - val_loss: 0.7016 - val_accuracy: 0.4834 - 198ms/epoch - 5ms/step\n",
      "Epoch 4/50\n",
      "\n",
      "Epoch 4: val_loss improved from 0.70100 to 0.70096, saving model to model_dnn_checkpoint.h5\n",
      "40/40 - 0s - loss: 0.7352 - accuracy: 0.4953 - val_loss: 0.7010 - val_accuracy: 0.4982 - 249ms/epoch - 6ms/step\n",
      "Epoch 5/50\n",
      "\n",
      "Epoch 5: val_loss did not improve from 0.70096\n",
      "40/40 - 0s - loss: 0.7154 - accuracy: 0.5174 - val_loss: 0.7020 - val_accuracy: 0.4871 - 227ms/epoch - 6ms/step\n",
      "Epoch 6/50\n",
      "\n",
      "Epoch 6: val_loss did not improve from 0.70096\n",
      "40/40 - 0s - loss: 0.7296 - accuracy: 0.5142 - val_loss: 0.7016 - val_accuracy: 0.4797 - 240ms/epoch - 6ms/step\n",
      "Epoch 7/50\n",
      "\n",
      "Epoch 7: val_loss did not improve from 0.70096\n",
      "40/40 - 0s - loss: 0.7133 - accuracy: 0.5261 - val_loss: 0.7010 - val_accuracy: 0.4871 - 207ms/epoch - 5ms/step\n",
      "Epoch 7: early stopping\n",
      "9/9 [==============================] - 0s 2ms/step\n",
      "Correct = 30, Predict = 52, All = 272 \n",
      "Accuracy Score: 0.577, Coverage Score: 0.191\n"
     ]
    }
   ],
   "source": [
    "model = DNNModel(neg_cutoff=0.40,pos_cutoff=0.6,epochs=50,train_size=0.7,val_size=0.15)\n",
    "model.configure(hl=2, hu = 100, dropout=True, input_dim=len(fm.cols))\n",
    "model.prepare_data(data = fm.df,cols = fm.cols,random_state=1)\n",
    "accurracy, coverage = model.run(gpu = False)"
   ]
  },
  {
   "cell_type": "code",
   "execution_count": null,
   "metadata": {},
   "outputs": [],
   "source": [
    "model.analyze_predict_by_cutoff()"
   ]
  },
  {
   "cell_type": "code",
   "execution_count": null,
   "metadata": {},
   "outputs": [],
   "source": [
    "model.visualize_efficiency_by_cutoff(min_delta=0,max_delta=0.17)"
   ]
  },
  {
   "cell_type": "code",
   "execution_count": null,
   "metadata": {},
   "outputs": [],
   "source": [
    "model.predict_with_cutoff(neg_cutoff = 0.5 - 0.14,pos_cutoff = 0.5 + 0.14)"
   ]
  },
  {
   "cell_type": "code",
   "execution_count": null,
   "metadata": {},
   "outputs": [],
   "source": [
    "acc_list = []\n",
    "cov_list = []\n",
    "laps = 5\n",
    "\n",
    "for i in range (0,laps):\n",
    "    print(\"\\n======= Lap {} =======\".format(i+1))\n",
    "    model = DNNModel(neg_cutoff=0.40,pos_cutoff=0.6,epochs=50,train_size=0.7,val_size=0.15)\n",
    "    model.configure(hl=2, hu = 100, dropout=True, input_dim=len(fm.cols))\n",
    "    model.prepare_data(data = fm.df,cols = fm.cols,random_state=i)\n",
    "    accurracy, coverage = model.run(gpu = False)\n",
    "    model.visualize_loss()\n",
    "    model.visualize_accuracy()\n",
    "    acc_list.append(accurracy)\n",
    "    cov_list.append(coverage)\n",
    "\n",
    "acc_arr = np.array(acc_list)\n",
    "cov_arr = np.array(cov_list)\n",
    "\n",
    "print(\"\\n======\")\n",
    "print(\"Accuracy mean: {}, std: {}\".format(acc_arr.mean(),acc_arr.std()))\n",
    "print(\"Coverage mean: {}, std: {}\".format(cov_arr.mean(),cov_arr.std()))\n",
    "print(\"======\")"
   ]
  },
  {
   "cell_type": "code",
   "execution_count": null,
   "metadata": {},
   "outputs": [],
   "source": []
  }
 ],
 "metadata": {
  "kernelspec": {
   "display_name": "tensor",
   "language": "python",
   "name": "python3"
  },
  "language_info": {
   "codemirror_mode": {
    "name": "ipython",
    "version": 3
   },
   "file_extension": ".py",
   "mimetype": "text/x-python",
   "name": "python",
   "nbconvert_exporter": "python",
   "pygments_lexer": "ipython3",
   "version": "3.10.8 (main, Nov 24 2022, 14:13:03) [GCC 11.2.0]"
  },
  "orig_nbformat": 4,
  "vscode": {
   "interpreter": {
    "hash": "8b58b1819899e409cec63cea36e334f732dfc50db3a5ecdff48b63b0a8eb4970"
   }
  }
 },
 "nbformat": 4,
 "nbformat_minor": 2
}
