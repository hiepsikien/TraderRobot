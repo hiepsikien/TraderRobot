{
 "cells": [
  {
   "cell_type": "code",
   "execution_count": null,
   "metadata": {},
   "outputs": [],
   "source": [
    "import warnings\n",
    "warnings.simplefilter(action='ignore', category=FutureWarning)\n",
    "import pandas as pd\n",
    "warnings.simplefilter(action='ignore', category=pd.errors.PerformanceWarning)\n",
    "import numpy as np\n",
    "import matplotlib.pyplot as plt\n",
    "from feature_manager import FeatureManager\n",
    "from dnn_classifier import DNNModel\n",
    "from random import randint\n",
    "from visualizer import *"
   ]
  },
  {
   "cell_type": "code",
   "execution_count": null,
   "metadata": {},
   "outputs": [],
   "source": [
    "\n",
    "data = pd.read_csv(\"../data/BTCUSDT-1d.csv\", parse_dates=[\"Open Time\"], index_col = \"Open Time\")\n",
    "fm = FeatureManager()\n",
    "fm.build_feature(data)"
   ]
  },
  {
   "cell_type": "code",
   "execution_count": null,
   "metadata": {},
   "outputs": [],
   "source": [
    "fm.show_raw_visualization()"
   ]
  },
  {
   "cell_type": "code",
   "execution_count": null,
   "metadata": {},
   "outputs": [],
   "source": [
    "model = DNNModel(neg_cutoff=0.40,pos_cutoff=0.6,epochs=50,train_size=0.7,val_size=0.15)\n",
    "model.configure(hl=2, hu = 100, dropout=True, input_dim=len(fm.cols))\n",
    "model.split_data(data = fm.df,cols = fm.cols,random_state=1)\n",
    "accurracy, coverage = model.run()"
   ]
  },
  {
   "cell_type": "code",
   "execution_count": null,
   "metadata": {},
   "outputs": [],
   "source": [
    "model.analyze_predict_by_cutoff()"
   ]
  },
  {
   "cell_type": "code",
   "execution_count": null,
   "metadata": {},
   "outputs": [],
   "source": [
    "model.visualize_efficiency_by_cutoff(min_delta=0,max_delta=0.17)"
   ]
  },
  {
   "cell_type": "code",
   "execution_count": null,
   "metadata": {},
   "outputs": [],
   "source": [
    "model.predict_with_cutoff(neg_cutoff = 0.5 - 0.14,pos_cutoff = 0.5 + 0.14)"
   ]
  },
  {
   "cell_type": "code",
   "execution_count": null,
   "metadata": {},
   "outputs": [],
   "source": [
    "acc_list = []\n",
    "cov_list = []\n",
    "laps = 10\n",
    "\n",
    "for i in range (0,laps):\n",
    "    print(\"\\n======= Lap {} =======\".format(i+1))\n",
    "    model = DNNModel(neg_cutoff=0.40,pos_cutoff=0.6,epochs=50,train_size=0.7,val_size=0.15)\n",
    "    model.configure(hl=2, hu = 100, dropout=True, input_dim=len(fm.cols))\n",
    "    model.prepare_data(data = fm.df,cols = fm.cols,random_state=i)\n",
    "    accurracy, coverage = model.run()\n",
    "    model.visualize_loss()\n",
    "    model.visualize_accuracy()\n",
    "    acc_list.append(accurracy)\n",
    "    cov_list.append(coverage)\n",
    "\n",
    "acc_arr = np.array(acc_list)\n",
    "cov_arr = np.array(cov_list)\n",
    "\n",
    "print(\"\\n======\")\n",
    "print(\"Accuracy mean: {}, std: {}\".format(acc_arr.mean(),acc_arr.std()))\n",
    "print(\"Coverage mean: {}, std: {}\".format(cov_arr.mean(),cov_arr.std()))\n",
    "print(\"======\")"
   ]
  },
  {
   "cell_type": "code",
   "execution_count": null,
   "metadata": {},
   "outputs": [],
   "source": []
  }
 ],
 "metadata": {
  "kernelspec": {
   "display_name": "robot",
   "language": "python",
   "name": "python3"
  },
  "language_info": {
   "codemirror_mode": {
    "name": "ipython",
    "version": 3
   },
   "file_extension": ".py",
   "mimetype": "text/x-python",
   "name": "python",
   "nbconvert_exporter": "python",
   "pygments_lexer": "ipython3",
   "version": "3.10.8 (main, Nov 24 2022, 14:13:03) [GCC 11.2.0]"
  },
  "orig_nbformat": 4,
  "vscode": {
   "interpreter": {
    "hash": "04e1782aa508eb39a2ccbe7b85a2f87791e1adf5e2d7d6f172889ac686481ed9"
   }
  }
 },
 "nbformat": 4,
 "nbformat_minor": 2
}
