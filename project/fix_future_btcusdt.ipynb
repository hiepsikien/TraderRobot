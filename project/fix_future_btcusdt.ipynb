{
 "cells": [
  {
   "cell_type": "code",
   "execution_count": null,
   "metadata": {},
   "outputs": [],
   "source": [
    "miss_index = []\n",
    "df = dfs[\"BTCUSDT\"]\n",
    "for i in range (df.index.min(),df.index.max(),TRADE_TIMEFRAME_IN_MS):\n",
    "    if not i in df.index:\n",
    "        miss_index.append(i)\n",
    "        print(f\"miss {i}\")\n",
    "btc_usdt = pd.read_csv(\"../../data/BTCUSDT-4h.csv\",index_col=\"Open Time\")\n",
    "df = pd.concat([df,btc_usdt.loc[miss_index]],axis=0)\n",
    "dfs[\"BTCUSDT\"] = df.copy()"
   ]
  }
 ],
 "metadata": {
  "kernelspec": {
   "display_name": "tensor",
   "language": "python",
   "name": "python3"
  },
  "language_info": {
   "name": "python",
   "version": "3.10.8"
  },
  "orig_nbformat": 4,
  "vscode": {
   "interpreter": {
    "hash": "8b58b1819899e409cec63cea36e334f732dfc50db3a5ecdff48b63b0a8eb4970"
   }
  }
 },
 "nbformat": 4,
 "nbformat_minor": 2
}
