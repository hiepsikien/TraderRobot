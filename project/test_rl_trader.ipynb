{
 "cells": [
  {
   "cell_type": "code",
   "execution_count": 42,
   "metadata": {},
   "outputs": [],
   "source": [
    "import warnings\n",
    "warnings.simplefilter(action='ignore', category=FutureWarning)\n",
    "import pandas as pd\n",
    "warnings.simplefilter(action='ignore', category=pd.errors.PerformanceWarning)\n",
    "import numpy as np\n",
    "import feature_manager as fma\n",
    "import rl.env_simple_crypto_trade as env\n",
    "import importlib\n",
    "import matplotlib.pyplot as plt\n",
    "import rl.models as rla\n",
    "import config"
   ]
  },
  {
   "cell_type": "code",
   "execution_count": null,
   "metadata": {},
   "outputs": [],
   "source": [
    "# def print_trade_length(data:pd.DataFrame):\n",
    "#     df = data['action'].eq(data['action'].shift()).cumsum()\n",
    "        \n",
    "\n",
    "\n",
    "#     average_neutral = (df[0]*df.index).sum()/df[0].sum()\n",
    "#     average_long = (df[1]*df.index).sum()/df[1].sum() \n",
    "#     average_short = (df[2]*df.index).sum()/df[2].sum()\n",
    "#     average_all = ((df[0] + df[1] + df[2])*df.index).sum()/(df[0]+df[1]+df[2]).sum()\n",
    "#     print(\"Average length 1:{} | 2:{} | 0:{} | All:{}\".format(\n",
    "#         round(average_long,2),round(average_short,2),round(average_neutral,2),round(average_all,2)))\n",
    "#     print(df)\n",
    "#     return df"
   ]
  },
  {
   "cell_type": "code",
   "execution_count": null,
   "metadata": {},
   "outputs": [],
   "source": [
    "fm = fma.FeatureManager(target_col=\"trade_signal\")\n",
    "fm.import_trading_data(symbol=\"BTCUSDT\",trade_timeframe=\"4h\")\n",
    "fm.import_macro_data(symbol=\"BTCUSDT\",macro_timeframe=\"1d\")\n",
    "fm.import_super_data(symbol=\"BTCUSDT\",super_timeframe=\"1w\")\n",
    "\n",
    "FEATURES = [\n",
    "    \"sma_3_10\",\n",
    "    \"sma_7_30\",\n",
    "    \"sma_14_50\",\n",
    "    \"rsi14\",\n",
    "    \"rsi30\",\n",
    "    \"obv\",\n",
    "    \"mfi14\",\n",
    "]\n",
    "fm.build_features(lags = 1,macro_lags=1,super_lags=1,features=FEATURES,macro_features=FEATURES,super_features=FEATURES)\n"
   ]
  },
  {
   "cell_type": "code",
   "execution_count": null,
   "metadata": {},
   "outputs": [],
   "source": [
    "train = fm.df.iloc[-4000:-2000]\n",
    "trade = fm.df.iloc[-2000:]"
   ]
  },
  {
   "cell_type": "code",
   "execution_count": 44,
   "metadata": {},
   "outputs": [],
   "source": [
    "importlib.reload(rla)\n",
    "importlib.reload(env)\n",
    "\n",
    "env_kwargs = config.TRADE_ENV_PARAMETER\n",
    "state_space = 3 + len(fm.cols)\n",
    "\n",
    "train_env = env.CryptoTradingEnv(\n",
    "    df = train, \n",
    "    state_space=state_space,\n",
    "    indicators=fm.cols,\n",
    "    **env_kwargs)\n",
    "\n",
    "trade_env = env.CryptoTradingEnv(\n",
    "    df = trade, \n",
    "    state_space=state_space,\n",
    "    indicators=fm.cols,\n",
    "    **env_kwargs)"
   ]
  },
  {
   "cell_type": "code",
   "execution_count": null,
   "metadata": {},
   "outputs": [],
   "source": [
    "agent = rla.DRLTradeAgent(train_env)\n",
    "\n",
    "model_ppo = agent.get_model(model_name=\"ppo\",seed=100)\n",
    "model_a2c = agent.get_model(model_name=\"a2c\",seed=100)\n",
    "model_ars = agent.get_model(model_name=\"ars\",seed=100)\n",
    "model_trpo = agent.get_model(model_name=\"trpo\",seed=100)"
   ]
  },
  {
   "cell_type": "code",
   "execution_count": null,
   "metadata": {},
   "outputs": [],
   "source": [
    "selected_model = model_ppo"
   ]
  },
  {
   "cell_type": "code",
   "execution_count": null,
   "metadata": {},
   "outputs": [],
   "source": [
    "selected_model = agent.train_model(selected_model,total_timesteps=30_000)\n",
    "selected_model.num_timesteps"
   ]
  },
  {
   "cell_type": "code",
   "execution_count": null,
   "metadata": {},
   "outputs": [],
   "source": [
    "agent.predict(model=selected_model,environment=trade_env,render = False)\n",
    "result = agent.make_result_data()\n",
    "print(f\"Number of trades {agent.trade_number}\")\n",
    "agent.plot_multiple(result)"
   ]
  },
  {
   "cell_type": "code",
   "execution_count": null,
   "metadata": {},
   "outputs": [],
   "source": [
    "model = agent.load_model(\"ppo\",\"saved_model/model_ppo.zip\")"
   ]
  },
  {
   "cell_type": "code",
   "execution_count": 41,
   "metadata": {},
   "outputs": [],
   "source": [
    "model.save(\"../saved_model/model_ppo.zip\")"
   ]
  },
  {
   "cell_type": "code",
   "execution_count": null,
   "metadata": {},
   "outputs": [],
   "source": [
    "agent.predict(model=model,environment=trade_env,render=False)"
   ]
  },
  {
   "cell_type": "code",
   "execution_count": null,
   "metadata": {},
   "outputs": [],
   "source": [
    "agent.plot_multiple(agent.make_result_data())"
   ]
  },
  {
   "cell_type": "code",
   "execution_count": null,
   "metadata": {},
   "outputs": [],
   "source": []
  }
 ],
 "metadata": {
  "kernelspec": {
   "display_name": "tensor",
   "language": "python",
   "name": "python3"
  },
  "language_info": {
   "codemirror_mode": {
    "name": "ipython",
    "version": 3
   },
   "file_extension": ".py",
   "mimetype": "text/x-python",
   "name": "python",
   "nbconvert_exporter": "python",
   "pygments_lexer": "ipython3",
   "version": "3.10.8"
  },
  "orig_nbformat": 4,
  "vscode": {
   "interpreter": {
    "hash": "8b58b1819899e409cec63cea36e334f732dfc50db3a5ecdff48b63b0a8eb4970"
   }
  }
 },
 "nbformat": 4,
 "nbformat_minor": 2
}
