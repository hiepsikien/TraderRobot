{
 "cells": [
  {
   "attachments": {},
   "cell_type": "markdown",
   "metadata": {},
   "source": [
    "## Binance Trader"
   ]
  },
  {
   "cell_type": "code",
   "execution_count": 1,
   "metadata": {},
   "outputs": [],
   "source": [
    "from binance.client import Client\n",
    "import pandas as pd\n",
    "import datetime"
   ]
  },
  {
   "cell_type": "code",
   "execution_count": 2,
   "metadata": {},
   "outputs": [],
   "source": [
    "from config_private import BINANCE_FUTURE_TESTNET as BFT"
   ]
  },
  {
   "attachments": {},
   "cell_type": "markdown",
   "metadata": {},
   "source": [
    "### Login, check out account"
   ]
  },
  {
   "cell_type": "code",
   "execution_count": 3,
   "metadata": {},
   "outputs": [],
   "source": [
    "client = Client(\n",
    "    api_key=BFT[\"api_key\"],\n",
    "    api_secret=BFT[\"secret_key\"],\n",
    "    tld=\"com\",\n",
    "    testnet=True\n",
    ")"
   ]
  },
  {
   "cell_type": "code",
   "execution_count": 8,
   "metadata": {},
   "outputs": [],
   "source": [
    "tickers = client.futures_ticker()"
   ]
  },
  {
   "cell_type": "code",
   "execution_count": 10,
   "metadata": {},
   "outputs": [
    {
     "name": "stdout",
     "output_type": "stream",
     "text": [
      "Stored 'tickers' (list)\n"
     ]
    }
   ],
   "source": [
    "%store tickers"
   ]
  },
  {
   "cell_type": "code",
   "execution_count": null,
   "metadata": {},
   "outputs": [],
   "source": [
    "account_info = client.futures_account()"
   ]
  },
  {
   "cell_type": "code",
   "execution_count": null,
   "metadata": {},
   "outputs": [],
   "source": [
    "account_info[\"assets\"][3]"
   ]
  },
  {
   "cell_type": "code",
   "execution_count": null,
   "metadata": {},
   "outputs": [],
   "source": [
    "pd.DataFrame(account_info[\"assets\"])"
   ]
  },
  {
   "cell_type": "code",
   "execution_count": null,
   "metadata": {},
   "outputs": [],
   "source": [
    "futures_position_information = client.futures_position_information()"
   ]
  },
  {
   "cell_type": "code",
   "execution_count": null,
   "metadata": {},
   "outputs": [],
   "source": [
    "position_df = pd.DataFrame(futures_position_information)"
   ]
  },
  {
   "cell_type": "code",
   "execution_count": null,
   "metadata": {},
   "outputs": [],
   "source": [
    "position_df.head()"
   ]
  },
  {
   "cell_type": "code",
   "execution_count": null,
   "metadata": {},
   "outputs": [],
   "source": [
    "position_df[position_df[\"symbol\"]==\"BTCUSDT\"]"
   ]
  },
  {
   "cell_type": "code",
   "execution_count": null,
   "metadata": {},
   "outputs": [],
   "source": [
    "asset_balance_df = pd.DataFrame(client.futures_account_balance())"
   ]
  },
  {
   "cell_type": "code",
   "execution_count": null,
   "metadata": {},
   "outputs": [],
   "source": [
    "asset_balance_df"
   ]
  },
  {
   "cell_type": "code",
   "execution_count": null,
   "metadata": {},
   "outputs": [],
   "source": [
    "position_df"
   ]
  },
  {
   "cell_type": "code",
   "execution_count": null,
   "metadata": {},
   "outputs": [],
   "source": [
    "position_df[position_df[\"symbol\"]==\"BTCUSDT\"][\"leverage\"]"
   ]
  },
  {
   "cell_type": "code",
   "execution_count": null,
   "metadata": {},
   "outputs": [],
   "source": [
    "client.futures_change_leverage(symbol=\"BTCUSDT\",leverage=1)"
   ]
  },
  {
   "cell_type": "code",
   "execution_count": null,
   "metadata": {},
   "outputs": [],
   "source": [
    "client.futures_position_information(symbol=\"BTCUSDT\")"
   ]
  },
  {
   "cell_type": "code",
   "execution_count": null,
   "metadata": {},
   "outputs": [],
   "source": [
    "client.futures_change_margin_type(symbol = \"BTCUSDT\", marginType = \"ISOLATED\" )"
   ]
  },
  {
   "cell_type": "code",
   "execution_count": null,
   "metadata": {},
   "outputs": [],
   "source": [
    "client.futures_get_position_mode()"
   ]
  },
  {
   "cell_type": "code",
   "execution_count": null,
   "metadata": {},
   "outputs": [],
   "source": [
    "client.futures_change_position_mode(dualSidePosition = False)"
   ]
  },
  {
   "attachments": {},
   "cell_type": "markdown",
   "metadata": {},
   "source": [
    "### Place market orders"
   ]
  },
  {
   "cell_type": "code",
   "execution_count": null,
   "metadata": {},
   "outputs": [],
   "source": [
    "client.futures_position_information(symbol = \"BTCUSDT\")"
   ]
  },
  {
   "cell_type": "code",
   "execution_count": null,
   "metadata": {},
   "outputs": [],
   "source": [
    "client.futures_get_open_orders(symbol = \"BTCUSDT\")"
   ]
  },
  {
   "cell_type": "code",
   "execution_count": null,
   "metadata": {},
   "outputs": [],
   "source": [
    "# Go long 0.01 BTCUSDT, leverage = 10\n",
    "client.futures_change_leverage(symbol = \"BTCUSDT\", leverage = 10)"
   ]
  },
  {
   "cell_type": "code",
   "execution_count": null,
   "metadata": {},
   "outputs": [],
   "source": [
    "order_open = client.futures_create_order(\n",
    "    symbol = \"BTCUSDT\",\n",
    "    side = \"SELL\",\n",
    "    type = \"MARKET\",\n",
    "    quantity = 0.015\n",
    ")"
   ]
  },
  {
   "cell_type": "code",
   "execution_count": null,
   "metadata": {},
   "outputs": [],
   "source": [
    "order_open"
   ]
  },
  {
   "cell_type": "code",
   "execution_count": null,
   "metadata": {},
   "outputs": [],
   "source": [
    "pd.DataFrame(client.futures_get_all_orders())"
   ]
  },
  {
   "cell_type": "code",
   "execution_count": null,
   "metadata": {},
   "outputs": [],
   "source": [
    "client.futures_get_order(symbol = \"BTCUSDT\", orderId = order_open[\"orderId\"])"
   ]
  },
  {
   "cell_type": "code",
   "execution_count": null,
   "metadata": {},
   "outputs": [],
   "source": [
    "client.futures_get_open_orders(symbol = \"BTCUSDT\")"
   ]
  },
  {
   "attachments": {},
   "cell_type": "markdown",
   "metadata": {},
   "source": [
    "### Trade and Income History"
   ]
  },
  {
   "cell_type": "code",
   "execution_count": null,
   "metadata": {},
   "outputs": [],
   "source": [
    "trade_df = pd.DataFrame(client.futures_account_trades(symbol = \"BTCUSDT\"))"
   ]
  },
  {
   "cell_type": "code",
   "execution_count": null,
   "metadata": {},
   "outputs": [],
   "source": [
    "trade_df"
   ]
  },
  {
   "cell_type": "code",
   "execution_count": null,
   "metadata": {},
   "outputs": [],
   "source": [
    "trade_df[\"commision_rate\"] = trade_df[\"commission\"].astype(float)/trade_df[\"quoteQty\"].astype(float)"
   ]
  },
  {
   "cell_type": "code",
   "execution_count": null,
   "metadata": {},
   "outputs": [],
   "source": [
    "trade_df"
   ]
  },
  {
   "cell_type": "code",
   "execution_count": null,
   "metadata": {},
   "outputs": [],
   "source": [
    "income_df = pd.DataFrame(client.futures_income_history(symbol = \"BTCUSDT\"))"
   ]
  },
  {
   "cell_type": "code",
   "execution_count": null,
   "metadata": {},
   "outputs": [],
   "source": [
    "income_df"
   ]
  },
  {
   "cell_type": "code",
   "execution_count": null,
   "metadata": {},
   "outputs": [],
   "source": [
    "client.futures_position_information(symbol = \"BTCUSDT\")"
   ]
  },
  {
   "cell_type": "code",
   "execution_count": null,
   "metadata": {},
   "outputs": [],
   "source": [
    "order_close = client.futures_create_order(symbol = \"BTCUSDT\", side = \"BUY\",\n",
    "                                          type = \"MARKET\", quantity = 0.1, reduceOnly = True)\n",
    "order_close"
   ]
  },
  {
   "attachments": {},
   "cell_type": "markdown",
   "metadata": {},
   "source": [
    "### Get Historical Futures Market Data"
   ]
  },
  {
   "cell_type": "code",
   "execution_count": null,
   "metadata": {},
   "outputs": [],
   "source": [
    "def get_history(symbol, interval, start, end = None):\n",
    "    bars = client.futures_historical_klines(symbol = symbol, interval = interval,\n",
    "                                        start_str = start, end_str = end, limit = 1000)\n",
    "    df = pd.DataFrame(bars)\n",
    "    df[\"Date\"] = pd.to_datetime(df.iloc[:,0], unit = \"ms\")\n",
    "    df.columns = [\"Open Time\", \"Open\", \"High\", \"Low\", \"Close\", \"Volume\",\n",
    "                  \"Clos Time\", \"Quote Asset Volume\", \"Number of Trades\",\n",
    "                  \"Taker Buy Base Asset Volume\", \"Taker Buy Quote Asset Volume\", \"Ignore\", \"Date\"]\n",
    "    df = df[[\"Date\", \"Open\", \"High\", \"Low\", \"Close\", \"Volume\"]].copy()\n",
    "    df.set_index(\"Date\", inplace = True)\n",
    "    for column in df.columns:\n",
    "        df[column] = pd.to_numeric(df[column], errors = \"coerce\")\n",
    "    \n",
    "    return df"
   ]
  },
  {
   "cell_type": "code",
   "execution_count": null,
   "metadata": {},
   "outputs": [],
   "source": [
    "data = get_history(\n",
    "    symbol=\"BTCUSDT\",\n",
    "    interval=\"15m\",\n",
    "    start=\"2023-02-01\",\n",
    "    end = None,\n",
    ")"
   ]
  },
  {
   "cell_type": "code",
   "execution_count": null,
   "metadata": {},
   "outputs": [],
   "source": [
    "data"
   ]
  },
  {
   "cell_type": "code",
   "execution_count": null,
   "metadata": {},
   "outputs": [],
   "source": [
    "import ta.ta_backtester as tb"
   ]
  },
  {
   "cell_type": "code",
   "execution_count": null,
   "metadata": {},
   "outputs": [],
   "source": [
    "df = tb.backtest_rsi_combination(\n",
    "    df = data,\n",
    "    n_last=1000,\n",
    ")"
   ]
  },
  {
   "cell_type": "code",
   "execution_count": null,
   "metadata": {},
   "outputs": [],
   "source": [
    "n_lasts = [24,100,300]"
   ]
  },
  {
   "cell_type": "code",
   "execution_count": null,
   "metadata": {},
   "outputs": [],
   "source": [
    "\n",
    "largest_list = []\n",
    "for i in n_lasts:\n",
    "    df = tb.backtest_rsi_combination(\n",
    "        df = data,\n",
    "        n_last=i,\n",
    "    )\n",
    "    largest = df.nlargest(1,[\"sharpe_p\"]).iloc[0][\"sharpe_p\"]\n",
    "    \n",
    "        "
   ]
  },
  {
   "cell_type": "code",
   "execution_count": null,
   "metadata": {},
   "outputs": [],
   "source": [
    "order_open = client.futures_create_order(\n",
    "    symbol = \"BTCUSDT\",\n",
    "    side = \"SELL\",\n",
    "    type = \"MARKET\",\n",
    "    quantity = 0.015\n",
    ")"
   ]
  },
  {
   "attachments": {},
   "cell_type": "markdown",
   "metadata": {},
   "source": [
    "### Depth Cache"
   ]
  },
  {
   "cell_type": "markdown",
   "metadata": {},
   "source": []
  },
  {
   "cell_type": "code",
   "execution_count": null,
   "metadata": {},
   "outputs": [],
   "source": [
    "from binance import ThreadedDepthCacheManager"
   ]
  },
  {
   "cell_type": "code",
   "execution_count": null,
   "metadata": {},
   "outputs": [],
   "source": [
    "dcm = ThreadedDepthCacheManager()\n",
    "dcm.start()"
   ]
  },
  {
   "cell_type": "code",
   "execution_count": null,
   "metadata": {},
   "outputs": [],
   "source": [
    "def handle_depth_cache(depth_cache):\n",
    "    best_bid = depth_cache.get_bids()[0][0]\n",
    "    best_ask = depth_cache.get_asks()[0][0]\n",
    "    spread = best_ask - best_bid\n",
    "    print(\"{},{}.{}\".format(spread,best_bid,best_ask))"
   ]
  },
  {
   "cell_type": "code",
   "execution_count": null,
   "metadata": {},
   "outputs": [
    {
     "name": "stdout",
     "output_type": "stream",
     "text": [
      "0.009999999999990905,1570.79.1570.8\n",
      "0.009999999999990905,1570.79.1570.8\n",
      "0.009999999999990905,1570.79.1570.8\n",
      "0.009999999999990905,1570.79.1570.8\n",
      "0.009999999999990905,1570.79.1570.8\n",
      "0.009999999999990905,1570.79.1570.8\n",
      "0.009999999999990905,1570.79.1570.8\n",
      "0.009999999999990905,1570.79.1570.8\n",
      "0.009999999999990905,1570.79.1570.8\n",
      "0.009999999999990905,1570.79.1570.8\n",
      "0.009999999999990905,1570.79.1570.8\n",
      "0.009999999999990905,1570.79.1570.8\n",
      "0.009999999999990905,1570.79.1570.8\n",
      "0.009999999999990905,1570.79.1570.8\n",
      "0.009999999999990905,1570.79.1570.8\n",
      "0.009999999999990905,1570.79.1570.8\n",
      "0.009999999999990905,1570.79.1570.8\n",
      "0.009999999999990905,1570.79.1570.8\n",
      "0.009999999999990905,1570.79.1570.8\n",
      "0.009999999999990905,1570.79.1570.8\n",
      "0.009999999999990905,1570.79.1570.8\n",
      "0.009999999999990905,1570.79.1570.8\n",
      "0.009999999999990905,1570.79.1570.8\n",
      "0.009999999999990905,1570.79.1570.8\n",
      "0.009999999999990905,1570.79.1570.8\n",
      "0.009999999999990905,1570.79.1570.8\n",
      "0.009999999999990905,1570.79.1570.8\n",
      "0.009999999999990905,1570.79.1570.8\n",
      "0.009999999999990905,1570.79.1570.8\n",
      "0.009999999999990905,1570.79.1570.8\n",
      "0.009999999999990905,1570.79.1570.8\n",
      "0.009999999999990905,1570.79.1570.8\n"
     ]
    }
   ],
   "source": [
    "dcm_eth = dcm.start_depth_cache(handle_depth_cache,symbol=\"ETHUSDT\",refresh_interval=1)"
   ]
  },
  {
   "cell_type": "code",
   "execution_count": null,
   "metadata": {},
   "outputs": [],
   "source": [
    "dcm_btc = dcm.start_depth_cache(handle_depth_cache,symbol=\"BTCUSDT\",refresh_interval=1)"
   ]
  },
  {
   "cell_type": "code",
   "execution_count": 53,
   "metadata": {},
   "outputs": [
    {
     "name": "stdout",
     "output_type": "stream",
     "text": [
      "0.009999999999990905,1570.79.1570.8\n"
     ]
    }
   ],
   "source": [
    "dcm.stop_socket(dcm_eth)"
   ]
  },
  {
   "cell_type": "code",
   "execution_count": null,
   "metadata": {},
   "outputs": [],
   "source": []
  }
 ],
 "metadata": {
  "kernelspec": {
   "display_name": "tensor",
   "language": "python",
   "name": "python3"
  },
  "language_info": {
   "codemirror_mode": {
    "name": "ipython",
    "version": 3
   },
   "file_extension": ".py",
   "mimetype": "text/x-python",
   "name": "python",
   "nbconvert_exporter": "python",
   "pygments_lexer": "ipython3",
   "version": "3.10.8"
  },
  "orig_nbformat": 4,
  "vscode": {
   "interpreter": {
    "hash": "8b58b1819899e409cec63cea36e334f732dfc50db3a5ecdff48b63b0a8eb4970"
   }
  }
 },
 "nbformat": 4,
 "nbformat_minor": 2
}
