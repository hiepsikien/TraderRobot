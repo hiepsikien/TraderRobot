{
 "cells": [
  {
   "cell_type": "code",
   "execution_count": null,
   "metadata": {},
   "outputs": [],
   "source": [
    "import pandas as pd\n",
    "import numpy as np\n",
    "import config as cf\n",
    "import matplotlib.pyplot as plt\n",
    "import talib"
   ]
  },
  {
   "cell_type": "code",
   "execution_count": null,
   "metadata": {},
   "outputs": [],
   "source": [
    "from datetime import datetime"
   ]
  },
  {
   "attachments": {},
   "cell_type": "markdown",
   "metadata": {},
   "source": [
    "### Loading data"
   ]
  },
  {
   "cell_type": "code",
   "execution_count": null,
   "metadata": {},
   "outputs": [],
   "source": [
    "%store -r tickers"
   ]
  },
  {
   "cell_type": "code",
   "execution_count": null,
   "metadata": {},
   "outputs": [],
   "source": [
    "tickers"
   ]
  },
  {
   "cell_type": "code",
   "execution_count": null,
   "metadata": {},
   "outputs": [],
   "source": [
    "dfs = dict()\n",
    "print(\"...loading...\")\n",
    "for ticker in tickers:\n",
    "    symbol = ticker[\"symbol\"]\n",
    "    if str(symbol).endswith(\"USDT\"):\n",
    "        print(symbol, end=\" \")\n",
    "        filename = f\"{cf.AGGREGATED_DATA_PATH}futures/{symbol}-4h.h5\"\n",
    "        df = pd.read_hdf(filename)\n",
    "        dfs[symbol] = df"
   ]
  },
  {
   "cell_type": "code",
   "execution_count": null,
   "metadata": {},
   "outputs": [],
   "source": [
    "len(dfs)"
   ]
  },
  {
   "attachments": {},
   "cell_type": "markdown",
   "metadata": {},
   "source": [
    "#### Get all coins key info"
   ]
  },
  {
   "cell_type": "code",
   "execution_count": null,
   "metadata": {},
   "outputs": [],
   "source": [
    "len_list = []\n",
    "coverage_list = []\n",
    "last_list = []\n",
    "TRADE_TIMEFRAME_IN_MS = 4 * 60 * 60 * 1000\n",
    "for symbol in dfs.keys():\n",
    "    len_list.append(len(dfs[symbol]))\n",
    "    must_length = (dfs[symbol].index.max()-dfs[symbol].index.min())/TRADE_TIMEFRAME_IN_MS+1\n",
    "    real_length = len(dfs[symbol])\n",
    "    coverage_list.append(real_length/must_length)\n",
    "    last_list.append(dfs[symbol].index.max())\n",
    "stat_df = pd.DataFrame({\"symbol\": dfs.keys(), \"length\": len_list, \"coverage\":coverage_list, \"last\":last_list})"
   ]
  },
  {
   "attachments": {},
   "cell_type": "markdown",
   "metadata": {},
   "source": [
    "#### Test correlation between Bitcoin and alt coins"
   ]
  },
  {
   "cell_type": "code",
   "execution_count": null,
   "metadata": {},
   "outputs": [],
   "source": [
    "macd_multiple = 2\n",
    "macd_fast = 26\n",
    "macd_slow=12\n",
    "macd_signal=9\n",
    "short_multiples = 1\n",
    "medium_multiples = 3\n",
    "long_multiples = 10"
   ]
  },
  {
   "cell_type": "code",
   "execution_count": null,
   "metadata": {},
   "outputs": [],
   "source": [
    "selected_symbols = stat_df[(stat_df[\"coverage\"]==1)&\\\n",
    "    (stat_df[\"length\"]>600*6)][\"symbol\"].values.tolist()"
   ]
  },
  {
   "cell_type": "code",
   "execution_count": null,
   "metadata": {},
   "outputs": [],
   "source": [
    "selected_symbols_include_btc = selected_symbols + [\"BTCUSDT\"]"
   ]
  },
  {
   "cell_type": "code",
   "execution_count": null,
   "metadata": {},
   "outputs": [],
   "source": [
    "for symbol in selected_symbols_include_btc:\n",
    "    df = dfs[symbol]\n",
    "    _,_,df[f\"{symbol}_short_macd\"] = talib.MACD(df[\"Close\"],fastperiod=macd_fast,\\\n",
    "        slowperiod=macd_slow,signalperiod=macd_signal)\n",
    "    df[f\"{symbol}_short_macd\"] = df[f\"{symbol}_short_macd\"]/df[\"Close\"]\n",
    "    _,_,df[f\"{symbol}_medium_macd\"] = talib.MACD(df[\"Close\"],fastperiod=macd_fast*medium_multiples,\\\n",
    "        slowperiod=macd_slow*medium_multiples,signalperiod=macd_signal*medium_multiples)\n",
    "    df[f\"{symbol}_medium_macd\"] = df[f\"{symbol}_medium_macd\"]/df[\"Close\"]\n",
    "    _,_,df[f\"{symbol}_long_macd\"] = talib.MACD(df[\"Close\"],fastperiod=macd_fast*long_multiples,\\\n",
    "        slowperiod=macd_slow*long_multiples,signalperiod=macd_signal*long_multiples)\n",
    "    df[f\"{symbol}_long_macd\"] = df[f\"{symbol}_long_macd\"]/df[\"Close\"]\n",
    "\n",
    "df = pd.concat([dfs[symbol][[f\"{symbol}_short_macd\",f\"{symbol}_medium_macd\",f\"{symbol}_long_macd\"]] \\\n",
    "    for symbol in selected_symbols_include_btc],axis=1)\n",
    "df.dropna(inplace=True)"
   ]
  },
  {
   "cell_type": "code",
   "execution_count": null,
   "metadata": {},
   "outputs": [],
   "source": [
    "for symbol in selected_symbols:\n",
    "    df[f\"{symbol}_diff_short\"] = df[f\"{symbol}_short_macd\"] - df[\"BTCUSDT_short_macd\"]\n",
    "    df[f\"{symbol}_diff_medium\"] = df[f\"{symbol}_medium_macd\"] - df[\"BTCUSDT_medium_macd\"]\n",
    "    df[f\"{symbol}_diff_long\"] = df[f\"{symbol}_long_macd\"] - df[\"BTCUSDT_long_macd\"]\n",
    "\n",
    "    #Version 1: calculating bull or bear based on short,medium, long time frame\n",
    "    df[f\"{symbol}_diff_short_bear\"] = df[df[\"BTCUSDT_short_macd\"]<0][f\"{symbol}_short_macd\"] - df[df[\"BTCUSDT_short_macd\"]<0][\"BTCUSDT_short_macd\"]\n",
    "    df[f\"{symbol}_diff_short_bull\"] = df[df[\"BTCUSDT_short_macd\"]>0][f\"{symbol}_short_macd\"] - df[df[\"BTCUSDT_short_macd\"]>0][\"BTCUSDT_short_macd\"]\n",
    "    df[f\"{symbol}_diff_medium_bear\"] = df[df[\"BTCUSDT_medium_macd\"]<0][f\"{symbol}_medium_macd\"] - df[df[\"BTCUSDT_medium_macd\"]<0][\"BTCUSDT_medium_macd\"]\n",
    "    df[f\"{symbol}_diff_medium_bull\"] = df[df[\"BTCUSDT_medium_macd\"]>0][f\"{symbol}_medium_macd\"] - df[df[\"BTCUSDT_medium_macd\"]>0][\"BTCUSDT_medium_macd\"]\n",
    "    df[f\"{symbol}_diff_long_bear\"] = df[df[\"BTCUSDT_long_macd\"]<0][f\"{symbol}_long_macd\"] - df[df[\"BTCUSDT_long_macd\"]<0][\"BTCUSDT_long_macd\"]\n",
    "    df[f\"{symbol}_diff_long_bull\"] = df[df[\"BTCUSDT_long_macd\"]>0][f\"{symbol}_long_macd\"] - df[df[\"BTCUSDT_long_macd\"]>0][\"BTCUSDT_long_macd\"]\n",
    "    \n",
    "    #Version 2: calculating bull or bear only based on long timeframe\n",
    "    df[f\"{symbol}_diff_short_bear_l\"] = df[df[\"BTCUSDT_long_macd\"]<0][f\"{symbol}_short_macd\"] - df[df[\"BTCUSDT_long_macd\"]<0][\"BTCUSDT_short_macd\"]\n",
    "    df[f\"{symbol}_diff_short_bull_l\"] = df[df[\"BTCUSDT_long_macd\"]>0][f\"{symbol}_short_macd\"] - df[df[\"BTCUSDT_long_macd\"]>0][\"BTCUSDT_short_macd\"]\n",
    "    df[f\"{symbol}_diff_medium_bear_l\"] = df[df[\"BTCUSDT_long_macd\"]<0][f\"{symbol}_medium_macd\"] - df[df[\"BTCUSDT_long_macd\"]<0][\"BTCUSDT_medium_macd\"]\n",
    "    df[f\"{symbol}_diff_medium_bull_l\"] = df[df[\"BTCUSDT_long_macd\"]>0][f\"{symbol}_medium_macd\"] - df[df[\"BTCUSDT_long_macd\"]>0][\"BTCUSDT_medium_macd\"]\n",
    "    df[f\"{symbol}_diff_long_bear_l\"] = df[df[\"BTCUSDT_long_macd\"]<0][f\"{symbol}_long_macd\"] - df[df[\"BTCUSDT_long_macd\"]<0][\"BTCUSDT_long_macd\"]\n",
    "    df[f\"{symbol}_diff_long_bull_l\"] = df[df[\"BTCUSDT_long_macd\"]>0][f\"{symbol}_long_macd\"] - df[df[\"BTCUSDT_long_macd\"]>0][\"BTCUSDT_long_macd\"]"
   ]
  },
  {
   "cell_type": "code",
   "execution_count": null,
   "metadata": {},
   "outputs": [],
   "source": [
    "diff_short_mean = []\n",
    "diff_medium_mean = []\n",
    "diff_long_mean = []\n",
    "\n",
    "diff_short_mean_bear = []\n",
    "diff_medium_mean_bear = []\n",
    "diff_long_mean_bear = []\n",
    "\n",
    "diff_short_mean_bull = []\n",
    "diff_medium_mean_bull = []\n",
    "diff_long_mean_bull = []\n",
    "\n",
    "diff_short_mean_square = []\n",
    "diff_medium_mean_square = []\n",
    "diff_long_mean_square = []\n",
    "\n",
    "diff_short_mean_bull_l = []\n",
    "diff_medium_mean_bull_l = []\n",
    "diff_long_mean_bull_l = []\n",
    "\n",
    "diff_short_mean_bear_l = []\n",
    "diff_medium_mean_bear_l = []\n",
    "diff_long_mean_bear_l = []\n",
    "\n",
    "for symbol in selected_symbols:\n",
    "    diff_short_mean.append(df[f\"{symbol}_diff_short\"].mean())\n",
    "    diff_medium_mean.append(df[f\"{symbol}_diff_medium\"].mean())\n",
    "    diff_long_mean.append(df[f\"{symbol}_diff_long\"].mean())\n",
    "    \n",
    "    diff_short_mean_bear.append(df[f\"{symbol}_diff_short_bear\"].mean())\n",
    "    diff_medium_mean_bear.append(df[f\"{symbol}_diff_medium_bear\"].mean())\n",
    "    diff_long_mean_bear.append(df[f\"{symbol}_diff_long_bear\"].mean())\n",
    "    \n",
    "    diff_short_mean_bull.append(df[f\"{symbol}_diff_short_bull\"].mean())\n",
    "    diff_medium_mean_bull.append(df[f\"{symbol}_diff_medium_bull\"].mean())\n",
    "    diff_long_mean_bull.append(df[f\"{symbol}_diff_long_bull\"].mean())\n",
    "    \n",
    "    diff_short_mean_bear_l.append(df[f\"{symbol}_diff_short_bear_l\"].mean())\n",
    "    diff_medium_mean_bear_l.append(df[f\"{symbol}_diff_medium_bear_l\"].mean())\n",
    "    diff_long_mean_bear_l.append(df[f\"{symbol}_diff_long_bear_l\"].mean())\n",
    "    \n",
    "    diff_short_mean_bull_l.append(df[f\"{symbol}_diff_short_bull_l\"].mean())\n",
    "    diff_medium_mean_bull_l.append(df[f\"{symbol}_diff_medium_bull_l\"].mean())\n",
    "    diff_long_mean_bull_l.append(df[f\"{symbol}_diff_long_bull_l\"].mean())\n",
    "    \n",
    "    diff_short_mean_square.append(np.sqrt(np.dot(df[f\"{symbol}_diff_short\"],df[f\"{symbol}_diff_short\"]))/len(df))\n",
    "    diff_medium_mean_square.append(np.sqrt(np.dot(df[f\"{symbol}_diff_medium\"],df[f\"{symbol}_diff_medium\"]))/len(df))\n",
    "    diff_long_mean_square.append(np.sqrt(np.dot(df[f\"{symbol}_diff_long\"],df[f\"{symbol}_diff_long\"]))/len(df))"
   ]
  },
  {
   "cell_type": "code",
   "execution_count": null,
   "metadata": {},
   "outputs": [],
   "source": [
    "diff_df = pd.DataFrame({\n",
    "    \"diff_short_mean\": diff_short_mean,\n",
    "    \"diff_medium_mean\": diff_medium_mean,\n",
    "    \"diff_long_mean\": diff_long_mean,\n",
    "    \"diff_short_mean_bear\": diff_short_mean_bear,\n",
    "    \"diff_medium_mean_bear\": diff_medium_mean_bear,\n",
    "    \"diff_long_mean_bear\": diff_long_mean_bear,\n",
    "    \"diff_short_mean_bull\": diff_short_mean_bull,\n",
    "    \"diff_medium_mean_bull\": diff_medium_mean_bull,\n",
    "    \"diff_long_mean_bull\": diff_long_mean_bull,\n",
    "    \"diff_short_mean_bear_l\": diff_short_mean_bear_l,\n",
    "    \"diff_medium_mean_bear_l\": diff_medium_mean_bear_l,\n",
    "    \"diff_long_mean_bear_l\": diff_long_mean_bear_l,\n",
    "    \"diff_short_mean_bull_l\": diff_short_mean_bull_l,\n",
    "    \"diff_medium_mean_bull_l\": diff_medium_mean_bull_l,\n",
    "    \"diff_long_mean_bull_l\": diff_long_mean_bull_l,\n",
    "    \"diff_short_mean_square\":diff_short_mean_square,\n",
    "    \"diff_medium_mean_square\":diff_medium_mean_square,\n",
    "    \"diff_long_mean_square\":diff_long_mean_square})\n",
    "diff_df.index = selected_symbols"
   ]
  },
  {
   "attachments": {},
   "cell_type": "markdown",
   "metadata": {},
   "source": [
    "##### Altcoin that has the highest and lowest correlation with bitcoin"
   ]
  },
  {
   "cell_type": "code",
   "execution_count": null,
   "metadata": {},
   "outputs": [],
   "source": [
    "print(diff_df[\"diff_long_mean_square\"].nlargest(5))\n",
    "print(diff_df[\"diff_long_mean_square\"].nsmallest(5))\n",
    "print(diff_df[\"diff_medium_mean_square\"].nlargest(5))\n",
    "print(diff_df[\"diff_medium_mean_square\"].nsmallest(5))\n",
    "print(diff_df[\"diff_short_mean_square\"].nlargest(5))\n",
    "print(diff_df[\"diff_short_mean_square\"].nsmallest(5))"
   ]
  },
  {
   "attachments": {},
   "cell_type": "markdown",
   "metadata": {},
   "source": [
    "##### Altcoin that drop slower than Bitcoin in bear market"
   ]
  },
  {
   "cell_type": "code",
   "execution_count": null,
   "metadata": {},
   "outputs": [],
   "source": [
    "print(diff_df[\"diff_short_mean_bear\"].nlargest(5))\n",
    "print(diff_df[\"diff_medium_mean_bear\"].nlargest(5))\n",
    "print(diff_df[\"diff_long_mean_bear\"].nlargest(5))"
   ]
  },
  {
   "attachments": {},
   "cell_type": "markdown",
   "metadata": {},
   "source": [
    "##### Altcoin that drop slower than Bitcoin in bear market (version 2)"
   ]
  },
  {
   "cell_type": "code",
   "execution_count": null,
   "metadata": {},
   "outputs": [],
   "source": [
    "print(diff_df[\"diff_short_mean_bear_l\"].nlargest(5))\n",
    "print(diff_df[\"diff_medium_mean_bear_l\"].nlargest(5))\n",
    "print(diff_df[\"diff_long_mean_bear_l\"].nlargest(5))"
   ]
  },
  {
   "attachments": {},
   "cell_type": "markdown",
   "metadata": {},
   "source": [
    "##### Altcoin that drop faster than Bitcoin in bear market"
   ]
  },
  {
   "cell_type": "code",
   "execution_count": null,
   "metadata": {},
   "outputs": [],
   "source": [
    "print(diff_df[\"diff_short_mean_bear\"].nsmallest(5))\n",
    "print(diff_df[\"diff_medium_mean_bear\"].nsmallest(5))\n",
    "print(diff_df[\"diff_long_mean_bear\"].nsmallest(5))"
   ]
  },
  {
   "attachments": {},
   "cell_type": "markdown",
   "metadata": {},
   "source": [
    "##### Altcoin that drop faster than Bitcoin in bear market (Version 2)"
   ]
  },
  {
   "cell_type": "code",
   "execution_count": null,
   "metadata": {},
   "outputs": [],
   "source": [
    "print(diff_df[\"diff_short_mean_bear_l\"].nsmallest(10))\n",
    "print(diff_df[\"diff_medium_mean_bear_l\"].nsmallest(10))\n",
    "print(diff_df[\"diff_long_mean_bear_l\"].nsmallest(10))"
   ]
  },
  {
   "attachments": {},
   "cell_type": "markdown",
   "metadata": {},
   "source": [
    "##### Altcoin that rise slower than Bitcoin in bull market"
   ]
  },
  {
   "cell_type": "code",
   "execution_count": null,
   "metadata": {},
   "outputs": [],
   "source": [
    "print(diff_df[\"diff_short_mean_bull\"].nsmallest(5))\n",
    "print(diff_df[\"diff_medium_mean_bull\"].nsmallest(5))\n",
    "print(diff_df[\"diff_long_mean_bull\"].nsmallest(5))"
   ]
  },
  {
   "attachments": {},
   "cell_type": "markdown",
   "metadata": {},
   "source": [
    "##### Altcoin that rise slower than Bitcoin in bull market (Version 2)"
   ]
  },
  {
   "cell_type": "code",
   "execution_count": null,
   "metadata": {},
   "outputs": [],
   "source": [
    "print(diff_df[\"diff_short_mean_bull_l\"].nsmallest(5))\n",
    "print(diff_df[\"diff_medium_mean_bull_l\"].nsmallest(5))\n",
    "print(diff_df[\"diff_long_mean_bull_l\"].nsmallest(5))"
   ]
  },
  {
   "attachments": {},
   "cell_type": "markdown",
   "metadata": {},
   "source": [
    "##### Altcoin that rise faster than Bitcoin in bull market"
   ]
  },
  {
   "cell_type": "code",
   "execution_count": null,
   "metadata": {},
   "outputs": [],
   "source": [
    "print(diff_df[\"diff_short_mean_bull\"].nlargest(5))\n",
    "print(diff_df[\"diff_medium_mean_bull\"].nlargest(5))\n",
    "print(diff_df[\"diff_long_mean_bull\"].nlargest(5))"
   ]
  },
  {
   "attachments": {},
   "cell_type": "markdown",
   "metadata": {},
   "source": [
    "##### Altcoin that rise faster than Bitcoin in bull market (Version 2)"
   ]
  },
  {
   "cell_type": "code",
   "execution_count": null,
   "metadata": {},
   "outputs": [],
   "source": [
    "print(diff_df[\"diff_short_mean_bull_l\"].nlargest(5))\n",
    "print(diff_df[\"diff_medium_mean_bull_l\"].nlargest(5))\n",
    "print(diff_df[\"diff_long_mean_bull_l\"].nlargest(5))"
   ]
  },
  {
   "cell_type": "code",
   "execution_count": null,
   "metadata": {},
   "outputs": [],
   "source": []
  }
 ],
 "metadata": {
  "kernelspec": {
   "display_name": "tensor",
   "language": "python",
   "name": "python3"
  },
  "language_info": {
   "codemirror_mode": {
    "name": "ipython",
    "version": 3
   },
   "file_extension": ".py",
   "mimetype": "text/x-python",
   "name": "python",
   "nbconvert_exporter": "python",
   "pygments_lexer": "ipython3",
   "version": "3.10.8"
  },
  "orig_nbformat": 4,
  "vscode": {
   "interpreter": {
    "hash": "8b58b1819899e409cec63cea36e334f732dfc50db3a5ecdff48b63b0a8eb4970"
   }
  }
 },
 "nbformat": 4,
 "nbformat_minor": 2
}
