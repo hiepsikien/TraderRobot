{
 "cells": [
  {
   "cell_type": "code",
   "execution_count": 1,
   "metadata": {},
   "outputs": [],
   "source": [
    "import sys\n",
    "import warnings\n",
    "sys.path.append(\"../\")\n",
    "import pandas as pd\n",
    "from pandas import DataFrame\n",
    "warnings.simplefilter(action='ignore', category=pd.errors.PerformanceWarning)\n",
    "import numpy as np\n",
    "import matplotlib.pyplot as plt\n",
    "import datetime\n",
    "import importlib\n",
    "from typing import Tuple\n",
    "import arbitrage_system as ar"
   ]
  },
  {
   "attachments": {},
   "cell_type": "markdown",
   "metadata": {},
   "source": [
    "### Load symbol for trading"
   ]
  },
  {
   "cell_type": "code",
   "execution_count": 12,
   "metadata": {},
   "outputs": [],
   "source": [
    "%store -r tickers"
   ]
  },
  {
   "cell_type": "code",
   "execution_count": 3,
   "metadata": {},
   "outputs": [],
   "source": [
    "symbols = []\n",
    "for ticker in tickers:\n",
    "    symbol = ticker[\"symbol\"]\n",
    "    if str(symbol).endswith(\"USDT\"):\n",
    "        symbols.append(symbol)"
   ]
  },
  {
   "cell_type": "code",
   "execution_count": 4,
   "metadata": {},
   "outputs": [
    {
     "data": {
      "text/plain": [
       "145"
      ]
     },
     "execution_count": 4,
     "metadata": {},
     "output_type": "execute_result"
    }
   ],
   "source": [
    "len(symbols)"
   ]
  },
  {
   "cell_type": "code",
   "execution_count": 5,
   "metadata": {},
   "outputs": [],
   "source": [
    "TRADE_TIMEFRAME = \"4h\"\n",
    "TRADE_TIMEFRAME_IN_MS = 4 * 60 * 60 * 1000\n",
    "GRANULAR_TIMEFRAME = \"5m\"\n",
    "HOLDING_PERIOD = 14\n",
    "BASE_PAIR = \"BTCUSDT\""
   ]
  },
  {
   "attachments": {},
   "cell_type": "markdown",
   "metadata": {},
   "source": [
    "#### Loading trading data"
   ]
  },
  {
   "cell_type": "code",
   "execution_count": 9,
   "metadata": {},
   "outputs": [
    {
     "data": {
      "text/plain": [
       "<module 'arbitrage_system' from '/home/andy/CryptoTradingPlatform/TraderRobot/project/arbitrage/arbitrage_system.py'>"
      ]
     },
     "execution_count": 9,
     "metadata": {},
     "output_type": "execute_result"
    }
   ],
   "source": [
    "importlib.reload(ar)"
   ]
  },
  {
   "cell_type": "code",
   "execution_count": 8,
   "metadata": {},
   "outputs": [
    {
     "name": "stdout",
     "output_type": "stream",
     "text": [
      "...loading trading data...\n",
      "CFXUSDT SSVUSDT SOLUSDT ATAUSDT UNFIUSDT KAVAUSDT APTUSDT DUSKUSDT EOSUSDT 1000XECUSDT 1000SHIBUSDT CHRUSDT YFIUSDT SNXUSDT FETUSDT THETAUSDT LINAUSDT DENTUSDT SXPUSDT LINKUSDT SPELLUSDT API3USDT ZRXUSDT OMGUSDT ZILUSDT ROSEUSDT BALUSDT XMRUSDT SKLUSDT MINAUSDT FILUSDT XTZUSDT AAVEUSDT OPUSDT GMXUSDT ASTRUSDT LDOUSDT ALICEUSDT ZENUSDT MTLUSDT JASMYUSDT GALAUSDT LUNA2USDT LTCUSDT MANAUSDT INJUSDT MASKUSDT APEUSDT CELRUSDT RENUSDT ADAUSDT FTMUSDT QNTUSDT MATICUSDT ANTUSDT COTIUSDT TUSDT CVXUSDT WAVESUSDT FLMUSDT FXSUSDT BNBUSDT NEARUSDT 1INCHUSDT AUDIOUSDT GRTUSDT RUNEUSDT LITUSDT EGLDUSDT ONEUSDT ARPAUSDT IMXUSDT XRPUSDT RNDRUSDT ONTUSDT REEFUSDT ANKRUSDT GMTUSDT ACHUSDT HOTUSDT DYDXUSDT PEOPLEUSDT KSMUSDT LRCUSDT MAGICUSDT ZECUSDT IOSTUSDT BTCDOMUSDT GALUSDT ETCUSDT QTUMUSDT DOTUSDT PHBUSDT TRXUSDT KNCUSDT CKBUSDT BLUEBIRDUSDT ENSUSDT UNIUSDT CRVUSDT IOTXUSDT RLCUSDT FOOTBALLUSDT BTCUSDT DARUSDT VETUSDT ARUSDT DEFIUSDT ALGOUSDT TOMOUSDT WOOUSDT HOOKUSDT FLOWUSDT OCEANUSDT ETHUSDT CHZUSDT AGIXUSDT SUSHIUSDT C98USDT BANDUSDT BATUSDT BCHUSDT AVAXUSDT AXSUSDT MKRUSDT ATOMUSDT HIGHUSDT HNTUSDT KLAYUSDT 1000LUNCUSDT IOTAUSDT STORJUSDT DOGEUSDT COCOSUSDT OGNUSDT CELOUSDT DASHUSDT COMPUSDT STMXUSDT SANDUSDT ENJUSDT STXUSDT STGUSDT XLMUSDT BNXUSDT ...loading granular data...\n",
      "CFXUSDT SSVUSDT SOLUSDT ATAUSDT UNFIUSDT KAVAUSDT APTUSDT DUSKUSDT EOSUSDT 1000XECUSDT 1000SHIBUSDT CHRUSDT YFIUSDT SNXUSDT FETUSDT THETAUSDT LINAUSDT DENTUSDT SXPUSDT LINKUSDT SPELLUSDT API3USDT ZRXUSDT OMGUSDT ZILUSDT ROSEUSDT BALUSDT XMRUSDT SKLUSDT MINAUSDT FILUSDT XTZUSDT AAVEUSDT OPUSDT GMXUSDT ASTRUSDT LDOUSDT ALICEUSDT ZENUSDT MTLUSDT JASMYUSDT GALAUSDT LUNA2USDT LTCUSDT MANAUSDT INJUSDT MASKUSDT APEUSDT CELRUSDT RENUSDT ADAUSDT FTMUSDT QNTUSDT MATICUSDT ANTUSDT COTIUSDT TUSDT CVXUSDT WAVESUSDT FLMUSDT FXSUSDT BNBUSDT NEARUSDT 1INCHUSDT AUDIOUSDT GRTUSDT RUNEUSDT LITUSDT EGLDUSDT ONEUSDT ARPAUSDT IMXUSDT XRPUSDT RNDRUSDT ONTUSDT REEFUSDT ANKRUSDT GMTUSDT ACHUSDT HOTUSDT DYDXUSDT PEOPLEUSDT KSMUSDT LRCUSDT MAGICUSDT ZECUSDT IOSTUSDT BTCDOMUSDT GALUSDT ETCUSDT QTUMUSDT DOTUSDT PHBUSDT TRXUSDT KNCUSDT CKBUSDT BLUEBIRDUSDT ENSUSDT UNIUSDT CRVUSDT IOTXUSDT RLCUSDT FOOTBALLUSDT BTCUSDT DARUSDT VETUSDT ARUSDT DEFIUSDT ALGOUSDT TOMOUSDT WOOUSDT HOOKUSDT FLOWUSDT OCEANUSDT ETHUSDT CHZUSDT AGIXUSDT SUSHIUSDT C98USDT BANDUSDT BATUSDT BCHUSDT AVAXUSDT AXSUSDT MKRUSDT ATOMUSDT HIGHUSDT HNTUSDT KLAYUSDT 1000LUNCUSDT IOTAUSDT STORJUSDT DOGEUSDT COCOSUSDT OGNUSDT CELOUSDT DASHUSDT COMPUSDT STMXUSDT SANDUSDT ENJUSDT STXUSDT STGUSDT XLMUSDT BNXUSDT "
     ]
    }
   ],
   "source": [
    "dfs = ar.import_trading_data(TRADE_TIMEFRAME,tickers)\n",
    "gdfs = ar.import_granular_data(GRANULAR_TIMEFRAME,tickers)"
   ]
  },
  {
   "attachments": {},
   "cell_type": "markdown",
   "metadata": {},
   "source": [
    "##### Get key info of the trading data such as length, last index, completeness"
   ]
  },
  {
   "cell_type": "code",
   "execution_count": 10,
   "metadata": {},
   "outputs": [],
   "source": [
    "stat_df = ar.examine_data(TRADE_TIMEFRAME,dfs)"
   ]
  },
  {
   "attachments": {},
   "cell_type": "markdown",
   "metadata": {},
   "source": [
    "##### Prepare data"
   ]
  },
  {
   "cell_type": "code",
   "execution_count": null,
   "metadata": {},
   "outputs": [],
   "source": [
    "def plot_results(trade_df:DataFrame, market_trend:DataFrame,timerange:Tuple[int,int]):\n",
    "    fig,ax = plt.subplots()\n",
    "    \n",
    "    fig.set_dpi(720)\n",
    "    fig.set_size_inches(10,6)\n",
    "    \n",
    "    for i in market_trend.index:\n",
    "        row = market_trend.loc[i,:]\n",
    "        start = i\n",
    "        end = row[\"end\"]\n",
    "        color = \"tab:green\" if row[\"value\"] > 0 else \"tab:red\"\n",
    "        ax.axvspan(start, end, color=color, alpha=0.1,linewidth=1)  #type: ignore\n",
    "    \n",
    "    draw_df = trade_df[(trade_df[\"open\"]>=timerange[0])&(trade_df[\"open\"]<=timerange[1])].copy()\n",
    "    \n",
    "    ax.plot(draw_df[\"open\"],draw_df[\"cumsum_profit\"],c=\"b\",linewidth=1,label=\"cumsum_profit\")\n",
    "    ax.plot(draw_df[\"open\"],draw_df[\"cumsum_long_profit\"],c=\"g\",linewidth=1,label=\"cumsum_long_profit\")\n",
    "    ax.plot(draw_df[\"open\"],draw_df[\"cumsum_short_profit\"],c=\"r\",linewidth=1,label=\"cumsum_short_profit\")\n",
    "    ax.plot(draw_df[\"open\"],draw_df[\"cumsum_trading_cost\"],c=\"y\",linewidth=1,label=\"cumsum_trading_cost\")\n",
    "    \n",
    "    highest = max(draw_df[\"cumsum_long_profit\"].max(),draw_df[\"cumsum_long_profit\"].max(),draw_df[\"cumsum_profit\"].max())\n",
    "    btc_highest = draw_df[\"BITCOIN_PRICE\"].max()\n",
    "    \n",
    "    ax.plot(draw_df[\"open\"],draw_df[\"BITCOIN_PRICE\"]*highest/btc_highest,color=\"tab:gray\",linewidth=1,label=\"BITCOIN\")\n",
    "    ax.plot(draw_df[\"open\"],[0 for i in range(len(draw_df))],color=\"black\",linewidth=1)\n",
    "    \n",
    "    plt.show()"
   ]
  },
  {
   "cell_type": "code",
   "execution_count": null,
   "metadata": {},
   "outputs": [],
   "source": [
    "def backtest_strategy(\n",
    "    trade_duration:int,\n",
    "    leverage:float,\n",
    "    pair_number:int,\n",
    "    holding_period:int,\n",
    "    verbose:int,\n",
    "    balance:int,\n",
    "    trading_fee:float,\n",
    "    take_profit_long: float,\n",
    "    stop_loss_long:float,\n",
    "    take_profit_short: float,\n",
    "    stop_loss_short:float,\n",
    "    altcoin_cycle:str,\n",
    "    market_cycle:str,\n",
    "    plot:bool = True,\n",
    "    ):\n",
    "\n",
    "\n",
    "    selected_pairs = stat_df[(stat_df[\"length\"]>trade_duration+holding_period)&\\\n",
    "        (stat_df[\"coverage\"]==1)][\"symbol\"].values.tolist()\n",
    "    \n",
    "    print(\"...preprocessing, calculate MACD ...\")\n",
    "    merged_df, pairs = ar.calculate_macd(\n",
    "        pairs=selected_pairs,\n",
    "        dfs=dfs\n",
    "    )\n",
    "\n",
    "    print(\"...preprocessing, calculate MACD diff with base  ...\")\n",
    "    merged_df = ar.calculate_macd_diff(\n",
    "        dataframe=merged_df,\n",
    "        pairs=pairs\n",
    "    )\n",
    "\n",
    "    trade_end = int(merged_df.index.max() - holding_period * TRADE_TIMEFRAME_IN_MS)\n",
    "    trade_start = int(min(max(trade_end - trade_duration * TRADE_TIMEFRAME_IN_MS, merged_df.index.min()),trade_end))\n",
    "\n",
    "    #Check if any missing open-time index\n",
    "    for i in range (trade_start,trade_end,TRADE_TIMEFRAME_IN_MS):\n",
    "        if not i in merged_df.index:\n",
    "            print(f\"miss {i}\")\n",
    "\n",
    "    btc_init_price = merged_df.loc[trade_start,:][\"BITCOIN_PRICE\"]\n",
    "\n",
    "    trade_df = pd.DataFrame({\"open\":[trade_start],\"datetime\":[\"\"], \"symbol\":[\"\"],\"type\":[\"\"], \"amount\":[0], \"profit\":[0],\\\n",
    "        \"cost\":[0],\"balance\":[balance], \"close_type\":[\"\"], \"BITCOIN_PRICE\":[btc_init_price]})\n",
    "\n",
    "    balance = balance\n",
    "    profit_before_cost = 0\n",
    "\n",
    "    print(\"...backtesting...\")\n",
    "    open_unix_time = trade_start\n",
    "\n",
    "    while open_unix_time < trade_end:\n",
    "        \n",
    "        date_time = datetime.datetime.utcfromtimestamp(open_unix_time/1000).strftime('%Y-%m-%d %H:%M:%S')\n",
    "        row = merged_df.loc[open_unix_time,:].copy()\n",
    "        \n",
    "        #Executing trade\n",
    "        trade_pairs = []\n",
    "        trade_types = []\n",
    "        trade_costs = []\n",
    "        trade_profits = []\n",
    "        invest_amounts = []\n",
    "        \n",
    "        balances = []\n",
    "        BITCOIN_PRICEs = []\n",
    "        close_types = []\n",
    "\n",
    "        long_pairs, short_pairs, long_dict, short_dict =\\\n",
    "            ar.arbitrate_both_sides(\n",
    "            row=row,\n",
    "            market_cycle=market_cycle,\n",
    "            altcoin_cycle=altcoin_cycle,\n",
    "            n_pairs=pair_number,\n",
    "            pairs=pairs)\n",
    "\n",
    "        short_budget = long_budget = leverage * balance/2\n",
    "        trade_num = len(long_pairs) + len(short_pairs)\n",
    "        enter_time = open_unix_time + TRADE_TIMEFRAME_IN_MS\n",
    "        end_time = open_unix_time + (1+holding_period) * TRADE_TIMEFRAME_IN_MS\n",
    "        \n",
    "        invest_amount = long_budget/len(long_pairs)\n",
    "        for i in range(len(long_pairs)):\n",
    "            pair = long_pairs[i]\n",
    "            status = ar.check_stoploss(\n",
    "                pair = pair,\n",
    "                enter_time = enter_time,\n",
    "                end_time = end_time,\n",
    "                direction = \"LONG\",\n",
    "                take_profit=take_profit_long,\n",
    "                stop_loss=stop_loss_long,\n",
    "                trading_df_dict=dfs,\n",
    "                granular_df_dict=gdfs\n",
    "            )\n",
    "            \n",
    "            match status:\n",
    "                case 0:\n",
    "                    cumsum_log_return = merged_df.loc[enter_time:end_time,:][f\"{pair}_LOG_RETURN\"].sum()\n",
    "                case -1:\n",
    "                    cumsum_log_return = np.log(1-stop_loss_long)\n",
    "                case 1:\n",
    "                    cumsum_log_return = np.log(1+take_profit_long)\n",
    "            \n",
    "            profit_before_cost = invest_amount * (np.exp(cumsum_log_return)-1)\n",
    "            cost = invest_amount * 2 * trading_fee\n",
    "            profit = profit_before_cost - cost\n",
    "            balance += profit #type: ignore\n",
    "            trade_pairs.append(pair)\n",
    "            trade_types.append(\"long\")\n",
    "            trade_costs.append(cost)\n",
    "            trade_profits.append(profit)\n",
    "            invest_amounts.append(invest_amount)\n",
    "            balances.append(balance)\n",
    "            close_types.append(status)\n",
    "            BITCOIN_PRICEs.append(row[\"BITCOIN_PRICE\"])\n",
    "        \n",
    "        invest_amount = short_budget/len(short_pairs) if len(short_pairs)>0 else 0\n",
    "        for i in range(len(short_pairs)):\n",
    "            pair = short_pairs[i]\n",
    "            status = ar.check_stoploss(\n",
    "                pair = pair,\n",
    "                enter_time = enter_time,\n",
    "                end_time = end_time,\n",
    "                direction = \"SHORT\",\n",
    "                take_profit=take_profit_short,\n",
    "                stop_loss=stop_loss_short,\n",
    "                trading_df_dict = dfs,\n",
    "                granular_df_dict = gdfs\n",
    "            )\n",
    "            \n",
    "            match status:\n",
    "                case 0:\n",
    "                    cumsum_log_return = -merged_df.loc[enter_time:end_time,:][f\"{pair}_LOG_RETURN\"].sum()\n",
    "                case -1:\n",
    "                    cumsum_log_return = np.log(1-stop_loss_short)\n",
    "                case 1:\n",
    "                    cumsum_log_return = np.log(1+take_profit_short)\n",
    "            \n",
    "            profit_before_cost = invest_amount * (np.exp(cumsum_log_return)-1)\n",
    "            cost = invest_amount * 2 * trading_fee\n",
    "            profit = profit_before_cost - cost\n",
    "            balance += profit #type: ignore\n",
    "            trade_pairs.append(pair)\n",
    "            trade_types.append(\"short\")\n",
    "            trade_profits.append(profit)\n",
    "            invest_amounts.append(invest_amount)\n",
    "            trade_costs.append(cost)\n",
    "            balances.append(balance)\n",
    "            close_types.append(status)\n",
    "            BITCOIN_PRICEs.append(row[\"BITCOIN_PRICE\"])\n",
    "\n",
    "        times = [open_unix_time for i in range(trade_num)]\n",
    "        date_times = [date_time for i in range(trade_num)]\n",
    "\n",
    "        new_rows =pd.DataFrame({\"open\": times, \"datetime\": date_times, \"symbol\":trade_pairs,\\\n",
    "            \"type\":trade_types,\"amount\":invest_amounts, \"profit\":trade_profits, \\\n",
    "                \"cost\":trade_costs,\"balance\":balances, \"close_type\":close_types, \"BITCOIN_PRICE\":BITCOIN_PRICEs})\n",
    "        \n",
    "        trade_df = pd.concat([trade_df,new_rows],ignore_index=True)\n",
    "        \n",
    "        if verbose == 1:\n",
    "            print(date_time)\n",
    "            print(f\"LONG {[(pair,long_dict[pair]) for pair in long_pairs]}\")\n",
    "            print(f\"SHORT {[(pair,short_dict[pair]) for pair in short_pairs]}\")\n",
    "        elif verbose == 0:\n",
    "            pass\n",
    "        else:\n",
    "            raise ValueError(\"verbose: 0 or 1\")\n",
    "        \n",
    "        open_unix_time += holding_period * TRADE_TIMEFRAME_IN_MS\n",
    "\n",
    "    trade_df[\"cumsum_profit\"] = trade_df[\"profit\"].cumsum()\n",
    "    trade_df[\"cumsum_long_profit\"] = trade_df[trade_df[\"type\"] == \"long\"][\"profit\"].cumsum()\n",
    "    trade_df[\"cumsum_short_profit\"] = trade_df[trade_df[\"type\"] == \"short\"][\"profit\"].cumsum()\n",
    "    trade_df[\"cumsum_trading_cost\"] = trade_df[\"cost\"].cumsum()\n",
    "    trade_df.fillna(method=\"ffill\", inplace = True)\n",
    "\n",
    "    if plot == True:\n",
    "        market_df = ar.make_market_trend(merged_df,f\"BTCUSDT_{market_cycle}_MACD\")\n",
    "        plot_results(trade_df,market_df,(trade_start,trade_end))\n",
    "\n",
    "    return trade_df, merged_df"
   ]
  },
  {
   "cell_type": "code",
   "execution_count": null,
   "metadata": {},
   "outputs": [],
   "source": [
    "trade_df, merged_df = backtest_strategy(\n",
    "    leverage = 1,\n",
    "    trade_duration = 900 * 6,\n",
    "    holding_period = 14 * 6,\n",
    "    pair_number = 5,\n",
    "    verbose = 0,\n",
    "    balance = 100_000,\n",
    "    trading_fee = 0.0004,\n",
    "    take_profit_long = 1.5,\n",
    "    stop_loss_long = 0.5,\n",
    "    take_profit_short = 0.8,\n",
    "    stop_loss_short = 0.5,\n",
    "    altcoin_cycle = \"MEDIUM\",\n",
    "    market_cycle = \"SLOW\",\n",
    "    plot=True,\n",
    ")\n",
    "\n",
    "aggreegate_df = ar.get_aggregate_report(trade_df=trade_df,holding_period=14 * 6,equity = 100_000)\n",
    "sharpe_ratio = ar.get_sharpe(aggreegate_df)\n",
    "print(f\"Sharpe: {sharpe_ratio}\")\n",
    "ar.analyze_trade(trade_df)"
   ]
  }
 ],
 "metadata": {
  "kernelspec": {
   "display_name": "tensor",
   "language": "python",
   "name": "python3"
  },
  "language_info": {
   "codemirror_mode": {
    "name": "ipython",
    "version": 3
   },
   "file_extension": ".py",
   "mimetype": "text/x-python",
   "name": "python",
   "nbconvert_exporter": "python",
   "pygments_lexer": "ipython3",
   "version": "3.10.8"
  },
  "orig_nbformat": 4,
  "vscode": {
   "interpreter": {
    "hash": "8b58b1819899e409cec63cea36e334f732dfc50db3a5ecdff48b63b0a8eb4970"
   }
  }
 },
 "nbformat": 4,
 "nbformat_minor": 2
}
