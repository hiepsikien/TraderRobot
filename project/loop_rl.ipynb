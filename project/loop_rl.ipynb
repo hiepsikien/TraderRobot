{
 "cells": [
  {
   "cell_type": "code",
   "execution_count": null,
   "metadata": {},
   "outputs": [],
   "source": [
    "import warnings\n",
    "warnings.simplefilter(action='ignore', category=FutureWarning)\n",
    "import pandas as pd\n",
    "warnings.simplefilter(action='ignore', category=pd.errors.PerformanceWarning)\n",
    "import feature_manager as fma\n",
    "import rl.env_simple_crypto_trade as env\n",
    "import importlib\n",
    "import rl.models as rla\n",
    "import config as cf\n",
    "import numpy as np\n",
    "import os\n",
    "import time"
   ]
  },
  {
   "cell_type": "code",
   "execution_count": null,
   "metadata": {},
   "outputs": [],
   "source": [
    "importlib.reload(fma)\n",
    "\n",
    "fm = fma.FeatureManager(target_col=\"trade_signal\")\n",
    "fm.import_trading_data(symbol=\"BTCUSDT\",trade_timeframe=\"4h\")\n",
    "fm.import_macro_data(symbol=\"BTCUSDT\",macro_timeframe=\"1d\")\n",
    "fm.import_super_data(symbol=\"BTCUSDT\",super_timeframe=\"1w\")\n",
    "\n",
    "fm.build_features(\n",
    "    lags = 1,\n",
    "    macro_lags = 1,\n",
    "    super_lags = 1,\n",
    "    features = cf.BITCOIN_EXTERNAL_INDICATORS + cf.TRADING_TA_INDICATORS + cf.CANDLESTICK_INDICATORS,\n",
    "    macro_features = cf.MACRO_TA_INDICATORS + cf.CANDLESTICK_INDICATORS,\n",
    "    super_features = cf.SUPER_TA_INDICATORS + cf.CANDLESTICK_INDICATORS,\n",
    ")"
   ]
  },
  {
   "cell_type": "code",
   "execution_count": null,
   "metadata": {},
   "outputs": [],
   "source": [
    "importlib.reload(env)\n",
    "\n",
    "env_kwargs = cf.TRADE_ENV_PARAMETER\n",
    "state_space = 6 + len(fm.cols)\n",
    "\n",
    "train = fm.df.iloc[-4000:-2000]\n",
    "trade = fm.df.iloc[-2000:]\n",
    "\n",
    "train_env = env.CryptoTradingEnv(\n",
    "    trade_timeframe=\"4h\",\n",
    "    df = train, \n",
    "    state_space=state_space,\n",
    "    indicators=fm.cols,\n",
    "    **env_kwargs)\n",
    "\n",
    "trade_env = env.CryptoTradingEnv(\n",
    "    trade_timeframe=\"4h\",\n",
    "    df = trade, \n",
    "    state_space=state_space,\n",
    "    indicators=fm.cols,\n",
    "    **env_kwargs)\n",
    "full_env = env.CryptoTradingEnv(\n",
    "    trade_timeframe=\"4h\",\n",
    "    df = fm.df, \n",
    "    state_space=state_space,\n",
    "    indicators=fm.cols,\n",
    "    **env_kwargs)"
   ]
  },
  {
   "cell_type": "code",
   "execution_count": null,
   "metadata": {},
   "outputs": [],
   "source": [
    "importlib.reload(rla)\n",
    "agent = rla.DRLTradeAgent(env=full_env)"
   ]
  },
  {
   "cell_type": "code",
   "execution_count": null,
   "metadata": {},
   "outputs": [],
   "source": [
    "test_env = full_env\n",
    "test_laps = 3\n",
    "\n",
    "profit_list = []\n",
    "std_list = []\n",
    "\n",
    "%store profit_list \n",
    "%store std_list\n",
    "\n",
    "start_timestep = 950_000\n",
    "end_timestep = 1_000_000 + 1\n",
    "frequency = 5_000\n",
    "catalog_name= \"gamma_999e-3_rwd_advance\"\n",
    "\n",
    "for step in range(start_timestep,end_timestep,frequency):\n",
    "    print(f\"Timestep {step}:\")\n",
    "\n",
    "    checkpoint_path = f\"{catalog_name}/rl_model_{step}_steps\"\n",
    "    path = cf.CHECKPOINT_CALLBACK[\"save_dir\"]+checkpoint_path+\".zip\"\n",
    "\n",
    "    while(not os.path.exists(path)):\n",
    "        time.sleep(10)\n",
    "        continue    \n",
    "    \n",
    "    model = agent.load_model_from_checkpoint(\"ppo\",checkpoint_path)\n",
    "\n",
    "    profits = []\n",
    "    costs = []\n",
    "    for i in range(0,test_laps):\n",
    "        agent.predict(model,test_env,render=False)\n",
    "        result = agent.make_result_data()\n",
    "        agent.describe_trades()\n",
    "        agent.plot_multiple(dpi=240)\n",
    "        profit = result.iloc[-1,:][\"cumsum_trade_profit\"]\n",
    "        profits.append(profit)\n",
    " \n",
    "    mean_profit = np.array(profits).mean()\n",
    "    std_profit = np.array(profits).std()\n",
    "    profit_list.append(mean_profit)\n",
    "    std_list.append(std_profit)\n",
    "    print(f\"\\t Average profit: {mean_profit}, sdt: {std_profit}\")\n",
    "    %store profit_list \n",
    "    %store std_list"
   ]
  },
  {
   "cell_type": "code",
   "execution_count": null,
   "metadata": {},
   "outputs": [],
   "source": []
  }
 ],
 "metadata": {
  "kernelspec": {
   "display_name": "tensor",
   "language": "python",
   "name": "python3"
  },
  "language_info": {
   "codemirror_mode": {
    "name": "ipython",
    "version": 3
   },
   "file_extension": ".py",
   "mimetype": "text/x-python",
   "name": "python",
   "nbconvert_exporter": "python",
   "pygments_lexer": "ipython3",
   "version": "3.10.8"
  },
  "orig_nbformat": 4,
  "vscode": {
   "interpreter": {
    "hash": "8b58b1819899e409cec63cea36e334f732dfc50db3a5ecdff48b63b0a8eb4970"
   }
  }
 },
 "nbformat": 4,
 "nbformat_minor": 2
}
