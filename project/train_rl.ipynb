{
 "cells": [
  {
   "cell_type": "code",
   "execution_count": null,
   "metadata": {},
   "outputs": [],
   "source": [
    "import warnings\n",
    "warnings.simplefilter(action='ignore', category=FutureWarning)\n",
    "import pandas as pd\n",
    "warnings.simplefilter(action='ignore', category=pd.errors.PerformanceWarning)\n",
    "import feature_manager as fma\n",
    "import rl.env_simple_crypto_trade as env\n",
    "import importlib\n",
    "import rl.models as rla\n",
    "import config as cf\n",
    "import tr_utils"
   ]
  },
  {
   "cell_type": "code",
   "execution_count": null,
   "metadata": {},
   "outputs": [],
   "source": [
    "importlib.reload(fma)\n",
    "\n",
    "fm = fma.FeatureManager(target_col=\"trade_signal\")\n",
    "fm.import_trading_data(symbol=\"BTCUSDT\",trade_timeframe=\"4h\")\n",
    "fm.import_macro_data(symbol=\"BTCUSDT\",macro_timeframe=\"1d\")\n",
    "fm.import_super_data(symbol=\"BTCUSDT\",super_timeframe=\"1w\")\n",
    "\n",
    "fm.build_features(\n",
    "    lags = 1,\n",
    "    macro_lags = 1,\n",
    "    super_lags = 1,\n",
    "    features = cf.BITCOIN_EXTERNAL_INDICATORS + cf.TRADING_TA_INDICATORS + cf.CANDLESTICK_INDICATORS,\n",
    "    macro_features = cf.MACRO_TA_INDICATORS + cf.CANDLESTICK_INDICATORS,\n",
    "    super_features = cf.SUPER_TA_INDICATORS + cf.CANDLESTICK_INDICATORS,\n",
    ")"
   ]
  },
  {
   "cell_type": "code",
   "execution_count": null,
   "metadata": {},
   "outputs": [],
   "source": [
    "train = fm.df.iloc[-4000:-2000]\n",
    "trade = fm.df.iloc[-2000:]"
   ]
  },
  {
   "cell_type": "code",
   "execution_count": null,
   "metadata": {},
   "outputs": [],
   "source": [
    "importlib.reload(env)\n",
    "importlib.reload(cf)\n",
    "\n",
    "env_kwargs = cf.TRADE_ENV_PARAMETER\n",
    "state_space = 6 + len(fm.cols)\n",
    "\n",
    "train_env = env.CryptoTradingEnv(\n",
    "    trade_timeframe=\"4h\",\n",
    "    df = train, \n",
    "    state_space=state_space,\n",
    "    indicators=fm.cols,\n",
    "    **env_kwargs)\n",
    "\n",
    "trade_env = env.CryptoTradingEnv(\n",
    "    trade_timeframe=\"4h\",\n",
    "    df = trade, \n",
    "    state_space=state_space,\n",
    "    indicators=fm.cols,\n",
    "    **env_kwargs)\n",
    "\n",
    "full_env = env.CryptoTradingEnv(\n",
    "    trade_timeframe=\"4h\",\n",
    "    df = fm.df, \n",
    "    state_space=state_space,\n",
    "    indicators=fm.cols,\n",
    "    **env_kwargs)"
   ]
  },
  {
   "cell_type": "code",
   "execution_count": null,
   "metadata": {},
   "outputs": [],
   "source": [
    "importlib.reload(rla)\n",
    "agent = rla.DRLTradeAgent(env=full_env)"
   ]
  },
  {
   "cell_type": "code",
   "execution_count": null,
   "metadata": {},
   "outputs": [],
   "source": [
    "len(full_env.df)"
   ]
  },
  {
   "cell_type": "code",
   "execution_count": null,
   "metadata": {},
   "outputs": [],
   "source": [
    "importlib.reload(rla)\n",
    "\n",
    "KWARGS = {\n",
    "    \"gamma\": 999e-3,\n",
    "    \"n_steps\": 8000,\n",
    "    \"ent_coef\": 0.01,\n",
    "    \"learning_rate\": 0.00025,\n",
    "    \"batch_size\": 800,\n",
    "}\n",
    "\n",
    "catalog_name = tr_utils.get_name_with_kwargs(\"advance_reward\",KWARGS)\n",
    "\n",
    "model_ppo = agent.get_model(\n",
    "    model_name=\"ppo\",\n",
    "    model_kwargs=KWARGS,\n",
    "    seed=100,\n",
    "    tensorboard_log=catalog_name\n",
    ")"
   ]
  },
  {
   "cell_type": "code",
   "execution_count": null,
   "metadata": {},
   "outputs": [],
   "source": [
    "selected_model = model_ppo\n",
    "selected_model = agent.train_model(selected_model,\n",
    "    total_timesteps=2_000_000,\n",
    "    checkpoint=True,\n",
    "    catalog_name=catalog_name,\n",
    "    save_frequency=10_000,\n",
    "    progress_bar=True\n",
    ")"
   ]
  },
  {
   "cell_type": "code",
   "execution_count": null,
   "metadata": {},
   "outputs": [],
   "source": []
  }
 ],
 "metadata": {
  "kernelspec": {
   "display_name": "tensor",
   "language": "python",
   "name": "python3"
  },
  "language_info": {
   "codemirror_mode": {
    "name": "ipython",
    "version": 3
   },
   "file_extension": ".py",
   "mimetype": "text/x-python",
   "name": "python",
   "nbconvert_exporter": "python",
   "pygments_lexer": "ipython3",
   "version": "3.10.8"
  },
  "orig_nbformat": 4,
  "vscode": {
   "interpreter": {
    "hash": "8b58b1819899e409cec63cea36e334f732dfc50db3a5ecdff48b63b0a8eb4970"
   }
  }
 },
 "nbformat": 4,
 "nbformat_minor": 2
}
