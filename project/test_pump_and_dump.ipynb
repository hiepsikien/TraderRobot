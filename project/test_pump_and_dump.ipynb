{
 "cells": [
  {
   "cell_type": "code",
   "execution_count": null,
   "metadata": {},
   "outputs": [],
   "source": [
    "import pandas as pd"
   ]
  },
  {
   "cell_type": "code",
   "execution_count": null,
   "metadata": {},
   "outputs": [],
   "source": [
    "def import_granular_data(symbol: str, granular_timeframe: str):\n",
    "        '''Import most detail data, used to check stoploss and take profit hit\n",
    "        '''\n",
    "        granular_data_path = \"../nocommit/{}-{}.csv\".format(symbol,granular_timeframe)\n",
    "        granular_df = pd.read_csv(\n",
    "            granular_data_path, \n",
    "            parse_dates=[\"Open Time\"], \n",
    "            index_col = \"Open Time\"\n",
    "        )\n",
    "        print(\"Imported granular data from {} with {} rows\".format(granular_data_path,len(granular_df)))\n",
    "        return granular_df"
   ]
  },
  {
   "cell_type": "code",
   "execution_count": null,
   "metadata": {},
   "outputs": [],
   "source": [
    "df = import_granular_data(\"BTCUSDT\",\"1m\")"
   ]
  },
  {
   "cell_type": "code",
   "execution_count": null,
   "metadata": {},
   "outputs": [],
   "source": [
    "df.head()"
   ]
  },
  {
   "cell_type": "code",
   "execution_count": null,
   "metadata": {},
   "outputs": [],
   "source": [
    "df[\"return\"] = df[\"Close\"]/df[\"Close\"].shift()-1"
   ]
  },
  {
   "cell_type": "code",
   "execution_count": null,
   "metadata": {},
   "outputs": [],
   "source": [
    "for i in range(-10,10,1):\n",
    "    df[f\"lag_{i}\"] = df[\"return\"].shift(i)"
   ]
  },
  {
   "cell_type": "code",
   "execution_count": null,
   "metadata": {},
   "outputs": [],
   "source": [
    "for i in range(1,10,1):\n",
    "    df[f\"sum_{i}\"] = 0\n",
    "    for j in range(1,i+1,1):\n",
    "        df[f\"sum_{i}\"] += df[f\"lag_{-j}\"]"
   ]
  },
  {
   "cell_type": "code",
   "execution_count": null,
   "metadata": {},
   "outputs": [],
   "source": [
    "data = df.copy()"
   ]
  },
  {
   "cell_type": "code",
   "execution_count": null,
   "metadata": {},
   "outputs": [],
   "source": [
    "df = data[-2_000_000:]"
   ]
  },
  {
   "cell_type": "code",
   "execution_count": null,
   "metadata": {},
   "outputs": [],
   "source": [
    "len(df)"
   ]
  },
  {
   "cell_type": "code",
   "execution_count": null,
   "metadata": {},
   "outputs": [],
   "source": [
    "cond = \\\n",
    "    (df.shift(2)[\"Open\"] < df.shift(3)[\"Low\"] + 0.1 * (df.shift(3)[\"High\"] - df.shift(3)[\"Low\"])) \\\n",
    "    & (df.shift(2)[\"Volumn\"] > df.shift(3)[\"Volumn\"])\\\n",
    "    & (df.shift(1)[\"Open\"] < df.shift(3)[\"Low\"] + 0.1 * (df.shift(2)[\"High\"] - df.shift(2)[\"Low\"]))\\\n",
    "    & (df.shift(1)[\"Volumn\"] > df.shift(2)[\"Volumn\"])\\\n",
    "    & (df[\"Open\"] == df.shift(1)[\"Low\"])"
   ]
  },
  {
   "cell_type": "code",
   "execution_count": null,
   "metadata": {},
   "outputs": [],
   "source": [
    "# Frequency that happen per day\n",
    "len(df[cond])*60*24/len(df)"
   ]
  },
  {
   "cell_type": "code",
   "execution_count": null,
   "metadata": {},
   "outputs": [],
   "source": [
    "# Histogram\n",
    "df[\"return\"].hist()"
   ]
  },
  {
   "cell_type": "code",
   "execution_count": null,
   "metadata": {},
   "outputs": [],
   "source": [
    "# Average return \n",
    "df[\"return\"].describe()"
   ]
  },
  {
   "cell_type": "code",
   "execution_count": null,
   "metadata": {},
   "outputs": [],
   "source": [
    "#Ratio of return is negative\n",
    "len(df[cond][df[\"return\"]<0])/len(df[cond])"
   ]
  }
 ],
 "metadata": {
  "kernelspec": {
   "display_name": "tensor",
   "language": "python",
   "name": "python3"
  },
  "language_info": {
   "codemirror_mode": {
    "name": "ipython",
    "version": 3
   },
   "file_extension": ".py",
   "mimetype": "text/x-python",
   "name": "python",
   "nbconvert_exporter": "python",
   "pygments_lexer": "ipython3",
   "version": "3.10.8"
  },
  "orig_nbformat": 4,
  "vscode": {
   "interpreter": {
    "hash": "8b58b1819899e409cec63cea36e334f732dfc50db3a5ecdff48b63b0a8eb4970"
   }
  }
 },
 "nbformat": 4,
 "nbformat_minor": 2
}
