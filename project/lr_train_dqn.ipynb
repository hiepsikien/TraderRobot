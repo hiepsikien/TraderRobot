{
 "cells": [
  {
   "cell_type": "code",
   "execution_count": 2,
   "metadata": {},
   "outputs": [],
   "source": [
    "import warnings\n",
    "warnings.simplefilter(action='ignore', category=FutureWarning)\n",
    "import pandas as pd\n",
    "warnings.simplefilter(action='ignore', category=pd.errors.PerformanceWarning)\n",
    "import feature_manager as fma\n",
    "import rl.env_simple_crypto_trade as env\n",
    "import importlib\n",
    "import rl.models as rla\n",
    "import config as cf\n",
    "import tr_utils"
   ]
  },
  {
   "cell_type": "code",
   "execution_count": 3,
   "metadata": {},
   "outputs": [
    {
     "name": "stdout",
     "output_type": "stream",
     "text": [
      "Imported data 1d from ../data/BTCUSDT-1d.csv with 1963 rows\n",
      "Imported data 1w from ../data/BTCUSDT-1w.csv with 247 rows\n",
      "Imported data 1mo from ../data/BTCUSDT-1mo.csv with 65 rows\n",
      "Calculating external features ...\n",
      "sma_3_10, sma_7_30, rsi7, rsi14, rsi30, cci7, cci14, cci30, dx7, dx14, dx30, hashrate, fed_rate, gold, nasdaq, sp500, google_trend, \n",
      "sma_3_10, sma_7_30, rsi7, rsi14, rsi30, cci7, cci14, cci30, dx7, dx14, dx30, \n",
      "sma_3_10, rsi7, rsi14, cci7, cci14, dx7, dx14, \n",
      "\n",
      "Normalizing features with MinMax: sma_3_10_level0_lag_1, sma_7_30_level0_lag_1, rsi7_level0_lag_1, rsi14_level0_lag_1, rsi30_level0_lag_1, cci7_level0_lag_1, cci14_level0_lag_1, cci30_level0_lag_1, dx7_level0_lag_1, dx14_level0_lag_1, dx30_level0_lag_1, hashrate_level0_lag_1, fed_rate_level0_lag_1, gold_level0_lag_1, nasdaq_level0_lag_1, sp500_level0_lag_1, google_trend_level0_lag_1, sma_3_10_level1_lag_1, sma_7_30_level1_lag_1, rsi7_level1_lag_1, rsi14_level1_lag_1, rsi30_level1_lag_1, cci7_level1_lag_1, cci14_level1_lag_1, cci30_level1_lag_1, dx7_level1_lag_1, dx14_level1_lag_1, dx30_level1_lag_1, sma_3_10_level2_lag_1, rsi7_level2_lag_1, rsi14_level2_lag_1, cci7_level2_lag_1, cci14_level2_lag_1, dx7_level2_lag_1, dx14_level2_lag_1, \n",
      "Total 35 features added.\n"
     ]
    }
   ],
   "source": [
    "importlib.reload(fma)\n",
    "\n",
    "fm = fma.FeatureManager()\n",
    "fm.import_data(symbol=\"BTCUSDT\",timeframes=[\"1d\",\"1w\",\"1mo\"])\n",
    "\n",
    "fm.build_features(\n",
    "    lags = [1,1,1],\n",
    "    features=cf.FOR_1D_INDICATORS\n",
    ")"
   ]
  },
  {
   "cell_type": "code",
   "execution_count": 4,
   "metadata": {},
   "outputs": [],
   "source": [
    "importlib.reload(env)\n",
    "importlib.reload(cf)\n",
    "\n",
    "env_kwargs = cf.TRADE_ENV_PARAMETER\n",
    "state_space = 10 + len(fm.cols)\n",
    "\n",
    "full_env = env.CryptoTradingEnv(\n",
    "    trade_timeframe=\"1d\",\n",
    "    df = fm.df, \n",
    "    state_space=state_space,\n",
    "    indicators=fm.cols,\n",
    "    **env_kwargs)"
   ]
  },
  {
   "cell_type": "code",
   "execution_count": 5,
   "metadata": {},
   "outputs": [],
   "source": [
    "importlib.reload(rla)\n",
    "agent = rla.DRLTradeAgent(env=full_env)"
   ]
  },
  {
   "cell_type": "code",
   "execution_count": 6,
   "metadata": {},
   "outputs": [
    {
     "name": "stdout",
     "output_type": "stream",
     "text": [
      "Successfully load model from ../saved_models/checkpoint/dqn_4layers_relu/rl_model_960000_steps\n"
     ]
    }
   ],
   "source": [
    "catalog_name = \"dqn_4layers_relu\"\n",
    "\n",
    "timestep = 960_000\n",
    "\n",
    "selected_model = agent.load_model_from_checkpoint(\n",
    "    \"dqn\",f\"{catalog_name}/rl_model_{timestep}_steps\")"
   ]
  },
  {
   "cell_type": "code",
   "execution_count": 7,
   "metadata": {},
   "outputs": [
    {
     "data": {
      "text/plain": [
       "stable_baselines3.common.buffers.ReplayBuffer"
      ]
     },
     "execution_count": 7,
     "metadata": {},
     "output_type": "execute_result"
    }
   ],
   "source": [
    "selected_model.replay_buffer_class"
   ]
  },
  {
   "cell_type": "code",
   "execution_count": 9,
   "metadata": {},
   "outputs": [],
   "source": [
    "replay_buffer = selected_model.replay_buffer"
   ]
  },
  {
   "cell_type": "code",
   "execution_count": 26,
   "metadata": {},
   "outputs": [
    {
     "data": {
      "text/plain": [
       "QNetwork(\n",
       "  (features_extractor): FlattenExtractor(\n",
       "    (flatten): Flatten(start_dim=1, end_dim=-1)\n",
       "  )\n",
       "  (q_net): Sequential(\n",
       "    (0): Linear(in_features=45, out_features=128, bias=True)\n",
       "    (1): ReLU()\n",
       "    (2): Linear(in_features=128, out_features=256, bias=True)\n",
       "    (3): ReLU()\n",
       "    (4): Linear(in_features=256, out_features=256, bias=True)\n",
       "    (5): ReLU()\n",
       "    (6): Linear(in_features=256, out_features=128, bias=True)\n",
       "    (7): ReLU()\n",
       "    (8): Linear(in_features=128, out_features=3, bias=True)\n",
       "  )\n",
       ")"
      ]
     },
     "execution_count": 26,
     "metadata": {},
     "output_type": "execute_result"
    }
   ],
   "source": [
    "selected_model.q_net_target"
   ]
  },
  {
   "cell_type": "code",
   "execution_count": 18,
   "metadata": {},
   "outputs": [
    {
     "data": {
      "text/plain": [
       "array([[0.],\n",
       "       [0.],\n",
       "       [0.],\n",
       "       ...,\n",
       "       [0.],\n",
       "       [0.],\n",
       "       [0.]], dtype=float32)"
      ]
     },
     "execution_count": 18,
     "metadata": {},
     "output_type": "execute_result"
    }
   ],
   "source": [
    "selected_model.save_replay_buffer()"
   ]
  },
  {
   "cell_type": "code",
   "execution_count": null,
   "metadata": {},
   "outputs": [],
   "source": [
    "importlib.reload(rla)\n",
    "agent = rla.DRLTradeAgent(env=full_env)\n",
    "\n",
    "policy_kwargs = dict(\n",
    "    net_arch = [256,128,256,128]\n",
    ")\n",
    "\n",
    "alpha_0 = 1e-6\n",
    "alpha_end = 1e-9\n",
    "\n",
    "def learning_rate_f(process_remaining):\n",
    "    initial = alpha_0\n",
    "    final = alpha_end\n",
    "    interval = initial-final\n",
    "    return final+interval*process_remaining\n",
    "\n",
    "MODEL_PARAMS = {\n",
    "    \"learning_rate\": learning_rate_f,\n",
    "    \"buffer_size\": 100_000,  \n",
    "    \"learning_starts\": 50_000,\n",
    "    \"batch_size\": 64,\n",
    "    \"tau\": 1.0,\n",
    "    \"gamma\": 0.999,\n",
    "    \"train_freq\": 4,\n",
    "    \"target_update_interval\": 10_000,\n",
    "    \"exploration_fraction\": 0.025,\n",
    "    \"exploration_initial_eps\": 1.0,\n",
    "    \"exploration_final_eps\": 0.05\n",
    "}\n",
    "\n",
    "catalog_name = tr_utils.get_name_with_kwargs(\n",
    "    name=\"dqn\",\n",
    "    kwargs=MODEL_PARAMS,\n",
    "    excludes=[\"learning_rate\"]\n",
    ")\n",
    "\n",
    "dqn_model = agent.get_model(\n",
    "    model_name=\"dqn\",\n",
    "    model_kwargs = MODEL_PARAMS,\n",
    "    tensorboard_log=catalog_name,\n",
    "    seed = 100\n",
    ")"
   ]
  },
  {
   "cell_type": "code",
   "execution_count": 1,
   "metadata": {},
   "outputs": [
    {
     "ename": "NameError",
     "evalue": "name 'full_env' is not defined",
     "output_type": "error",
     "traceback": [
      "\u001b[0;31m---------------------------------------------------------------------------\u001b[0m",
      "\u001b[0;31mNameError\u001b[0m                                 Traceback (most recent call last)",
      "Cell \u001b[0;32mIn[1], line 1\u001b[0m\n\u001b[0;32m----> 1\u001b[0m full_env\n",
      "\u001b[0;31mNameError\u001b[0m: name 'full_env' is not defined"
     ]
    }
   ],
   "source": [
    "full_env"
   ]
  },
  {
   "cell_type": "code",
   "execution_count": null,
   "metadata": {},
   "outputs": [],
   "source": [
    "catalog_name"
   ]
  },
  {
   "cell_type": "code",
   "execution_count": null,
   "metadata": {},
   "outputs": [],
   "source": [
    "selected_model = dqn_model\n",
    "\n",
    "selected_model = agent.train_model(\n",
    "    model = selected_model,\n",
    "    total_timesteps = 5_000_000,\n",
    "    checkpoint = True,\n",
    "    catalog_name = catalog_name,\n",
    "    save_frequency = 20_000,\n",
    "    progress_bar = True\n",
    ")"
   ]
  },
  {
   "cell_type": "code",
   "execution_count": null,
   "metadata": {},
   "outputs": [],
   "source": []
  }
 ],
 "metadata": {
  "kernelspec": {
   "display_name": "tensor",
   "language": "python",
   "name": "python3"
  },
  "language_info": {
   "codemirror_mode": {
    "name": "ipython",
    "version": 3
   },
   "file_extension": ".py",
   "mimetype": "text/x-python",
   "name": "python",
   "nbconvert_exporter": "python",
   "pygments_lexer": "ipython3",
   "version": "3.10.8"
  },
  "orig_nbformat": 4,
  "vscode": {
   "interpreter": {
    "hash": "8b58b1819899e409cec63cea36e334f732dfc50db3a5ecdff48b63b0a8eb4970"
   }
  }
 },
 "nbformat": 4,
 "nbformat_minor": 2
}
