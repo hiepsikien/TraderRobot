{
 "cells": [
  {
   "cell_type": "code",
   "execution_count": 1,
   "metadata": {},
   "outputs": [],
   "source": [
    "import pandas as pd\n",
    "import numpy as np\n",
    "import tr_utils"
   ]
  },
  {
   "cell_type": "code",
   "execution_count": 2,
   "metadata": {},
   "outputs": [],
   "source": [
    "data = pd.read_csv(\"../data/BTCUSDT-1d.csv\")"
   ]
  },
  {
   "cell_type": "code",
   "execution_count": 5,
   "metadata": {},
   "outputs": [],
   "source": [
    "data[\"return\"] = data[\"Close\"]/data[\"Close\"].shift()-1"
   ]
  },
  {
   "cell_type": "code",
   "execution_count": 6,
   "metadata": {},
   "outputs": [],
   "source": [
    "data[\"dir\"] = data[\"return\"] > 0"
   ]
  },
  {
   "cell_type": "code",
   "execution_count": 8,
   "metadata": {},
   "outputs": [
    {
     "data": {
      "text/plain": [
       "True     1011\n",
       "False     952\n",
       "Name: dir, dtype: int64"
      ]
     },
     "execution_count": 8,
     "metadata": {},
     "output_type": "execute_result"
    }
   ],
   "source": [
    "data[\"dir\"].value_counts()"
   ]
  },
  {
   "cell_type": "code",
   "execution_count": 11,
   "metadata": {},
   "outputs": [],
   "source": [
    "fix_data = tr_utils.fix_sampling_rebalance(cat_length=2000,data=data,target_col=\"dir\")"
   ]
  },
  {
   "cell_type": "code",
   "execution_count": 13,
   "metadata": {},
   "outputs": [
    {
     "name": "stdout",
     "output_type": "stream",
     "text": [
      "<class 'pandas.core.frame.DataFrame'>\n",
      "Int64Index: 1904 entries, 590 to 1784\n",
      "Data columns (total 15 columns):\n",
      " #   Column                        Non-Null Count  Dtype  \n",
      "---  ------                        --------------  -----  \n",
      " 0   Open Time                     1904 non-null   int64  \n",
      " 1   Open                          1904 non-null   float64\n",
      " 2   High                          1904 non-null   float64\n",
      " 3   Low                           1904 non-null   float64\n",
      " 4   Close                         1904 non-null   float64\n",
      " 5   Volumn                        1904 non-null   float64\n",
      " 6   Close Time                    1904 non-null   int64  \n",
      " 7   Quote Asset Volumn            1904 non-null   float64\n",
      " 8   Number of Trades              1904 non-null   int64  \n",
      " 9   Taker Buy Base Asset Volumn   1904 non-null   float64\n",
      " 10  Taker Buy Quote Asset Volumn  1904 non-null   float64\n",
      " 11  Ignore                        1904 non-null   float64\n",
      " 12  Date Time                     1904 non-null   object \n",
      " 13  return                        1903 non-null   float64\n",
      " 14  dir                           1904 non-null   bool   \n",
      "dtypes: bool(1), float64(10), int64(3), object(1)\n",
      "memory usage: 225.0+ KB\n"
     ]
    }
   ],
   "source": [
    "under_data = tr_utils.under_sampling_rebalance(data=data,target_col=\"dir\")\n",
    "under_data.info()"
   ]
  },
  {
   "cell_type": "code",
   "execution_count": 14,
   "metadata": {},
   "outputs": [
    {
     "name": "stdout",
     "output_type": "stream",
     "text": [
      "<class 'pandas.core.frame.DataFrame'>\n",
      "Int64Index: 2022 entries, 371 to 959\n",
      "Data columns (total 15 columns):\n",
      " #   Column                        Non-Null Count  Dtype  \n",
      "---  ------                        --------------  -----  \n",
      " 0   Open Time                     2022 non-null   int64  \n",
      " 1   Open                          2022 non-null   float64\n",
      " 2   High                          2022 non-null   float64\n",
      " 3   Low                           2022 non-null   float64\n",
      " 4   Close                         2022 non-null   float64\n",
      " 5   Volumn                        2022 non-null   float64\n",
      " 6   Close Time                    2022 non-null   int64  \n",
      " 7   Quote Asset Volumn            2022 non-null   float64\n",
      " 8   Number of Trades              2022 non-null   int64  \n",
      " 9   Taker Buy Base Asset Volumn   2022 non-null   float64\n",
      " 10  Taker Buy Quote Asset Volumn  2022 non-null   float64\n",
      " 11  Ignore                        2022 non-null   float64\n",
      " 12  Date Time                     2022 non-null   object \n",
      " 13  return                        2021 non-null   float64\n",
      " 14  dir                           2022 non-null   bool   \n",
      "dtypes: bool(1), float64(10), int64(3), object(1)\n",
      "memory usage: 238.9+ KB\n"
     ]
    }
   ],
   "source": [
    "over_data = tr_utils.over_sampling_rebalance(data=data,target_col=\"dir\")\n",
    "over_data.info()"
   ]
  },
  {
   "cell_type": "code",
   "execution_count": 16,
   "metadata": {},
   "outputs": [
    {
     "data": {
      "text/html": [
       "<div>\n",
       "<style scoped>\n",
       "    .dataframe tbody tr th:only-of-type {\n",
       "        vertical-align: middle;\n",
       "    }\n",
       "\n",
       "    .dataframe tbody tr th {\n",
       "        vertical-align: top;\n",
       "    }\n",
       "\n",
       "    .dataframe thead th {\n",
       "        text-align: right;\n",
       "    }\n",
       "</style>\n",
       "<table border=\"1\" class=\"dataframe\">\n",
       "  <thead>\n",
       "    <tr style=\"text-align: right;\">\n",
       "      <th></th>\n",
       "      <th>Open Time</th>\n",
       "      <th>Open</th>\n",
       "      <th>High</th>\n",
       "      <th>Low</th>\n",
       "      <th>Close</th>\n",
       "      <th>Volumn</th>\n",
       "      <th>Close Time</th>\n",
       "      <th>Quote Asset Volumn</th>\n",
       "      <th>Number of Trades</th>\n",
       "      <th>Taker Buy Base Asset Volumn</th>\n",
       "      <th>Taker Buy Quote Asset Volumn</th>\n",
       "      <th>Ignore</th>\n",
       "      <th>return</th>\n",
       "    </tr>\n",
       "  </thead>\n",
       "  <tbody>\n",
       "    <tr>\n",
       "      <th>count</th>\n",
       "      <td>2.022000e+03</td>\n",
       "      <td>2022.000000</td>\n",
       "      <td>2022.000000</td>\n",
       "      <td>2022.000000</td>\n",
       "      <td>2022.000000</td>\n",
       "      <td>2022.000000</td>\n",
       "      <td>2.022000e+03</td>\n",
       "      <td>2.022000e+03</td>\n",
       "      <td>2.022000e+03</td>\n",
       "      <td>2022.000000</td>\n",
       "      <td>2.022000e+03</td>\n",
       "      <td>2022.000000</td>\n",
       "      <td>2021.000000</td>\n",
       "    </tr>\n",
       "    <tr>\n",
       "      <th>mean</th>\n",
       "      <td>1.587737e+12</td>\n",
       "      <td>19386.401889</td>\n",
       "      <td>19920.836771</td>\n",
       "      <td>18755.230035</td>\n",
       "      <td>19375.721830</td>\n",
       "      <td>68385.374450</td>\n",
       "      <td>1.587823e+12</td>\n",
       "      <td>1.457664e+09</td>\n",
       "      <td>1.227778e+06</td>\n",
       "      <td>34016.267129</td>\n",
       "      <td>7.214423e+08</td>\n",
       "      <td>1251.799060</td>\n",
       "      <td>0.000580</td>\n",
       "    </tr>\n",
       "    <tr>\n",
       "      <th>std</th>\n",
       "      <td>4.901731e+10</td>\n",
       "      <td>16715.211818</td>\n",
       "      <td>17170.932122</td>\n",
       "      <td>16174.383825</td>\n",
       "      <td>16698.395575</td>\n",
       "      <td>71808.666549</td>\n",
       "      <td>4.901731e+10</td>\n",
       "      <td>1.779723e+09</td>\n",
       "      <td>1.602131e+06</td>\n",
       "      <td>35562.759333</td>\n",
       "      <td>8.790196e+08</td>\n",
       "      <td>6168.256639</td>\n",
       "      <td>0.040926</td>\n",
       "    </tr>\n",
       "    <tr>\n",
       "      <th>min</th>\n",
       "      <td>1.502928e+12</td>\n",
       "      <td>3188.010000</td>\n",
       "      <td>3276.500000</td>\n",
       "      <td>2817.000000</td>\n",
       "      <td>3189.020000</td>\n",
       "      <td>228.108068</td>\n",
       "      <td>1.503014e+12</td>\n",
       "      <td>9.778657e+05</td>\n",
       "      <td>2.153000e+03</td>\n",
       "      <td>56.190141</td>\n",
       "      <td>2.413638e+05</td>\n",
       "      <td>0.000000</td>\n",
       "      <td>-0.395048</td>\n",
       "    </tr>\n",
       "    <tr>\n",
       "      <th>25%</th>\n",
       "      <td>1.544940e+12</td>\n",
       "      <td>7279.257500</td>\n",
       "      <td>7437.000000</td>\n",
       "      <td>7076.565000</td>\n",
       "      <td>7264.322500</td>\n",
       "      <td>30495.246141</td>\n",
       "      <td>1.545026e+12</td>\n",
       "      <td>2.474742e+08</td>\n",
       "      <td>2.543985e+05</td>\n",
       "      <td>15581.351072</td>\n",
       "      <td>1.268907e+08</td>\n",
       "      <td>0.000000</td>\n",
       "      <td>-0.017266</td>\n",
       "    </tr>\n",
       "    <tr>\n",
       "      <th>50%</th>\n",
       "      <td>1.587730e+12</td>\n",
       "      <td>10552.600000</td>\n",
       "      <td>10858.440000</td>\n",
       "      <td>10200.000000</td>\n",
       "      <td>10553.275000</td>\n",
       "      <td>47199.967419</td>\n",
       "      <td>1.587816e+12</td>\n",
       "      <td>5.730060e+08</td>\n",
       "      <td>6.478340e+05</td>\n",
       "      <td>23520.008700</td>\n",
       "      <td>2.840976e+08</td>\n",
       "      <td>0.000000</td>\n",
       "      <td>0.000014</td>\n",
       "    </tr>\n",
       "    <tr>\n",
       "      <th>75%</th>\n",
       "      <td>1.630174e+12</td>\n",
       "      <td>31098.267500</td>\n",
       "      <td>32207.147500</td>\n",
       "      <td>29484.402500</td>\n",
       "      <td>30850.130000</td>\n",
       "      <td>76804.918143</td>\n",
       "      <td>1.630260e+12</td>\n",
       "      <td>2.245705e+09</td>\n",
       "      <td>1.525079e+06</td>\n",
       "      <td>37877.884589</td>\n",
       "      <td>1.112109e+09</td>\n",
       "      <td>0.000000</td>\n",
       "      <td>0.017838</td>\n",
       "    </tr>\n",
       "    <tr>\n",
       "      <th>max</th>\n",
       "      <td>1.672445e+12</td>\n",
       "      <td>67525.820000</td>\n",
       "      <td>69000.000000</td>\n",
       "      <td>66222.400000</td>\n",
       "      <td>67525.830000</td>\n",
       "      <td>760705.362783</td>\n",
       "      <td>1.672531e+12</td>\n",
       "      <td>1.475838e+10</td>\n",
       "      <td>1.453060e+07</td>\n",
       "      <td>374775.574085</td>\n",
       "      <td>7.271201e+09</td>\n",
       "      <td>76007.970079</td>\n",
       "      <td>0.225014</td>\n",
       "    </tr>\n",
       "  </tbody>\n",
       "</table>\n",
       "</div>"
      ],
      "text/plain": [
       "          Open Time          Open          High           Low         Close  \\\n",
       "count  2.022000e+03   2022.000000   2022.000000   2022.000000   2022.000000   \n",
       "mean   1.587737e+12  19386.401889  19920.836771  18755.230035  19375.721830   \n",
       "std    4.901731e+10  16715.211818  17170.932122  16174.383825  16698.395575   \n",
       "min    1.502928e+12   3188.010000   3276.500000   2817.000000   3189.020000   \n",
       "25%    1.544940e+12   7279.257500   7437.000000   7076.565000   7264.322500   \n",
       "50%    1.587730e+12  10552.600000  10858.440000  10200.000000  10553.275000   \n",
       "75%    1.630174e+12  31098.267500  32207.147500  29484.402500  30850.130000   \n",
       "max    1.672445e+12  67525.820000  69000.000000  66222.400000  67525.830000   \n",
       "\n",
       "              Volumn    Close Time  Quote Asset Volumn  Number of Trades  \\\n",
       "count    2022.000000  2.022000e+03        2.022000e+03      2.022000e+03   \n",
       "mean    68385.374450  1.587823e+12        1.457664e+09      1.227778e+06   \n",
       "std     71808.666549  4.901731e+10        1.779723e+09      1.602131e+06   \n",
       "min       228.108068  1.503014e+12        9.778657e+05      2.153000e+03   \n",
       "25%     30495.246141  1.545026e+12        2.474742e+08      2.543985e+05   \n",
       "50%     47199.967419  1.587816e+12        5.730060e+08      6.478340e+05   \n",
       "75%     76804.918143  1.630260e+12        2.245705e+09      1.525079e+06   \n",
       "max    760705.362783  1.672531e+12        1.475838e+10      1.453060e+07   \n",
       "\n",
       "       Taker Buy Base Asset Volumn  Taker Buy Quote Asset Volumn  \\\n",
       "count                  2022.000000                  2.022000e+03   \n",
       "mean                  34016.267129                  7.214423e+08   \n",
       "std                   35562.759333                  8.790196e+08   \n",
       "min                      56.190141                  2.413638e+05   \n",
       "25%                   15581.351072                  1.268907e+08   \n",
       "50%                   23520.008700                  2.840976e+08   \n",
       "75%                   37877.884589                  1.112109e+09   \n",
       "max                  374775.574085                  7.271201e+09   \n",
       "\n",
       "             Ignore       return  \n",
       "count   2022.000000  2021.000000  \n",
       "mean    1251.799060     0.000580  \n",
       "std     6168.256639     0.040926  \n",
       "min        0.000000    -0.395048  \n",
       "25%        0.000000    -0.017266  \n",
       "50%        0.000000     0.000014  \n",
       "75%        0.000000     0.017838  \n",
       "max    76007.970079     0.225014  "
      ]
     },
     "execution_count": 16,
     "metadata": {},
     "output_type": "execute_result"
    }
   ],
   "source": [
    "over_data.describe()"
   ]
  },
  {
   "cell_type": "code",
   "execution_count": null,
   "metadata": {},
   "outputs": [],
   "source": []
  }
 ],
 "metadata": {
  "kernelspec": {
   "display_name": "tensor",
   "language": "python",
   "name": "python3"
  },
  "language_info": {
   "codemirror_mode": {
    "name": "ipython",
    "version": 3
   },
   "file_extension": ".py",
   "mimetype": "text/x-python",
   "name": "python",
   "nbconvert_exporter": "python",
   "pygments_lexer": "ipython3",
   "version": "3.10.8"
  },
  "orig_nbformat": 4,
  "vscode": {
   "interpreter": {
    "hash": "8b58b1819899e409cec63cea36e334f732dfc50db3a5ecdff48b63b0a8eb4970"
   }
  }
 },
 "nbformat": 4,
 "nbformat_minor": 2
}
