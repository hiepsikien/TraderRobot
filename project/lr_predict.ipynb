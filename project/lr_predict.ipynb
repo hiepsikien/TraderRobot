{
 "cells": [
  {
   "cell_type": "code",
   "execution_count": null,
   "metadata": {},
   "outputs": [],
   "source": [
    "import warnings\n",
    "warnings.simplefilter(action='ignore', category=FutureWarning)\n",
    "import pandas as pd\n",
    "warnings.simplefilter(action='ignore', category=pd.errors.PerformanceWarning)\n",
    "import feature_manager as fma\n",
    "import rl.env_simple_crypto_trade as env\n",
    "import importlib\n",
    "import rl.models as rla\n",
    "import config as cf\n",
    "import numpy as np\n",
    "from torch.nn import Tanh\n",
    "import tr_utils"
   ]
  },
  {
   "cell_type": "code",
   "execution_count": null,
   "metadata": {},
   "outputs": [],
   "source": [
    "importlib.reload(fma)\n",
    "\n",
    "fm = fma.FeatureManager()\n",
    "fm.import_data(symbol=\"BTCUSDT\",timeframes=[\"1d\",\"1w\",\"1mo\"])\n",
    "\n",
    "fm.build_features(\n",
    "    lags = [1,1,1],\n",
    "    features=cf.FOR_1D_INDICATORS,\n",
    ")"
   ]
  },
  {
   "cell_type": "code",
   "execution_count": null,
   "metadata": {},
   "outputs": [],
   "source": [
    "importlib.reload(env)\n",
    "importlib.reload(cf)\n",
    "\n",
    "env_kwargs = cf.TRADE_ENV_PARAMETER\n",
    "state_space = 10 + len(fm.cols)\n",
    "\n",
    "full_env = env.CryptoTradingEnv(\n",
    "    trade_timeframe=\"1d\",\n",
    "    df = fm.df, \n",
    "    state_space=state_space,\n",
    "    indicators=fm.cols,\n",
    "    **env_kwargs)\n"
   ]
  },
  {
   "cell_type": "code",
   "execution_count": null,
   "metadata": {},
   "outputs": [],
   "source": [
    "importlib.reload(rla)\n",
    "agent = rla.DRLTradeAgent(env=full_env)\n",
    "\n",
    "catalog_name = \"dqn_4layers_relu\"\n",
    "\n",
    "timestep = 960_000\n",
    "\n",
    "selected_model = agent.load_model_from_checkpoint(\n",
    "    \"dqn\",f\"{catalog_name}/rl_model_{timestep}_steps\")"
   ]
  },
  {
   "cell_type": "code",
   "execution_count": null,
   "metadata": {},
   "outputs": [],
   "source": [
    "def func(x):\n",
    "    return 1e-9\n",
    "selected_model.set_env(full_env)\n",
    "selected_model.lr_schedule = func\n",
    "selected_model.learning_rate = 1e-9\n",
    "selected_model.exploration_fraction= 0\n",
    "selected_model.learning_starts=0\n",
    "catalog_name = \"dqn_4layers_relu_continue\""
   ]
  },
  {
   "cell_type": "code",
   "execution_count": null,
   "metadata": {},
   "outputs": [],
   "source": [
    "selected_model.learn(\n",
    "    total_timesteps = 5_000_000,\n",
    "    tb_log_name = catalog_name,\n",
    "    reset_num_timesteps = False,\n",
    "    progress_bar = True,\n",
    ")"
   ]
  },
  {
   "cell_type": "code",
   "execution_count": null,
   "metadata": {},
   "outputs": [],
   "source": [
    "retrained_mode = agent.train_model(\n",
    "    model = selected_model,\n",
    "    total_timesteps = 5_000_000,\n",
    "    checkpoint = True,\n",
    "    catalog_name = catalog_name,\n",
    "    save_frequency = 20_000,\n",
    "    progress_bar = True\n",
    ")"
   ]
  },
  {
   "cell_type": "code",
   "execution_count": null,
   "metadata": {},
   "outputs": [],
   "source": [
    "agent.predict(\n",
    "    model=selected_model,\n",
    "    environment=full_env,\n",
    "    render=False\n",
    ")"
   ]
  },
  {
   "cell_type": "code",
   "execution_count": null,
   "metadata": {},
   "outputs": [],
   "source": [
    "agent.describe_trades()"
   ]
  },
  {
   "cell_type": "code",
   "execution_count": null,
   "metadata": {},
   "outputs": [],
   "source": [
    "agent.plot_results()"
   ]
  },
  {
   "cell_type": "code",
   "execution_count": null,
   "metadata": {},
   "outputs": [],
   "source": [
    "agent.latest_model"
   ]
  },
  {
   "cell_type": "code",
   "execution_count": null,
   "metadata": {},
   "outputs": [],
   "source": []
  }
 ],
 "metadata": {
  "kernelspec": {
   "display_name": "tensor",
   "language": "python",
   "name": "python3"
  },
  "language_info": {
   "codemirror_mode": {
    "name": "ipython",
    "version": 3
   },
   "file_extension": ".py",
   "mimetype": "text/x-python",
   "name": "python",
   "nbconvert_exporter": "python",
   "pygments_lexer": "ipython3",
   "version": "3.10.8"
  },
  "orig_nbformat": 4,
  "vscode": {
   "interpreter": {
    "hash": "8b58b1819899e409cec63cea36e334f732dfc50db3a5ecdff48b63b0a8eb4970"
   }
  }
 },
 "nbformat": 4,
 "nbformat_minor": 2
}
