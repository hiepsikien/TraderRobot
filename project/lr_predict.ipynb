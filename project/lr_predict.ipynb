{
 "cells": [
  {
   "cell_type": "code",
   "execution_count": 1,
   "metadata": {},
   "outputs": [],
   "source": [
    "import warnings\n",
    "warnings.simplefilter(action='ignore', category=FutureWarning)\n",
    "import pandas as pd\n",
    "warnings.simplefilter(action='ignore', category=pd.errors.PerformanceWarning)\n",
    "import feature_manager as fma\n",
    "import rl.env_simple_crypto_trade as env\n",
    "import importlib\n",
    "import rl.models as rla\n",
    "import config as cf\n",
    "import numpy as np\n",
    "from torch.nn import Tanh\n",
    "import tr_utils"
   ]
  },
  {
   "cell_type": "code",
   "execution_count": null,
   "metadata": {},
   "outputs": [],
   "source": [
    "importlib.reload(fma)\n",
    "\n",
    "fm = fma.FeatureManager()\n",
    "fm.import_data(symbol=\"BTCUSDT\",timeframes=[\"1d\",\"1w\",\"1mo\"])\n",
    "\n",
    "fm.build_features(\n",
    "    lags = [1,1,1],\n",
    "    features=cf.FOR_1D_INDICATORS,\n",
    ")"
   ]
  },
  {
   "cell_type": "code",
   "execution_count": 2,
   "metadata": {},
   "outputs": [],
   "source": [
    "%store -r fm"
   ]
  },
  {
   "cell_type": "code",
   "execution_count": 5,
   "metadata": {},
   "outputs": [
    {
     "data": {
      "text/plain": [
       "125"
      ]
     },
     "execution_count": 5,
     "metadata": {},
     "output_type": "execute_result"
    }
   ],
   "source": [
    "len(fm.cols)"
   ]
  },
  {
   "cell_type": "code",
   "execution_count": 6,
   "metadata": {},
   "outputs": [],
   "source": [
    "importlib.reload(env)\n",
    "importlib.reload(cf)\n",
    "\n",
    "env_kwargs = cf.TRADE_ENV_PARAMETER\n",
    "state_space = 10 + len(fm.cols)\n",
    "\n",
    "full_env = env.CryptoTradingEnv(\n",
    "    trade_timeframe=\"1d\",\n",
    "    df = fm.df, \n",
    "    state_space=state_space,\n",
    "    indicators=fm.cols,\n",
    "    **env_kwargs)\n"
   ]
  },
  {
   "cell_type": "code",
   "execution_count": 10,
   "metadata": {},
   "outputs": [
    {
     "name": "stdout",
     "output_type": "stream",
     "text": [
      "Wrapping the env with a `Monitor` wrapper\n",
      "Wrapping the env in a DummyVecEnv.\n",
      "Successfully load model from ../saved_models/checkpoint/no_stop_loss_more_lags_4layers_1d_custom_ppo_gamma_0.9995_gae_lambda_0.95_n_steps_1536_ent_coef_0.001_learning_rate_0.00015_batch_size_64/rl_model_420000_steps\n"
     ]
    }
   ],
   "source": [
    "importlib.reload(rla)\n",
    "agent = rla.DRLTradeAgent(env=full_env)\n",
    "\n",
    "catalog_name = \"no_stop_loss_more_lags_4layers_1d_custom_ppo_gamma_0.9995_gae_lambda_0.95_n_steps_1536_ent_coef_0.001_learning_rate_0.00015_batch_size_64\"\n",
    "\n",
    "timestep = 420_000\n",
    "\n",
    "selected_model = agent.load_model_from_checkpoint(\n",
    "    \"c_ppo\",f\"{catalog_name}/rl_model_{timestep}_steps\")"
   ]
  },
  {
   "cell_type": "code",
   "execution_count": 12,
   "metadata": {},
   "outputs": [
    {
     "data": {
      "text/plain": [
       "<rl.models.DRLTradeAgent at 0x7f5b33f760b0>"
      ]
     },
     "execution_count": 12,
     "metadata": {},
     "output_type": "execute_result"
    }
   ],
   "source": [
    "agent"
   ]
  },
  {
   "cell_type": "code",
   "execution_count": 13,
   "metadata": {},
   "outputs": [],
   "source": [
    "import wandb"
   ]
  },
  {
   "cell_type": "code",
   "execution_count": 14,
   "metadata": {},
   "outputs": [
    {
     "name": "stderr",
     "output_type": "stream",
     "text": [
      "Failed to detect the name of this notebook, you can set it manually with the WANDB_NOTEBOOK_NAME environment variable to enable code saving.\n",
      "\u001b[34m\u001b[1mwandb\u001b[0m: Currently logged in as: \u001b[33manh-nguyendinh-cs\u001b[0m. Use \u001b[1m`wandb login --relogin`\u001b[0m to force relogin\n"
     ]
    },
    {
     "data": {
      "application/vnd.jupyter.widget-view+json": {
       "model_id": "83fc079570744261a678cd305801a3c1",
       "version_major": 2,
       "version_minor": 0
      },
      "text/plain": [
       "VBox(children=(Label(value='Waiting for wandb.init()...\\r'), FloatProgress(value=0.016668757399990377, max=1.0…"
      ]
     },
     "metadata": {},
     "output_type": "display_data"
    },
    {
     "data": {
      "text/html": [
       "Tracking run with wandb version 0.13.10"
      ],
      "text/plain": [
       "<IPython.core.display.HTML object>"
      ]
     },
     "metadata": {},
     "output_type": "display_data"
    },
    {
     "data": {
      "text/html": [
       "Run data is saved locally in <code>/home/andy/CryptoTradingPlatform/TraderRobot/project/wandb/run-20230222_221518-cu0yiv1i</code>"
      ],
      "text/plain": [
       "<IPython.core.display.HTML object>"
      ]
     },
     "metadata": {},
     "output_type": "display_data"
    },
    {
     "data": {
      "text/html": [
       "Syncing run <strong><a href='https://wandb.ai/anh-nguyendinh-cs/TraderRobot-project/runs/cu0yiv1i' target=\"_blank\">frosty-dragon-80</a></strong> to <a href='https://wandb.ai/anh-nguyendinh-cs/TraderRobot-project' target=\"_blank\">Weights & Biases</a> (<a href='https://wandb.me/run' target=\"_blank\">docs</a>)<br/>"
      ],
      "text/plain": [
       "<IPython.core.display.HTML object>"
      ]
     },
     "metadata": {},
     "output_type": "display_data"
    },
    {
     "data": {
      "text/html": [
       " View project at <a href='https://wandb.ai/anh-nguyendinh-cs/TraderRobot-project' target=\"_blank\">https://wandb.ai/anh-nguyendinh-cs/TraderRobot-project</a>"
      ],
      "text/plain": [
       "<IPython.core.display.HTML object>"
      ]
     },
     "metadata": {},
     "output_type": "display_data"
    },
    {
     "data": {
      "text/html": [
       " View run at <a href='https://wandb.ai/anh-nguyendinh-cs/TraderRobot-project/runs/cu0yiv1i' target=\"_blank\">https://wandb.ai/anh-nguyendinh-cs/TraderRobot-project/runs/cu0yiv1i</a>"
      ],
      "text/plain": [
       "<IPython.core.display.HTML object>"
      ]
     },
     "metadata": {},
     "output_type": "display_data"
    }
   ],
   "source": [
    "wandb.init()\n",
    "agent.predict(\n",
    "    model=selected_model,\n",
    "    environment=full_env,\n",
    "    render=False\n",
    ")"
   ]
  },
  {
   "cell_type": "code",
   "execution_count": 17,
   "metadata": {},
   "outputs": [],
   "source": [
    "df = pd.DataFrame({\"action\":full_env.action_memory,\"profit\":full_env.trade_profit_memory})"
   ]
  },
  {
   "cell_type": "code",
   "execution_count": 21,
   "metadata": {},
   "outputs": [
    {
     "data": {
      "text/html": [
       "<div>\n",
       "<style scoped>\n",
       "    .dataframe tbody tr th:only-of-type {\n",
       "        vertical-align: middle;\n",
       "    }\n",
       "\n",
       "    .dataframe tbody tr th {\n",
       "        vertical-align: top;\n",
       "    }\n",
       "\n",
       "    .dataframe thead th {\n",
       "        text-align: right;\n",
       "    }\n",
       "</style>\n",
       "<table border=\"1\" class=\"dataframe\">\n",
       "  <thead>\n",
       "    <tr style=\"text-align: right;\">\n",
       "      <th></th>\n",
       "      <th>action</th>\n",
       "      <th>profit</th>\n",
       "      <th>position</th>\n",
       "    </tr>\n",
       "  </thead>\n",
       "  <tbody>\n",
       "    <tr>\n",
       "      <th>0</th>\n",
       "      <td>1</td>\n",
       "      <td>-0.000200</td>\n",
       "      <td>1.0</td>\n",
       "    </tr>\n",
       "    <tr>\n",
       "      <th>26</th>\n",
       "      <td>1</td>\n",
       "      <td>0.000000</td>\n",
       "      <td>2.0</td>\n",
       "    </tr>\n",
       "    <tr>\n",
       "      <th>27</th>\n",
       "      <td>2</td>\n",
       "      <td>-0.332618</td>\n",
       "      <td>1.0</td>\n",
       "    </tr>\n",
       "    <tr>\n",
       "      <th>53</th>\n",
       "      <td>1</td>\n",
       "      <td>0.000000</td>\n",
       "      <td>2.0</td>\n",
       "    </tr>\n",
       "    <tr>\n",
       "      <th>54</th>\n",
       "      <td>2</td>\n",
       "      <td>-0.065547</td>\n",
       "      <td>1.0</td>\n",
       "    </tr>\n",
       "  </tbody>\n",
       "</table>\n",
       "</div>"
      ],
      "text/plain": [
       "    action    profit  position\n",
       "0        1 -0.000200       1.0\n",
       "26       1  0.000000       2.0\n",
       "27       2 -0.332618       1.0\n",
       "53       1  0.000000       2.0\n",
       "54       2 -0.065547       1.0"
      ]
     },
     "execution_count": 21,
     "metadata": {},
     "output_type": "execute_result"
    }
   ],
   "source": [
    "df[\"position\"] = df[\"action\"].shift(-1)\n",
    "open_position_df = df.loc[(df[\"position\"]!=df[\"position\"].shift()) & (df[\"position\"]!=0)]\n",
    "open_position_df.head()"
   ]
  },
  {
   "cell_type": "code",
   "execution_count": 26,
   "metadata": {},
   "outputs": [
    {
     "name": "stderr",
     "output_type": "stream",
     "text": [
      "/tmp/ipykernel_1477700/4066109277.py:6: UserWarning: Boolean Series key will be reindexed to match DataFrame index.\n",
      "  n_win_long = len(long_df[df[\"profit\"]>0])\n",
      "/tmp/ipykernel_1477700/4066109277.py:7: UserWarning: Boolean Series key will be reindexed to match DataFrame index.\n",
      "  n_win_short  = len(short_df[df[\"profit\"]>0])\n"
     ]
    }
   ],
   "source": [
    "df = pd.DataFrame({\"action\":full_env.action_memory,\"profit\":full_env.trade_profit_memory})\n",
    "df[\"position\"] = df[\"action\"].shift(-1)\n",
    "open_position_df = df.loc[(df[\"position\"]!=df[\"position\"].shift()) & (df[\"position\"]!=0) ]\n",
    "long_df = open_position_df.loc[df[\"position\"]==1]\n",
    "short_df = open_position_df.loc[df[\"position\"]==2]\n",
    "n_win_long = len(long_df[df[\"profit\"]>0])\n",
    "n_win_short  = len(short_df[df[\"profit\"]>0])\n",
    "long_win_rate = n_win_long/len(long_df) if n_win_long > 0  else 0\n",
    "short_win_rate = n_win_short/len(short_df) if n_win_short > 0  else 0            \n",
    "win_rate = (n_win_long+n_win_short)/(len(long_df)+len(short_df))"
   ]
  },
  {
   "cell_type": "code",
   "execution_count": null,
   "metadata": {},
   "outputs": [],
   "source": [
    "def func(x):\n",
    "    return 1e-9\n",
    "selected_model.set_env(full_env)\n",
    "selected_model.lr_schedule = func\n",
    "selected_model.learning_rate = 1e-9\n",
    "selected_model.exploration_fraction= 0\n",
    "selected_model.learning_starts=0\n",
    "catalog_name = \"dqn_4layers_relu_continue\""
   ]
  },
  {
   "cell_type": "code",
   "execution_count": null,
   "metadata": {},
   "outputs": [],
   "source": [
    "selected_model.learn(\n",
    "    total_timesteps = 5_000_000,\n",
    "    tb_log_name = catalog_name,\n",
    "    reset_num_timesteps = False,\n",
    "    progress_bar = True,\n",
    ")"
   ]
  },
  {
   "cell_type": "code",
   "execution_count": null,
   "metadata": {},
   "outputs": [],
   "source": [
    "retrained_mode = agent.train_model(\n",
    "    model = selected_model,\n",
    "    total_timesteps = 5_000_000,\n",
    "    checkpoint = True,\n",
    "    catalog_name = catalog_name,\n",
    "    save_frequency = 20_000,\n",
    "    progress_bar = True\n",
    ")"
   ]
  },
  {
   "cell_type": "code",
   "execution_count": null,
   "metadata": {},
   "outputs": [],
   "source": [
    "agent.predict(\n",
    "    model=selected_model,\n",
    "    environment=full_env,\n",
    "    render=False\n",
    ")"
   ]
  },
  {
   "cell_type": "code",
   "execution_count": null,
   "metadata": {},
   "outputs": [],
   "source": [
    "agent.describe_trades()"
   ]
  },
  {
   "cell_type": "code",
   "execution_count": null,
   "metadata": {},
   "outputs": [],
   "source": [
    "agent.plot_results()"
   ]
  },
  {
   "cell_type": "code",
   "execution_count": null,
   "metadata": {},
   "outputs": [],
   "source": [
    "agent.latest_model"
   ]
  },
  {
   "cell_type": "code",
   "execution_count": null,
   "metadata": {},
   "outputs": [],
   "source": []
  }
 ],
 "metadata": {
  "kernelspec": {
   "display_name": "tensor",
   "language": "python",
   "name": "python3"
  },
  "language_info": {
   "codemirror_mode": {
    "name": "ipython",
    "version": 3
   },
   "file_extension": ".py",
   "mimetype": "text/x-python",
   "name": "python",
   "nbconvert_exporter": "python",
   "pygments_lexer": "ipython3",
   "version": "3.10.8"
  },
  "orig_nbformat": 4,
  "vscode": {
   "interpreter": {
    "hash": "8b58b1819899e409cec63cea36e334f732dfc50db3a5ecdff48b63b0a8eb4970"
   }
  }
 },
 "nbformat": 4,
 "nbformat_minor": 2
}
