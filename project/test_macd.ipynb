{
 "cells": [
  {
   "cell_type": "code",
   "execution_count": 1,
   "metadata": {},
   "outputs": [],
   "source": [
    "import talib as ta\n",
    "import pandas as pd\n",
    "from my_logging import logger\n",
    "from macd_backtester import MACDBacktester"
   ]
  },
  {
   "cell_type": "code",
   "execution_count": 2,
   "metadata": {},
   "outputs": [],
   "source": [
    "filepath = \"bitcoin.csv\"\n",
    "symbol = \"BTCUSDT\"\n",
    "start = \"2017-08-17\"\n",
    "mid1 = \"2019-09-01\"\n",
    "end = \"2021-10-07\"\n",
    "tc = -0.0006"
   ]
  },
  {
   "cell_type": "code",
   "execution_count": 3,
   "metadata": {},
   "outputs": [],
   "source": [
    "backtester = MACDBacktester(filepath=filepath, symbol=symbol,start=start,end=end,tc=tc)"
   ]
  },
  {
   "cell_type": "code",
   "execution_count": 4,
   "metadata": {},
   "outputs": [],
   "source": [
    "macd = (12,26,9)\n"
   ]
  },
  {
   "cell_type": "code",
   "execution_count": 5,
   "metadata": {},
   "outputs": [
    {
     "name": "stdout",
     "output_type": "stream",
     "text": [
      "MACD STRATEGY | INSTRUMENT = BTCUSDT | MAs = [12, 26, 9]\n",
      "====================================================================================================\n",
      "PERFORMANCE MEASURES:\n",
      "\n",
      "\n",
      "Multiple (Strategy w/o trading fee 3.552807\n",
      "Multiple (Strategy):               0.225207\n",
      "Multiple (Buy-and-Hold):           12.46517\n",
      "--------------------------------------\n",
      "Out-/Underperformance:             -12.239963\n",
      "\n",
      "\n",
      "Number of Trades:                  5546.0\n",
      "Trading-fee Percentage:            93.66%\n",
      "\n",
      "\n",
      "CAGR:                              -0.302735\n",
      "Annualized Mean:                   -0.360451\n",
      "Annualized Std:                    0.911037\n",
      "Sharpe Ratio:                      -0.332297\n",
      "====================================================================================================\n"
     ]
    }
   ],
   "source": [
    "backtester.test_strategy(macd=macd)"
   ]
  },
  {
   "cell_type": "code",
   "execution_count": 7,
   "metadata": {},
   "outputs": [
    {
     "data": {
      "text/html": [
       "<div>\n",
       "<style scoped>\n",
       "    .dataframe tbody tr th:only-of-type {\n",
       "        vertical-align: middle;\n",
       "    }\n",
       "\n",
       "    .dataframe tbody tr th {\n",
       "        vertical-align: top;\n",
       "    }\n",
       "\n",
       "    .dataframe thead th {\n",
       "        text-align: right;\n",
       "    }\n",
       "</style>\n",
       "<table border=\"1\" class=\"dataframe\">\n",
       "  <thead>\n",
       "    <tr style=\"text-align: right;\">\n",
       "      <th></th>\n",
       "      <th>Open</th>\n",
       "      <th>High</th>\n",
       "      <th>Low</th>\n",
       "      <th>Close</th>\n",
       "      <th>Volume</th>\n",
       "      <th>returns</th>\n",
       "      <th>MACD</th>\n",
       "      <th>MACD_SIGNAL</th>\n",
       "      <th>MACD_HIST</th>\n",
       "      <th>position</th>\n",
       "      <th>strategy</th>\n",
       "      <th>trades</th>\n",
       "      <th>creturns</th>\n",
       "      <th>cstrategy</th>\n",
       "    </tr>\n",
       "    <tr>\n",
       "      <th>Date</th>\n",
       "      <th></th>\n",
       "      <th></th>\n",
       "      <th></th>\n",
       "      <th></th>\n",
       "      <th></th>\n",
       "      <th></th>\n",
       "      <th></th>\n",
       "      <th></th>\n",
       "      <th></th>\n",
       "      <th></th>\n",
       "      <th></th>\n",
       "      <th></th>\n",
       "      <th></th>\n",
       "      <th></th>\n",
       "    </tr>\n",
       "  </thead>\n",
       "  <tbody>\n",
       "    <tr>\n",
       "      <th>2017-08-18 17:00:00</th>\n",
       "      <td>4250.34</td>\n",
       "      <td>4250.34</td>\n",
       "      <td>4066.53</td>\n",
       "      <td>4193.35</td>\n",
       "      <td>62.691466</td>\n",
       "      <td>-0.013499</td>\n",
       "      <td>-34.593453</td>\n",
       "      <td>-29.471594</td>\n",
       "      <td>-5.121859</td>\n",
       "      <td>-1</td>\n",
       "      <td>NaN</td>\n",
       "      <td>0.0</td>\n",
       "      <td>0.986592</td>\n",
       "      <td>NaN</td>\n",
       "    </tr>\n",
       "    <tr>\n",
       "      <th>2017-08-18 18:00:00</th>\n",
       "      <td>4171.17</td>\n",
       "      <td>4297.75</td>\n",
       "      <td>4117.41</td>\n",
       "      <td>4117.41</td>\n",
       "      <td>25.318654</td>\n",
       "      <td>-0.018276</td>\n",
       "      <td>-43.266939</td>\n",
       "      <td>-32.230663</td>\n",
       "      <td>-11.036276</td>\n",
       "      <td>-1</td>\n",
       "      <td>0.018276</td>\n",
       "      <td>0.0</td>\n",
       "      <td>0.968725</td>\n",
       "      <td>1.018444</td>\n",
       "    </tr>\n",
       "    <tr>\n",
       "      <th>2017-08-18 19:00:00</th>\n",
       "      <td>4086.28</td>\n",
       "      <td>4136.48</td>\n",
       "      <td>4015.70</td>\n",
       "      <td>4136.28</td>\n",
       "      <td>60.598026</td>\n",
       "      <td>0.004573</td>\n",
       "      <td>-48.628222</td>\n",
       "      <td>-35.510175</td>\n",
       "      <td>-13.118048</td>\n",
       "      <td>-1</td>\n",
       "      <td>-0.004573</td>\n",
       "      <td>0.0</td>\n",
       "      <td>0.973164</td>\n",
       "      <td>1.013797</td>\n",
       "    </tr>\n",
       "    <tr>\n",
       "      <th>2017-08-18 20:00:00</th>\n",
       "      <td>4135.00</td>\n",
       "      <td>4135.00</td>\n",
       "      <td>3981.13</td>\n",
       "      <td>4021.11</td>\n",
       "      <td>19.968037</td>\n",
       "      <td>-0.028239</td>\n",
       "      <td>-60.482267</td>\n",
       "      <td>-40.504593</td>\n",
       "      <td>-19.977674</td>\n",
       "      <td>-1</td>\n",
       "      <td>0.028239</td>\n",
       "      <td>0.0</td>\n",
       "      <td>0.946068</td>\n",
       "      <td>1.042834</td>\n",
       "    </tr>\n",
       "    <tr>\n",
       "      <th>2017-08-18 21:00:00</th>\n",
       "      <td>4015.40</td>\n",
       "      <td>4015.40</td>\n",
       "      <td>3938.77</td>\n",
       "      <td>3975.69</td>\n",
       "      <td>14.738631</td>\n",
       "      <td>-0.011360</td>\n",
       "      <td>-72.698365</td>\n",
       "      <td>-46.943348</td>\n",
       "      <td>-25.755018</td>\n",
       "      <td>-1</td>\n",
       "      <td>0.011360</td>\n",
       "      <td>0.0</td>\n",
       "      <td>0.935382</td>\n",
       "      <td>1.054748</td>\n",
       "    </tr>\n",
       "    <tr>\n",
       "      <th>...</th>\n",
       "      <td>...</td>\n",
       "      <td>...</td>\n",
       "      <td>...</td>\n",
       "      <td>...</td>\n",
       "      <td>...</td>\n",
       "      <td>...</td>\n",
       "      <td>...</td>\n",
       "      <td>...</td>\n",
       "      <td>...</td>\n",
       "      <td>...</td>\n",
       "      <td>...</td>\n",
       "      <td>...</td>\n",
       "      <td>...</td>\n",
       "      <td>...</td>\n",
       "    </tr>\n",
       "    <tr>\n",
       "      <th>2021-10-07 05:00:00</th>\n",
       "      <td>55073.20</td>\n",
       "      <td>55073.21</td>\n",
       "      <td>54545.07</td>\n",
       "      <td>54735.76</td>\n",
       "      <td>2251.122020</td>\n",
       "      <td>-0.006146</td>\n",
       "      <td>1015.796358</td>\n",
       "      <td>1107.166118</td>\n",
       "      <td>-91.369760</td>\n",
       "      <td>-1</td>\n",
       "      <td>0.006146</td>\n",
       "      <td>0.0</td>\n",
       "      <td>12.877972</td>\n",
       "      <td>0.799750</td>\n",
       "    </tr>\n",
       "    <tr>\n",
       "      <th>2021-10-07 06:00:00</th>\n",
       "      <td>54735.77</td>\n",
       "      <td>54968.06</td>\n",
       "      <td>54375.83</td>\n",
       "      <td>54534.16</td>\n",
       "      <td>1783.004260</td>\n",
       "      <td>-0.003690</td>\n",
       "      <td>946.449925</td>\n",
       "      <td>1075.022879</td>\n",
       "      <td>-128.572954</td>\n",
       "      <td>-1</td>\n",
       "      <td>0.003690</td>\n",
       "      <td>0.0</td>\n",
       "      <td>12.830541</td>\n",
       "      <td>0.802707</td>\n",
       "    </tr>\n",
       "    <tr>\n",
       "      <th>2021-10-07 07:00:00</th>\n",
       "      <td>54534.16</td>\n",
       "      <td>54793.26</td>\n",
       "      <td>54235.33</td>\n",
       "      <td>54755.92</td>\n",
       "      <td>4163.431360</td>\n",
       "      <td>0.004058</td>\n",
       "      <td>897.346517</td>\n",
       "      <td>1039.487607</td>\n",
       "      <td>-142.141090</td>\n",
       "      <td>-1</td>\n",
       "      <td>-0.004058</td>\n",
       "      <td>0.0</td>\n",
       "      <td>12.882715</td>\n",
       "      <td>0.799456</td>\n",
       "    </tr>\n",
       "    <tr>\n",
       "      <th>2021-10-07 08:00:00</th>\n",
       "      <td>54755.91</td>\n",
       "      <td>54778.91</td>\n",
       "      <td>54400.00</td>\n",
       "      <td>54538.30</td>\n",
       "      <td>2049.382180</td>\n",
       "      <td>-0.003982</td>\n",
       "      <td>834.840687</td>\n",
       "      <td>998.558223</td>\n",
       "      <td>-163.717536</td>\n",
       "      <td>-1</td>\n",
       "      <td>0.003982</td>\n",
       "      <td>0.0</td>\n",
       "      <td>12.831515</td>\n",
       "      <td>0.802646</td>\n",
       "    </tr>\n",
       "    <tr>\n",
       "      <th>2021-10-07 09:00:00</th>\n",
       "      <td>54538.31</td>\n",
       "      <td>54547.30</td>\n",
       "      <td>53786.13</td>\n",
       "      <td>53995.50</td>\n",
       "      <td>2739.153610</td>\n",
       "      <td>-0.010002</td>\n",
       "      <td>739.628514</td>\n",
       "      <td>946.772281</td>\n",
       "      <td>-207.143767</td>\n",
       "      <td>-1</td>\n",
       "      <td>0.010002</td>\n",
       "      <td>0.0</td>\n",
       "      <td>12.703807</td>\n",
       "      <td>0.810714</td>\n",
       "    </tr>\n",
       "  </tbody>\n",
       "</table>\n",
       "<p>36131 rows × 14 columns</p>\n",
       "</div>"
      ],
      "text/plain": [
       "                         Open      High       Low     Close       Volume  \\\n",
       "Date                                                                       \n",
       "2017-08-18 17:00:00   4250.34   4250.34   4066.53   4193.35    62.691466   \n",
       "2017-08-18 18:00:00   4171.17   4297.75   4117.41   4117.41    25.318654   \n",
       "2017-08-18 19:00:00   4086.28   4136.48   4015.70   4136.28    60.598026   \n",
       "2017-08-18 20:00:00   4135.00   4135.00   3981.13   4021.11    19.968037   \n",
       "2017-08-18 21:00:00   4015.40   4015.40   3938.77   3975.69    14.738631   \n",
       "...                       ...       ...       ...       ...          ...   \n",
       "2021-10-07 05:00:00  55073.20  55073.21  54545.07  54735.76  2251.122020   \n",
       "2021-10-07 06:00:00  54735.77  54968.06  54375.83  54534.16  1783.004260   \n",
       "2021-10-07 07:00:00  54534.16  54793.26  54235.33  54755.92  4163.431360   \n",
       "2021-10-07 08:00:00  54755.91  54778.91  54400.00  54538.30  2049.382180   \n",
       "2021-10-07 09:00:00  54538.31  54547.30  53786.13  53995.50  2739.153610   \n",
       "\n",
       "                      returns         MACD  MACD_SIGNAL   MACD_HIST  position  \\\n",
       "Date                                                                            \n",
       "2017-08-18 17:00:00 -0.013499   -34.593453   -29.471594   -5.121859        -1   \n",
       "2017-08-18 18:00:00 -0.018276   -43.266939   -32.230663  -11.036276        -1   \n",
       "2017-08-18 19:00:00  0.004573   -48.628222   -35.510175  -13.118048        -1   \n",
       "2017-08-18 20:00:00 -0.028239   -60.482267   -40.504593  -19.977674        -1   \n",
       "2017-08-18 21:00:00 -0.011360   -72.698365   -46.943348  -25.755018        -1   \n",
       "...                       ...          ...          ...         ...       ...   \n",
       "2021-10-07 05:00:00 -0.006146  1015.796358  1107.166118  -91.369760        -1   \n",
       "2021-10-07 06:00:00 -0.003690   946.449925  1075.022879 -128.572954        -1   \n",
       "2021-10-07 07:00:00  0.004058   897.346517  1039.487607 -142.141090        -1   \n",
       "2021-10-07 08:00:00 -0.003982   834.840687   998.558223 -163.717536        -1   \n",
       "2021-10-07 09:00:00 -0.010002   739.628514   946.772281 -207.143767        -1   \n",
       "\n",
       "                     strategy  trades   creturns  cstrategy  \n",
       "Date                                                         \n",
       "2017-08-18 17:00:00       NaN     0.0   0.986592        NaN  \n",
       "2017-08-18 18:00:00  0.018276     0.0   0.968725   1.018444  \n",
       "2017-08-18 19:00:00 -0.004573     0.0   0.973164   1.013797  \n",
       "2017-08-18 20:00:00  0.028239     0.0   0.946068   1.042834  \n",
       "2017-08-18 21:00:00  0.011360     0.0   0.935382   1.054748  \n",
       "...                       ...     ...        ...        ...  \n",
       "2021-10-07 05:00:00  0.006146     0.0  12.877972   0.799750  \n",
       "2021-10-07 06:00:00  0.003690     0.0  12.830541   0.802707  \n",
       "2021-10-07 07:00:00 -0.004058     0.0  12.882715   0.799456  \n",
       "2021-10-07 08:00:00  0.003982     0.0  12.831515   0.802646  \n",
       "2021-10-07 09:00:00  0.010002     0.0  12.703807   0.810714  \n",
       "\n",
       "[36131 rows x 14 columns]"
      ]
     },
     "execution_count": 7,
     "metadata": {},
     "output_type": "execute_result"
    }
   ],
   "source": [
    "backtester.results"
   ]
  },
  {
   "cell_type": "code",
   "execution_count": 6,
   "metadata": {},
   "outputs": [
    {
     "name": "stdout",
     "output_type": "stream",
     "text": [
      "MA_SLOW: 14 | SMA_FAST: 30 | SMA_SIGNAL: 9 | Multiple: 0.81071 | Sharpe: -0.05437\n",
      "MACD STRATEGY | INSTRUMENT = BTCUSDT | MAs = [14, 30, 9]\n",
      "====================================================================================================\n",
      "PERFORMANCE MEASURES:\n",
      "\n",
      "\n",
      "Multiple (Strategy w/o trading fee 3.8419139999999996\n",
      "Multiple (Strategy):               0.810714\n",
      "Multiple (Buy-and-Hold):           12.703807\n",
      "--------------------------------------\n",
      "Out-/Underperformance:             -11.893093\n",
      "\n",
      "\n",
      "Number of Trades:                  5052.0\n",
      "Trading-fee Percentage:            78.9%\n",
      "\n",
      "\n",
      "CAGR:                              -0.049491\n",
      "Annualized Mean:                   -0.050744\n",
      "Annualized Std:                    0.910257\n",
      "Sharpe Ratio:                      -0.05437\n",
      "====================================================================================================\n"
     ]
    }
   ],
   "source": [
    "backtester.optimize_strategy(15,31,10,\"Multiple\")"
   ]
  },
  {
   "cell_type": "code",
   "execution_count": null,
   "metadata": {},
   "outputs": [],
   "source": [
    "backtester.results_overview"
   ]
  },
  {
   "cell_type": "code",
   "execution_count": null,
   "metadata": {},
   "outputs": [],
   "source": [
    "result_pd = backtester.results_overview.copy()"
   ]
  },
  {
   "cell_type": "code",
   "execution_count": null,
   "metadata": {},
   "outputs": [],
   "source": [
    "result_pd"
   ]
  },
  {
   "cell_type": "code",
   "execution_count": null,
   "metadata": {},
   "outputs": [],
   "source": [
    "result = result_pd.loc[result_pd[\"Multiple\"]>0]"
   ]
  },
  {
   "cell_type": "code",
   "execution_count": null,
   "metadata": {},
   "outputs": [],
   "source": [
    "result"
   ]
  },
  {
   "cell_type": "code",
   "execution_count": null,
   "metadata": {},
   "outputs": [],
   "source": [
    "sort = result.sort_values(by=[\"Multiple\"],ascending=False)"
   ]
  },
  {
   "cell_type": "code",
   "execution_count": null,
   "metadata": {},
   "outputs": [],
   "source": [
    "sort"
   ]
  },
  {
   "cell_type": "code",
   "execution_count": null,
   "metadata": {},
   "outputs": [],
   "source": [
    "sort[\"Multiple\"] = round(sort[\"Multiple\"],5)"
   ]
  },
  {
   "cell_type": "code",
   "execution_count": null,
   "metadata": {},
   "outputs": [],
   "source": [
    "result_pd.info"
   ]
  },
  {
   "cell_type": "code",
   "execution_count": null,
   "metadata": {},
   "outputs": [],
   "source": [
    "sort"
   ]
  },
  {
   "cell_type": "code",
   "execution_count": null,
   "metadata": {},
   "outputs": [],
   "source": [
    "backtester.plot_results()"
   ]
  },
  {
   "cell_type": "code",
   "execution_count": null,
   "metadata": {},
   "outputs": [],
   "source": [
    "trade_number = result_pd.shape[0]"
   ]
  },
  {
   "cell_type": "code",
   "execution_count": null,
   "metadata": {},
   "outputs": [],
   "source": [
    "trade_cost = trade_number * backtester.tc"
   ]
  },
  {
   "cell_type": "code",
   "execution_count": null,
   "metadata": {},
   "outputs": [],
   "source": [
    "trade_cost"
   ]
  },
  {
   "cell_type": "code",
   "execution_count": null,
   "metadata": {},
   "outputs": [],
   "source": [
    "a = [0,1,-1,0,1]\n",
    "import pandas as pd\n",
    "d = pd.DataFrame(a)"
   ]
  }
 ],
 "metadata": {
  "kernelspec": {
   "display_name": "base",
   "language": "python",
   "name": "python3"
  },
  "language_info": {
   "codemirror_mode": {
    "name": "ipython",
    "version": 3
   },
   "file_extension": ".py",
   "mimetype": "text/x-python",
   "name": "python",
   "nbconvert_exporter": "python",
   "pygments_lexer": "ipython3",
   "version": "3.9.7 (default, Sep 16 2021, 13:09:58) \n[GCC 7.5.0]"
  },
  "orig_nbformat": 4,
  "vscode": {
   "interpreter": {
    "hash": "068ea7741ce38d3fb9b274d22846bd3d9ade9aa2a6123ac7a263f7ca72b4296b"
   }
  }
 },
 "nbformat": 4,
 "nbformat_minor": 2
}
