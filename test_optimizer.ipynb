{
 "cells": [
  {
   "cell_type": "code",
   "execution_count": null,
   "metadata": {},
   "outputs": [],
   "source": [
    "from my_logging import logger\n",
    "from triple_sma_backtester import TrippleSMABacktester"
   ]
  },
  {
   "cell_type": "code",
   "execution_count": null,
   "metadata": {},
   "outputs": [],
   "source": [
    "filepath = \"bitcoin.csv\"\n",
    "symbol = \"BTCUSDT\"\n",
    "start = \"2017-08-17\"\n",
    "mid1 = \"2019-09-01\"\n",
    "end = \"2021-10-07\"\n",
    "tc = -0.0006\n",
    "sma_s = 15 \n",
    "sma_m = 50 \n",
    "sma_l = 200 \n",
    "\n"
   ]
  },
  {
   "cell_type": "code",
   "execution_count": null,
   "metadata": {},
   "outputs": [],
   "source": [
    "backtester = TrippleSMABacktester(filepath=filepath, symbol=symbol,start=start,end=end,tc=tc)"
   ]
  },
  {
   "cell_type": "code",
   "execution_count": null,
   "metadata": {},
   "outputs": [],
   "source": [
    "backtester1 = TrippleSMABacktester(filepath=filepath,symbol=symbol,start=start,end=mid1,tc=tc)\n",
    "backtester2 = TrippleSMABacktester(filepath=filepath,symbol=symbol,start=mid1,end=end,tc=tc)\n"
   ]
  },
  {
   "cell_type": "code",
   "execution_count": null,
   "metadata": {},
   "outputs": [],
   "source": [
    "backtester1.test_strategy(smas = (sma_s,sma_m,sma_l))\n",
    "backtester2.test_strategy(smas = (sma_s,sma_m,sma_l))"
   ]
  },
  {
   "cell_type": "code",
   "execution_count": null,
   "metadata": {},
   "outputs": [],
   "source": [
    "backtester.optimize_strategy(8,19,24,\"Multiple\")"
   ]
  },
  {
   "cell_type": "code",
   "execution_count": null,
   "metadata": {},
   "outputs": [],
   "source": [
    "backtester.test_strategy(smas=(8,19,24))"
   ]
  },
  {
   "cell_type": "code",
   "execution_count": null,
   "metadata": {},
   "outputs": [],
   "source": [
    "backtester2.test_strategy(smas=(8,19,24))"
   ]
  },
  {
   "cell_type": "code",
   "execution_count": null,
   "metadata": {},
   "outputs": [],
   "source": [
    "backtester1.optimize_strategy(11,21,41,\"Multiple\")"
   ]
  },
  {
   "cell_type": "code",
   "execution_count": null,
   "metadata": {},
   "outputs": [],
   "source": [
    "backtester2.optimize_strategy(11,21,41,\"Multiple\")"
   ]
  },
  {
   "cell_type": "code",
   "execution_count": null,
   "metadata": {},
   "outputs": [],
   "source": []
  }
 ],
 "metadata": {
  "kernelspec": {
   "display_name": "Python 3 (ipykernel)",
   "language": "python",
   "name": "python3"
  },
  "language_info": {
   "codemirror_mode": {
    "name": "ipython",
    "version": 3
   },
   "file_extension": ".py",
   "mimetype": "text/x-python",
   "name": "python",
   "nbconvert_exporter": "python",
   "pygments_lexer": "ipython3",
   "version": "3.9.7"
  },
  "orig_nbformat": 4,
  "vscode": {
   "interpreter": {
    "hash": "068ea7741ce38d3fb9b274d22846bd3d9ade9aa2a6123ac7a263f7ca72b4296b"
   }
  }
 },
 "nbformat": 4,
 "nbformat_minor": 2
}
