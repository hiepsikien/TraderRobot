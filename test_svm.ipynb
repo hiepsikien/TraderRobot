{
 "cells": [
  {
   "cell_type": "code",
   "execution_count": 1,
   "metadata": {},
   "outputs": [],
   "source": [
    "from svm_classifier import SVMClassifier\n",
    "sc = SVMClassifier(scaler=1)"
   ]
  },
  {
   "cell_type": "code",
   "execution_count": 2,
   "metadata": {},
   "outputs": [
    {
     "name": "stdout",
     "output_type": "stream",
     "text": [
      "Symbol=ETHUSDT, Sub_Symbol=BTCUSDT, Interval=1d, Lags=9, Sub_Lags=3, Vol_Lags=3\n",
      "Lap 1: \n",
      "Trained. Testing...\n",
      "Accuracy Score: 0.49146757679180886\n",
      "Lap 2: \n",
      "Trained. Testing...\n",
      "Accuracy Score: 0.5136518771331058\n",
      "Lap 3: \n",
      "Trained. Testing...\n",
      "Accuracy Score: 0.5051194539249146\n",
      "Lap 4: \n",
      "Trained. Testing...\n",
      "Accuracy Score: 0.5\n",
      "Lap 5: \n",
      "Trained. Testing...\n",
      "Accuracy Score: 0.5238907849829352\n",
      "Average: 0.5068259385665529, Std: 0.01116411415276187\n"
     ]
    },
    {
     "data": {
      "text/plain": [
       "(0.5068259385665529, 0.01116411415276187)"
      ]
     },
     "execution_count": 2,
     "metadata": {},
     "output_type": "execute_result"
    }
   ],
   "source": [
    "sc.prepare_and_run(symbol=\"ETHUSDT\",sub_symbol=\"BTCUSDT\",lags = 9, sub_lags=3, vol_lags=3, interval=\"1d\")"
   ]
  },
  {
   "cell_type": "code",
   "execution_count": null,
   "metadata": {},
   "outputs": [],
   "source": []
  },
  {
   "cell_type": "code",
   "execution_count": null,
   "metadata": {},
   "outputs": [],
   "source": []
  }
 ],
 "metadata": {
  "kernelspec": {
   "display_name": "robot",
   "language": "python",
   "name": "python3"
  },
  "language_info": {
   "codemirror_mode": {
    "name": "ipython",
    "version": 3
   },
   "file_extension": ".py",
   "mimetype": "text/x-python",
   "name": "python",
   "nbconvert_exporter": "python",
   "pygments_lexer": "ipython3",
   "version": "3.10.8"
  },
  "orig_nbformat": 4,
  "vscode": {
   "interpreter": {
    "hash": "04e1782aa508eb39a2ccbe7b85a2f87791e1adf5e2d7d6f172889ac686481ed9"
   }
  }
 },
 "nbformat": 4,
 "nbformat_minor": 2
}
