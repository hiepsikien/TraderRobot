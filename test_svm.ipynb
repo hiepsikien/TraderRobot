{
 "cells": [
  {
   "cell_type": "code",
   "execution_count": null,
   "metadata": {},
   "outputs": [],
   "source": [
    "import pandas as pd\n",
    "import numpy as np\n",
    "import matplotlib.pyplot as plt\n",
    "plt.style.use(\"seaborn\")\n",
    "from sklearn.model_selection import train_test_split\n",
    "from sklearn.metrics import accuracy_score\n",
    "from sklearn import svm"
   ]
  },
  {
   "cell_type": "code",
   "execution_count": null,
   "metadata": {},
   "outputs": [],
   "source": [
    "from time import time\n",
    "data = pd.read_csv(\"ETHUSDT-1h.csv\", index_col=\"Open Time\")\n",
    "data = data[[\"Close\"]]\n",
    "data[\"Shift1\"] = data.Close.shift(1)\n",
    "data[\"return\"] = data[\"Close\"]/data[\"Shift1\"]\n",
    "data[\"log_return\"] = np.log(data[\"return\"])\n",
    "data[\"direction\"] = np.sign(data.log_return)"
   ]
  },
  {
   "cell_type": "code",
   "execution_count": null,
   "metadata": {},
   "outputs": [],
   "source": [
    "lags = 9"
   ]
  },
  {
   "cell_type": "code",
   "execution_count": null,
   "metadata": {},
   "outputs": [],
   "source": [
    "cols = []\n",
    "for lag in range(1,lags+1):\n",
    "    col = \"lag{}\".format(lag)\n",
    "    data[col] = data.log_return.shift(lag)\n",
    "    cols.append(col)\n",
    "data.dropna(inplace=True)"
   ]
  },
  {
   "cell_type": "code",
   "execution_count": null,
   "metadata": {},
   "outputs": [],
   "source": [
    "clf = svm.SVC()"
   ]
  },
  {
   "cell_type": "code",
   "execution_count": null,
   "metadata": {},
   "outputs": [],
   "source": [
    "\n",
    "def test_svm(lap_number):\n",
    "    accuracy_scores =[]\n",
    "    for i in range(0,lap_number):\n",
    "        print(\"Lap {}: \".format(i+1))\n",
    "        x_train, x_test, y_train, y_test = train_test_split(data[cols],data.direction,test_size=0.3)\n",
    "        clf.fit(X = x_train, y = y_train)\n",
    "        print(\"Trained. Testing... \\n\")\n",
    "        y_pred = clf.predict(X = x_test)\n",
    "        accuracy = accuracy_score(y_test, y_pred)\n",
    "        accuracy_scores.append(accuracy)\n",
    "        print(\"Accuracy Score: {} \\n\".format(accuracy))\n",
    "    score_array = np.array(accuracy_scores)\n",
    "    print(\"Average: {}, Std: {}\".format(score_array.mean(),score_array.std()))"
   ]
  },
  {
   "cell_type": "code",
   "execution_count": null,
   "metadata": {},
   "outputs": [],
   "source": [
    "test_svm(6)"
   ]
  },
  {
   "cell_type": "code",
   "execution_count": null,
   "metadata": {},
   "outputs": [],
   "source": []
  }
 ],
 "metadata": {
  "kernelspec": {
   "display_name": "base",
   "language": "python",
   "name": "python3"
  },
  "language_info": {
   "codemirror_mode": {
    "name": "ipython",
    "version": 3
   },
   "file_extension": ".py",
   "mimetype": "text/x-python",
   "name": "python",
   "nbconvert_exporter": "python",
   "pygments_lexer": "ipython3",
   "version": "3.9.7 (default, Sep 16 2021, 13:09:58) \n[GCC 7.5.0]"
  },
  "vscode": {
   "interpreter": {
    "hash": "068ea7741ce38d3fb9b274d22846bd3d9ade9aa2a6123ac7a263f7ca72b4296b"
   }
  }
 },
 "nbformat": 4,
 "nbformat_minor": 4
}
