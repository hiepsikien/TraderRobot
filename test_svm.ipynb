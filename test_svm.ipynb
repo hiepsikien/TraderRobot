{
 "cells": [
  {
   "cell_type": "code",
   "execution_count": 1,
   "metadata": {},
   "outputs": [],
   "source": [
    "from svm_classifier import SVMClassifier\n",
    "sc = SVMClassifier(scaler=1)"
   ]
  },
  {
   "cell_type": "code",
   "execution_count": 2,
   "metadata": {},
   "outputs": [
    {
     "name": "stdout",
     "output_type": "stream",
     "text": [
      "Symbol=ETHUSDT, Sub_Symbol=BTCUSDT, Interval=1h, Lags=9, Sub_lags=3, Vol_lags=3\n"
     ]
    },
    {
     "name": "stderr",
     "output_type": "stream",
     "text": [
      "/home/andy/anaconda3new/lib/python3.9/site-packages/pandas/core/arraylike.py:397: RuntimeWarning: divide by zero encountered in log\n",
      "  result = getattr(ufunc, method)(*inputs, **kwargs)\n"
     ]
    },
    {
     "name": "stdout",
     "output_type": "stream",
     "text": [
      "Lap 1: \n",
      "Trained. Testing...\n",
      "Accuracy Score: 0.5407880724174654\n",
      "Lap 2: \n",
      "Trained. Testing...\n",
      "Accuracy Score: 0.5389421370252041\n",
      "Lap 3: \n",
      "Trained. Testing...\n",
      "Accuracy Score: 0.5429889953851615\n",
      "Lap 4: \n",
      "Trained. Testing...\n",
      "Accuracy Score: 0.5360312389066383\n",
      "Lap 5: \n",
      "Trained. Testing...\n",
      "Accuracy Score: 0.5427760028399006\n",
      "Average: 0.5403052893148741, Std: 0.0025948207712891227\n"
     ]
    },
    {
     "data": {
      "text/plain": [
       "(0.5403052893148741, 0.0025948207712891227)"
      ]
     },
     "execution_count": 2,
     "metadata": {},
     "output_type": "execute_result"
    }
   ],
   "source": [
    "sc.prepare_and_run(symbol=\"ETHUSDT\",sub_symbol=\"BTCUSDT\",lags = 9, sub_lags=3, vol_lags=3, interval=\"1h\")"
   ]
  },
  {
   "cell_type": "code",
   "execution_count": null,
   "metadata": {},
   "outputs": [],
   "source": []
  },
  {
   "cell_type": "code",
   "execution_count": null,
   "metadata": {},
   "outputs": [],
   "source": []
  }
 ],
 "metadata": {
  "kernelspec": {
   "display_name": "base",
   "language": "python",
   "name": "python3"
  },
  "language_info": {
   "codemirror_mode": {
    "name": "ipython",
    "version": 3
   },
   "file_extension": ".py",
   "mimetype": "text/x-python",
   "name": "python",
   "nbconvert_exporter": "python",
   "pygments_lexer": "ipython3",
   "version": "3.9.7"
  },
  "orig_nbformat": 4,
  "vscode": {
   "interpreter": {
    "hash": "068ea7741ce38d3fb9b274d22846bd3d9ade9aa2a6123ac7a263f7ca72b4296b"
   }
  }
 },
 "nbformat": 4,
 "nbformat_minor": 2
}
