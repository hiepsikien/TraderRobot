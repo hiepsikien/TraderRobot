{
 "cells": [
  {
   "cell_type": "code",
   "execution_count": 1,
   "metadata": {},
   "outputs": [],
   "source": [
    "from my_logging import logger\n",
    "from back_test import Futures_Backtester"
   ]
  },
  {
   "cell_type": "code",
   "execution_count": 2,
   "metadata": {},
   "outputs": [],
   "source": [
    "filepath = \"bitcoin.csv\"\n",
    "symbol = \"BTCUSDT\"\n",
    "start = \"2017-08-17\"\n",
    "end = \"2021-10-07\"\n",
    "tc = -0.0005\n",
    "sma_s = 15 \n",
    "sma_m = 50 \n",
    "sma_l = 200 \n",
    "\n"
   ]
  },
  {
   "cell_type": "code",
   "execution_count": 3,
   "metadata": {},
   "outputs": [
    {
     "name": "stdout",
     "output_type": "stream",
     "text": [
      "Initialized future back tester\n"
     ]
    }
   ],
   "source": [
    "backtester = Futures_Backtester(filepath=filepath, symbol=symbol,start=start,end=end,tc=tc)"
   ]
  },
  {
   "cell_type": "code",
   "execution_count": null,
   "metadata": {},
   "outputs": [],
   "source": [
    "backtester.test_strategy(smas = (sma_s,sma_m,sma_l))"
   ]
  },
  {
   "cell_type": "code",
   "execution_count": 5,
   "metadata": {},
   "outputs": [
    {
     "ename": "KeyboardInterrupt",
     "evalue": "",
     "output_type": "error",
     "traceback": [
      "\u001b[0;31m---------------------------------------------------------------------------\u001b[0m",
      "\u001b[0;31mKeyboardInterrupt\u001b[0m                         Traceback (most recent call last)",
      "Cell \u001b[0;32mIn[5], line 1\u001b[0m\n\u001b[0;32m----> 1\u001b[0m backtester\u001b[39m.\u001b[39;49moptimize_strategy(\u001b[39m11\u001b[39;49m,\u001b[39m21\u001b[39;49m,\u001b[39m45\u001b[39;49m,\u001b[39m\"\u001b[39;49m\u001b[39mMultiple\u001b[39;49m\u001b[39m\"\u001b[39;49m)\n",
      "File \u001b[0;32m~/CryptoTradingPlatform/TraderRobot/back_test.py:142\u001b[0m, in \u001b[0;36mFutures_Backtester.optimize_strategy\u001b[0;34m(self, SMA_S_range, SMA_M_range, SMA_L_range, metric)\u001b[0m\n\u001b[1;32m    140\u001b[0m sharpe_ratio \u001b[39m=\u001b[39m \u001b[39m9999\u001b[39m\n\u001b[1;32m    141\u001b[0m \u001b[39mif\u001b[39;00m (con1 \u001b[39m&\u001b[39m con2):\n\u001b[0;32m--> 142\u001b[0m     \u001b[39mself\u001b[39;49m\u001b[39m.\u001b[39;49mprepare_data(smas \u001b[39m=\u001b[39;49m comb)\n\u001b[1;32m    143\u001b[0m     \u001b[39mself\u001b[39m\u001b[39m.\u001b[39mrun_backtest()\n\u001b[1;32m    144\u001b[0m     multiple_ratio \u001b[39m=\u001b[39m \u001b[39mself\u001b[39m\u001b[39m.\u001b[39mcalculate_multiple(\u001b[39mself\u001b[39m\u001b[39m.\u001b[39mresults\u001b[39m.\u001b[39mstrategy)\n",
      "File \u001b[0;32m~/CryptoTradingPlatform/TraderRobot/back_test.py:80\u001b[0m, in \u001b[0;36mFutures_Backtester.prepare_data\u001b[0;34m(self, smas)\u001b[0m\n\u001b[1;32m     78\u001b[0m logger\u001b[39m.\u001b[39mdebug(\u001b[39m\"\u001b[39m\u001b[39mIN\u001b[39m\u001b[39m\"\u001b[39m)\n\u001b[1;32m     79\u001b[0m data \u001b[39m=\u001b[39m \u001b[39mself\u001b[39m\u001b[39m.\u001b[39mdata[[\u001b[39m\"\u001b[39m\u001b[39mClose\u001b[39m\u001b[39m\"\u001b[39m, \u001b[39m\"\u001b[39m\u001b[39mreturns\u001b[39m\u001b[39m\"\u001b[39m]]\u001b[39m.\u001b[39mcopy()\n\u001b[0;32m---> 80\u001b[0m data[\u001b[39m\"\u001b[39m\u001b[39mSMA_S\u001b[39m\u001b[39m\"\u001b[39m] \u001b[39m=\u001b[39m data\u001b[39m.\u001b[39;49mClose\u001b[39m.\u001b[39;49mrolling(window \u001b[39m=\u001b[39;49m smas[\u001b[39m0\u001b[39;49m])\u001b[39m.\u001b[39;49mmean()\n\u001b[1;32m     81\u001b[0m data[\u001b[39m\"\u001b[39m\u001b[39mSMA_M\u001b[39m\u001b[39m\"\u001b[39m] \u001b[39m=\u001b[39m data\u001b[39m.\u001b[39mClose\u001b[39m.\u001b[39mrolling(window \u001b[39m=\u001b[39m smas[\u001b[39m1\u001b[39m])\u001b[39m.\u001b[39mmean()\n\u001b[1;32m     82\u001b[0m data[\u001b[39m\"\u001b[39m\u001b[39mSMA_L\u001b[39m\u001b[39m\"\u001b[39m] \u001b[39m=\u001b[39m data\u001b[39m.\u001b[39mClose\u001b[39m.\u001b[39mrolling(window \u001b[39m=\u001b[39m smas[\u001b[39m2\u001b[39m])\u001b[39m.\u001b[39mmean()\n",
      "File \u001b[0;32m~/anaconda3new/lib/python3.9/site-packages/pandas/core/window/rolling.py:2039\u001b[0m, in \u001b[0;36mRolling.mean\u001b[0;34m(self, engine, engine_kwargs, *args, **kwargs)\u001b[0m\n\u001b[1;32m   1993\u001b[0m \u001b[39m@doc\u001b[39m(\n\u001b[1;32m   1994\u001b[0m     template_header,\n\u001b[1;32m   1995\u001b[0m     create_section_header(\u001b[39m\"\u001b[39m\u001b[39mParameters\u001b[39m\u001b[39m\"\u001b[39m),\n\u001b[0;32m   (...)\u001b[0m\n\u001b[1;32m   2036\u001b[0m     \u001b[39m*\u001b[39m\u001b[39m*\u001b[39mkwargs,\n\u001b[1;32m   2037\u001b[0m ):\n\u001b[1;32m   2038\u001b[0m     nv\u001b[39m.\u001b[39mvalidate_rolling_func(\u001b[39m\"\u001b[39m\u001b[39mmean\u001b[39m\u001b[39m\"\u001b[39m, args, kwargs)\n\u001b[0;32m-> 2039\u001b[0m     \u001b[39mreturn\u001b[39;00m \u001b[39msuper\u001b[39;49m()\u001b[39m.\u001b[39;49mmean(\u001b[39m*\u001b[39;49margs, engine\u001b[39m=\u001b[39;49mengine, engine_kwargs\u001b[39m=\u001b[39;49mengine_kwargs, \u001b[39m*\u001b[39;49m\u001b[39m*\u001b[39;49mkwargs)\n",
      "File \u001b[0;32m~/anaconda3new/lib/python3.9/site-packages/pandas/core/window/rolling.py:1450\u001b[0m, in \u001b[0;36mRollingAndExpandingMixin.mean\u001b[0;34m(self, engine, engine_kwargs, *args, **kwargs)\u001b[0m\n\u001b[1;32m   1448\u001b[0m         \u001b[39mreturn\u001b[39;00m \u001b[39mself\u001b[39m\u001b[39m.\u001b[39m_numba_apply(sliding_mean, \u001b[39m\"\u001b[39m\u001b[39mrolling_mean\u001b[39m\u001b[39m\"\u001b[39m, engine_kwargs)\n\u001b[1;32m   1449\u001b[0m window_func \u001b[39m=\u001b[39m window_aggregations\u001b[39m.\u001b[39mroll_mean\n\u001b[0;32m-> 1450\u001b[0m \u001b[39mreturn\u001b[39;00m \u001b[39mself\u001b[39;49m\u001b[39m.\u001b[39;49m_apply(window_func, name\u001b[39m=\u001b[39;49m\u001b[39m\"\u001b[39;49m\u001b[39mmean\u001b[39;49m\u001b[39m\"\u001b[39;49m, \u001b[39m*\u001b[39;49m\u001b[39m*\u001b[39;49mkwargs)\n",
      "File \u001b[0;32m~/anaconda3new/lib/python3.9/site-packages/pandas/core/window/rolling.py:590\u001b[0m, in \u001b[0;36mBaseWindow._apply\u001b[0;34m(self, func, name, numba_cache_key, numba_args, **kwargs)\u001b[0m\n\u001b[1;32m    587\u001b[0m     \u001b[39mreturn\u001b[39;00m result\n\u001b[1;32m    589\u001b[0m \u001b[39mif\u001b[39;00m \u001b[39mself\u001b[39m\u001b[39m.\u001b[39mmethod \u001b[39m==\u001b[39m \u001b[39m\"\u001b[39m\u001b[39msingle\u001b[39m\u001b[39m\"\u001b[39m:\n\u001b[0;32m--> 590\u001b[0m     \u001b[39mreturn\u001b[39;00m \u001b[39mself\u001b[39;49m\u001b[39m.\u001b[39;49m_apply_blockwise(homogeneous_func, name)\n\u001b[1;32m    591\u001b[0m \u001b[39melse\u001b[39;00m:\n\u001b[1;32m    592\u001b[0m     \u001b[39mreturn\u001b[39;00m \u001b[39mself\u001b[39m\u001b[39m.\u001b[39m_apply_tablewise(homogeneous_func, name)\n",
      "File \u001b[0;32m~/anaconda3new/lib/python3.9/site-packages/pandas/core/window/rolling.py:442\u001b[0m, in \u001b[0;36mBaseWindow._apply_blockwise\u001b[0;34m(self, homogeneous_func, name)\u001b[0m\n\u001b[1;32m    437\u001b[0m \u001b[39m\"\"\"\u001b[39;00m\n\u001b[1;32m    438\u001b[0m \u001b[39mApply the given function to the DataFrame broken down into homogeneous\u001b[39;00m\n\u001b[1;32m    439\u001b[0m \u001b[39msub-frames.\u001b[39;00m\n\u001b[1;32m    440\u001b[0m \u001b[39m\"\"\"\u001b[39;00m\n\u001b[1;32m    441\u001b[0m \u001b[39mif\u001b[39;00m \u001b[39mself\u001b[39m\u001b[39m.\u001b[39m_selected_obj\u001b[39m.\u001b[39mndim \u001b[39m==\u001b[39m \u001b[39m1\u001b[39m:\n\u001b[0;32m--> 442\u001b[0m     \u001b[39mreturn\u001b[39;00m \u001b[39mself\u001b[39;49m\u001b[39m.\u001b[39;49m_apply_series(homogeneous_func, name)\n\u001b[1;32m    444\u001b[0m obj \u001b[39m=\u001b[39m \u001b[39mself\u001b[39m\u001b[39m.\u001b[39m_create_data(\u001b[39mself\u001b[39m\u001b[39m.\u001b[39m_selected_obj)\n\u001b[1;32m    445\u001b[0m \u001b[39mif\u001b[39;00m name \u001b[39m==\u001b[39m \u001b[39m\"\u001b[39m\u001b[39mcount\u001b[39m\u001b[39m\"\u001b[39m:\n\u001b[1;32m    446\u001b[0m     \u001b[39m# GH 12541: Special case for count where we support date-like types\u001b[39;00m\n",
      "File \u001b[0;32m~/anaconda3new/lib/python3.9/site-packages/pandas/core/window/rolling.py:431\u001b[0m, in \u001b[0;36mBaseWindow._apply_series\u001b[0;34m(self, homogeneous_func, name)\u001b[0m\n\u001b[1;32m    428\u001b[0m \u001b[39mexcept\u001b[39;00m (\u001b[39mTypeError\u001b[39;00m, \u001b[39mNotImplementedError\u001b[39;00m) \u001b[39mas\u001b[39;00m err:\n\u001b[1;32m    429\u001b[0m     \u001b[39mraise\u001b[39;00m DataError(\u001b[39m\"\u001b[39m\u001b[39mNo numeric types to aggregate\u001b[39m\u001b[39m\"\u001b[39m) \u001b[39mfrom\u001b[39;00m \u001b[39merr\u001b[39;00m\n\u001b[0;32m--> 431\u001b[0m result \u001b[39m=\u001b[39m homogeneous_func(values)\n\u001b[1;32m    432\u001b[0m \u001b[39mreturn\u001b[39;00m obj\u001b[39m.\u001b[39m_constructor(result, index\u001b[39m=\u001b[39mobj\u001b[39m.\u001b[39mindex, name\u001b[39m=\u001b[39mobj\u001b[39m.\u001b[39mname)\n",
      "File \u001b[0;32m~/anaconda3new/lib/python3.9/site-packages/pandas/core/window/rolling.py:582\u001b[0m, in \u001b[0;36mBaseWindow._apply.<locals>.homogeneous_func\u001b[0;34m(values)\u001b[0m\n\u001b[1;32m    579\u001b[0m     \u001b[39mreturn\u001b[39;00m func(x, start, end, min_periods, \u001b[39m*\u001b[39mnumba_args)\n\u001b[1;32m    581\u001b[0m \u001b[39mwith\u001b[39;00m np\u001b[39m.\u001b[39merrstate(\u001b[39mall\u001b[39m\u001b[39m=\u001b[39m\u001b[39m\"\u001b[39m\u001b[39mignore\u001b[39m\u001b[39m\"\u001b[39m):\n\u001b[0;32m--> 582\u001b[0m     result \u001b[39m=\u001b[39m calc(values)\n\u001b[1;32m    584\u001b[0m \u001b[39mif\u001b[39;00m numba_cache_key \u001b[39mis\u001b[39;00m \u001b[39mnot\u001b[39;00m \u001b[39mNone\u001b[39;00m:\n\u001b[1;32m    585\u001b[0m     NUMBA_FUNC_CACHE[numba_cache_key] \u001b[39m=\u001b[39m func\n",
      "File \u001b[0;32m~/anaconda3new/lib/python3.9/site-packages/pandas/core/window/rolling.py:579\u001b[0m, in \u001b[0;36mBaseWindow._apply.<locals>.homogeneous_func.<locals>.calc\u001b[0;34m(x)\u001b[0m\n\u001b[1;32m    571\u001b[0m start, end \u001b[39m=\u001b[39m window_indexer\u001b[39m.\u001b[39mget_window_bounds(\n\u001b[1;32m    572\u001b[0m     num_values\u001b[39m=\u001b[39m\u001b[39mlen\u001b[39m(x),\n\u001b[1;32m    573\u001b[0m     min_periods\u001b[39m=\u001b[39mmin_periods,\n\u001b[1;32m    574\u001b[0m     center\u001b[39m=\u001b[39m\u001b[39mself\u001b[39m\u001b[39m.\u001b[39mcenter,\n\u001b[1;32m    575\u001b[0m     closed\u001b[39m=\u001b[39m\u001b[39mself\u001b[39m\u001b[39m.\u001b[39mclosed,\n\u001b[1;32m    576\u001b[0m )\n\u001b[1;32m    577\u001b[0m \u001b[39mself\u001b[39m\u001b[39m.\u001b[39m_check_window_bounds(start, end, \u001b[39mlen\u001b[39m(x))\n\u001b[0;32m--> 579\u001b[0m \u001b[39mreturn\u001b[39;00m func(x, start, end, min_periods, \u001b[39m*\u001b[39;49mnumba_args)\n",
      "\u001b[0;31mKeyboardInterrupt\u001b[0m: "
     ]
    }
   ],
   "source": [
    "backtester.optimize_strategy(11,21,45,\"Multiple\")"
   ]
  },
  {
   "cell_type": "code",
   "execution_count": null,
   "metadata": {},
   "outputs": [],
   "source": []
  }
 ],
 "metadata": {
  "kernelspec": {
   "display_name": "Python 3 (ipykernel)",
   "language": "python",
   "name": "python3"
  },
  "language_info": {
   "codemirror_mode": {
    "name": "ipython",
    "version": 3
   },
   "file_extension": ".py",
   "mimetype": "text/x-python",
   "name": "python",
   "nbconvert_exporter": "python",
   "pygments_lexer": "ipython3",
   "version": "3.9.7"
  },
  "orig_nbformat": 4,
  "vscode": {
   "interpreter": {
    "hash": "068ea7741ce38d3fb9b274d22846bd3d9ade9aa2a6123ac7a263f7ca72b4296b"
   }
  }
 },
 "nbformat": 4,
 "nbformat_minor": 2
}
