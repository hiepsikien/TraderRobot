{
 "cells": [
  {
   "cell_type": "code",
   "execution_count": 2,
   "metadata": {},
   "outputs": [],
   "source": [
    "from my_logging import logger\n",
    "from backtester import Futures_Backtester"
   ]
  },
  {
   "cell_type": "code",
   "execution_count": 9,
   "metadata": {},
   "outputs": [],
   "source": [
    "filepath = \"bitcoin.csv\"\n",
    "symbol = \"BTCUSDT\"\n",
    "start = \"2017-08-17\"\n",
    "mid1 = \"2019-09-01\"\n",
    "end = \"2021-10-07\"\n",
    "tc = -0.0006\n",
    "sma_s = 15 \n",
    "sma_m = 50 \n",
    "sma_l = 200 \n",
    "\n"
   ]
  },
  {
   "cell_type": "code",
   "execution_count": 7,
   "metadata": {},
   "outputs": [
    {
     "name": "stdout",
     "output_type": "stream",
     "text": [
      "Initialized future back tester\n"
     ]
    }
   ],
   "source": [
    "backtester = Futures_Backtester(filepath=filepath, symbol=symbol,start=start,end=end,tc=tc)"
   ]
  },
  {
   "cell_type": "code",
   "execution_count": 10,
   "metadata": {},
   "outputs": [
    {
     "name": "stdout",
     "output_type": "stream",
     "text": [
      "Initialized future back tester\n",
      "Initialized future back tester\n"
     ]
    }
   ],
   "source": [
    "backtester1 = Futures_Backtester(filepath=filepath,symbol=symbol,start=start,end=mid1,tc=tc)\n",
    "backtester2: Futures_Backtester = Futures_Backtester(filepath=filepath,symbol=symbol,start=mid1,end=end,tc=tc)\n"
   ]
  },
  {
   "cell_type": "code",
   "execution_count": null,
   "metadata": {},
   "outputs": [],
   "source": [
    "backtester1.test_strategy(smas = (sma_s,sma_m,sma_l))\n",
    "backtester2.test_strategy(smas = (sma_s,sma_m,sma_l))"
   ]
  },
  {
   "cell_type": "code",
   "execution_count": 6,
   "metadata": {},
   "outputs": [
    {
     "name": "stdout",
     "output_type": "stream",
     "text": [
      "SMA_S: 8 | SMA_M: 19 | SMA_L: 24 | Multiple: 44.57138 | Sharpe: 1.87126\n",
      "====================================================================================================\n",
      "TRIPLE SMA STRATEGY | INSTRUMENT = BTCUSDT | SMAs = [8, 19, 24]\n",
      "----------------------------------------------------------------------------------------------------\n",
      "PERFORMANCE MEASURES:\n",
      "\n",
      "\n",
      "Multiple (Strategy):         44.571384\n",
      "Multiple (Buy-and-Hold):     12.652457\n",
      "--------------------------------------\n",
      "Out-/Underperformance:       31.918927\n",
      "\n",
      "\n",
      "CAGR:                        1.503929\n",
      "Annualized Mean:             0.917863\n",
      "Annualized Std:              0.803698\n",
      "Sharpe Ratio:                1.87126\n",
      "====================================================================================================\n"
     ]
    }
   ],
   "source": [
    "backtester.optimize_strategy(8,19,24,\"Multiple\")"
   ]
  },
  {
   "cell_type": "code",
   "execution_count": 15,
   "metadata": {},
   "outputs": [
    {
     "name": "stdout",
     "output_type": "stream",
     "text": [
      "====================================================================================================\n",
      "TRIPLE SMA STRATEGY | INSTRUMENT = BTCUSDT | SMAs = [8, 19, 24]\n",
      "----------------------------------------------------------------------------------------------------\n",
      "PERFORMANCE MEASURES:\n",
      "\n",
      "\n",
      "Multiple (Strategy):         18.708372\n",
      "Multiple (Buy-and-Hold):     2.278799\n",
      "--------------------------------------\n",
      "Out-/Underperformance:       16.429573\n",
      "\n",
      "\n",
      "CAGR:                        3.211893\n",
      "Annualized Mean:             1.43792\n",
      "Annualized Std:              0.888199\n",
      "Sharpe Ratio:                3.616188\n",
      "====================================================================================================\n"
     ]
    }
   ],
   "source": [
    "backtester1.test_strategy(smas=(8,19,24))"
   ]
  },
  {
   "cell_type": "code",
   "execution_count": 16,
   "metadata": {},
   "outputs": [
    {
     "name": "stdout",
     "output_type": "stream",
     "text": [
      "====================================================================================================\n",
      "TRIPLE SMA STRATEGY | INSTRUMENT = BTCUSDT | SMAs = [8, 19, 24]\n",
      "----------------------------------------------------------------------------------------------------\n",
      "PERFORMANCE MEASURES:\n",
      "\n",
      "\n",
      "Multiple (Strategy):         1.583315\n",
      "Multiple (Buy-and-Hold):     5.524611\n",
      "--------------------------------------\n",
      "Out-/Underperformance:       -3.941296\n",
      "\n",
      "\n",
      "CAGR:                        0.244971\n",
      "Annualized Mean:             0.219113\n",
      "Annualized Std:              0.713062\n",
      "Sharpe Ratio:                0.343548\n",
      "====================================================================================================\n"
     ]
    }
   ],
   "source": [
    "backtester2.test_strategy(smas=(8,19,24))"
   ]
  },
  {
   "cell_type": "code",
   "execution_count": 18,
   "metadata": {},
   "outputs": [
    {
     "name": "stdout",
     "output_type": "stream",
     "text": [
      "SMA_S: 9 | SMA_M: 19 | SMA_L: 24 | Multiple: 19.18792 | Sharpe: 3.65539\n",
      "====================================================================================================\n",
      "TRIPLE SMA STRATEGY | INSTRUMENT = BTCUSDT | SMAs = [9, 19, 24]\n",
      "----------------------------------------------------------------------------------------------------\n",
      "PERFORMANCE MEASURES:\n",
      "\n",
      "\n",
      "Multiple (Strategy):         19.187924\n",
      "Multiple (Buy-and-Hold):     2.278799\n",
      "--------------------------------------\n",
      "Out-/Underperformance:       16.909125\n",
      "\n",
      "\n",
      "CAGR:                        3.264554\n",
      "Annualized Mean:             1.450345\n",
      "Annualized Std:              0.89308\n",
      "Sharpe Ratio:                3.655388\n",
      "====================================================================================================\n"
     ]
    }
   ],
   "source": [
    "backtester1.optimize_strategy(11,21,41,\"Multiple\")"
   ]
  },
  {
   "cell_type": "code",
   "execution_count": 19,
   "metadata": {},
   "outputs": [
    {
     "name": "stdout",
     "output_type": "stream",
     "text": [
      "SMA_S: 10 | SMA_M: 17 | SMA_L: 23 | Multiple: 2.20268 | Sharpe: 0.63606\n",
      "====================================================================================================\n",
      "TRIPLE SMA STRATEGY | INSTRUMENT = BTCUSDT | SMAs = [10, 17, 23]\n",
      "----------------------------------------------------------------------------------------------------\n",
      "PERFORMANCE MEASURES:\n",
      "\n",
      "\n",
      "Multiple (Strategy):         2.202681\n",
      "Multiple (Buy-and-Hold):     5.576578\n",
      "--------------------------------------\n",
      "Out-/Underperformance:       -3.373897\n",
      "\n",
      "\n",
      "CAGR:                        0.457232\n",
      "Annualized Mean:             0.376519\n",
      "Annualized Std:              0.718849\n",
      "Sharpe Ratio:                0.636062\n",
      "====================================================================================================\n"
     ]
    }
   ],
   "source": [
    "backtester2.optimize_strategy(11,21,41,\"Multiple\")"
   ]
  },
  {
   "cell_type": "code",
   "execution_count": null,
   "metadata": {},
   "outputs": [],
   "source": []
  }
 ],
 "metadata": {
  "kernelspec": {
   "display_name": "Python 3 (ipykernel)",
   "language": "python",
   "name": "python3"
  },
  "language_info": {
   "codemirror_mode": {
    "name": "ipython",
    "version": 3
   },
   "file_extension": ".py",
   "mimetype": "text/x-python",
   "name": "python",
   "nbconvert_exporter": "python",
   "pygments_lexer": "ipython3",
   "version": "3.9.7"
  },
  "orig_nbformat": 4,
  "vscode": {
   "interpreter": {
    "hash": "068ea7741ce38d3fb9b274d22846bd3d9ade9aa2a6123ac7a263f7ca72b4296b"
   }
  }
 },
 "nbformat": 4,
 "nbformat_minor": 2
}
